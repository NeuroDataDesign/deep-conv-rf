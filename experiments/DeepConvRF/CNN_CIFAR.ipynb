{
 "cells": [
  {
   "cell_type": "code",
   "execution_count": 41,
   "metadata": {},
   "outputs": [],
   "source": [
    "###########################################################################################################\n",
    "# Imports\n",
    "###########################################################################################################\n",
    "import numpy as np\n",
    "\n",
    "import torch\n",
    "import torch.nn as nn\n",
    "from torch.autograd import Variable\n",
    "import torch.utils.data as Data\n",
    "import torch.nn.functional as F\n",
    "import torchvision\n",
    "import torchvision.transforms as transforms\n",
    "import matplotlib.pyplot as plt\n",
    "\n",
    "import time\n",
    "import progressbar\n",
    "import warnings\n",
    "import copy\n",
    "from multiprocessing import cpu_count\n",
    "from torch.multiprocessing import Pool\n",
    "\n",
    "plt.style.use('seaborn')"
   ]
  },
  {
   "cell_type": "code",
   "execution_count": 2,
   "metadata": {},
   "outputs": [],
   "source": [
    "warnings.filterwarnings(\"ignore\")\n",
    "torch.set_num_threads(1)\n",
    "\n",
    "cifar_data_path = \"data\"\n",
    "\n",
    "BATCH_SIZE = 32\n",
    "NUM_CLASSES = 2\n",
    "EPOCH = 100\n",
    "TRAIN_FRACTION = 1.0\n",
    "CLASS1 = 1\n",
    "CLASS2 = 9"
   ]
  },
  {
   "cell_type": "code",
   "execution_count": 3,
   "metadata": {},
   "outputs": [
    {
     "name": "stdout",
     "output_type": "stream",
     "text": [
      "==> Preparing data..\n",
      "Files already downloaded and verified\n",
      "Files already downloaded and verified\n"
     ]
    }
   ],
   "source": [
    "###########################################################################################################\n",
    "# Data Preparation\n",
    "###########################################################################################################\n",
    "\n",
    "print('==> Preparing data..')\n",
    "\n",
    "# transform\n",
    "transform = transforms.Compose([\n",
    "    transforms.ToTensor(),\n",
    "    transforms.Normalize((0.4914, 0.4822, 0.4465), (0.2023, 0.1994, 0.2010)),\n",
    "])\n",
    "\n",
    "trainset = torchvision.datasets.CIFAR10(\n",
    "    root=cifar_data_path, train=True, download=True, transform=transform)\n",
    "testset = torchvision.datasets.CIFAR10(\n",
    "    root=cifar_data_path, train=False, download=True, transform=transform)"
   ]
  },
  {
   "cell_type": "code",
   "execution_count": 4,
   "metadata": {},
   "outputs": [],
   "source": [
    "###############################################################################\n",
    "# Different CNN Architectures\n",
    "###############################################################################\n",
    "\n",
    "\n",
    "class SimpleCNN1layer(nn.Module):\n",
    "\n",
    "    def __init__(self, num_filters, num_classes):\n",
    "        super(SimpleCNN1layer, self).__init__()\n",
    "        self.conv1 = nn.Conv2d(3, num_filters, kernel_size=10, stride=2)\n",
    "        self.fc1 = nn.Linear(144*num_filters, num_classes)\n",
    "\n",
    "    def forward(self, x):\n",
    "        x = F.relu(self.conv1(x))\n",
    "        x = x.view(x.shape[0], x.shape[1]*x.shape[2]*x.shape[3])\n",
    "        x = F.log_softmax(self.fc1(x), dim=1)\n",
    "        return(x)\n",
    "\n",
    "\n",
    "class SimpleCNN2Layers(nn.Module):\n",
    "\n",
    "    def __init__(self, num_filters, num_classes):\n",
    "        super(SimpleCNN2Layers, self).__init__()\n",
    "        self.conv1 = nn.Conv2d(3, num_filters, kernel_size=10, stride=2)\n",
    "        self.conv2 = nn.Conv2d(num_filters, num_filters, kernel_size=7, stride=1)\n",
    "        self.fc1 = nn.Linear(36*num_filters, num_classes)\n",
    "\n",
    "    def forward(self, x):\n",
    "        x = F.relu(self.conv1(x))\n",
    "        x = F.relu(self.conv2(x))\n",
    "        x = x.view(x.shape[0], x.shape[1]*x.shape[2]*x.shape[3])\n",
    "        x = F.log_softmax(self.fc1(x), dim=1)\n",
    "        return(x)"
   ]
  },
  {
   "cell_type": "code",
   "execution_count": 35,
   "metadata": {},
   "outputs": [],
   "source": [
    "###########################################################################################################\n",
    "# Model Trainer\n",
    "###########################################################################################################\n",
    "\n",
    "\n",
    "def train_model(model, train_loader, test_loader, optimizer, scheduler, EPOCH, config):\n",
    "    t0 = time.perf_counter()\n",
    "\n",
    "    Loss_train = np.zeros((EPOCH,))\n",
    "    Loss_test = np.zeros((EPOCH,))\n",
    "    Acc_test = np.zeros((EPOCH,))\n",
    "    Acc_train = np.zeros((EPOCH,))\n",
    "    Time_test = np.zeros((EPOCH,))\n",
    "\n",
    "    bar = progressbar.ProgressBar(min_value=0, max_value=EPOCH-1)\n",
    "    for epoch in range(EPOCH):\n",
    "        bar.update(epoch)\n",
    "        scheduler.step()\n",
    "\n",
    "        # train 1 epoch\n",
    "        model.train()\n",
    "        correct = 0\n",
    "        train_loss = 0\n",
    "        for step, (x, y) in enumerate(train_loader):\n",
    "            b_x = Variable(x)\n",
    "            b_y = Variable(y)\n",
    "            scores = model(b_x)\n",
    "            loss = F.nll_loss(scores, b_y)      # negative log likelyhood\n",
    "            optimizer.zero_grad()               # clear gradients for this training step\n",
    "            loss.backward()                     # backpropagation, compute gradients\n",
    "            optimizer.step()                    # apply gradients\n",
    "            model.zero_grad()\n",
    "\n",
    "            # computing training accuracy\n",
    "            pred = scores.data.max(1, keepdim=True)[1]\n",
    "            correct += pred.eq(b_y.data.view_as(pred)).long().cpu().sum()\n",
    "            train_loss += F.nll_loss(scores, b_y, reduction='sum').item()\n",
    "\n",
    "        Acc_train[epoch] = 100 * float(correct) / float(len(train_loader.dataset))\n",
    "        Loss_train[epoch] = train_loss / len(train_loader.dataset)\n",
    "\n",
    "        # testing\n",
    "        model.eval()\n",
    "        correct = 0\n",
    "        test_loss = 0\n",
    "        for step, (x, y) in enumerate(test_loader):\n",
    "            b_x = Variable(x)\n",
    "            b_y = Variable(y)\n",
    "            scores = model(b_x)\n",
    "            test_loss += F.nll_loss(scores, b_y, reduction='sum').item()\n",
    "            pred = scores.data.max(1, keepdim=True)[1]\n",
    "            correct += pred.eq(b_y.data.view_as(pred)).long().cpu().sum()\n",
    "\n",
    "        Loss_test[epoch] = test_loss/len(test_loader.dataset)\n",
    "        Acc_test[epoch] = 100 * float(correct) / float(len(test_loader.dataset))\n",
    "        Time_test[epoch] = time.perf_counter()-t0\n",
    "\n",
    "    return [Acc_train, Acc_test, Loss_train, Loss_test, config]"
   ]
  },
  {
   "cell_type": "code",
   "execution_count": 36,
   "metadata": {},
   "outputs": [],
   "source": [
    "###########################################################################################################\n",
    "# Model Trainer Helper\n",
    "###########################################################################################################\n",
    "\n",
    "\n",
    "def cnn_train_test(model, fraction_of_train_samples, config, class1, class2):\n",
    "    print(\"Experiment:\", str(config))\n",
    "\n",
    "    # set params\n",
    "    learning_rate = config[\"lr\"]\n",
    "    weight_decay = config[\"weight_decay\"]\n",
    "\n",
    "    # get only train images and labels for two classes\n",
    "    cifar_train_labels = trainset.targets\n",
    "    cifar_test_labels = testset.targets\n",
    "\n",
    "    indx_0 = np.argwhere(np.asarray(cifar_train_labels) == class1).flatten()\n",
    "    indx_0 = indx_0[:int(len(indx_0) * fraction_of_train_samples)]\n",
    "    indx_1 = np.argwhere(np.asarray(cifar_train_labels) == class2).flatten()\n",
    "    indx_1 = indx_1[:int(len(indx_1) * fraction_of_train_samples)]\n",
    "    indx = np.concatenate([indx_0, indx_1])\n",
    "\n",
    "    trainset_sub = copy.deepcopy(trainset)\n",
    "    trainset_sub.data = trainset_sub.data[indx, :, :, :]\n",
    "    trainset_sub.targets = np.asarray(trainset_sub.targets)[indx]\n",
    "    trainset_sub.targets[trainset_sub.targets == class1] = 0\n",
    "    trainset_sub.targets[trainset_sub.targets == class2] = 1\n",
    "\n",
    "    indx_0 = np.asarray(cifar_test_labels) == class1\n",
    "    indx_1 = np.asarray(cifar_test_labels) == class2\n",
    "    indx = indx_0 + indx_1\n",
    "\n",
    "    testset_sub = copy.deepcopy(testset)\n",
    "    testset_sub.data = testset_sub.data[indx, :, :, :]\n",
    "    testset_sub.targets = np.asarray(testset_sub.targets)[indx]\n",
    "    testset_sub.targets[testset_sub.targets == class1] = 0\n",
    "    testset_sub.targets[testset_sub.targets == class2] = 1\n",
    "\n",
    "    train_loader = Data.DataLoader(dataset=trainset_sub, batch_size=BATCH_SIZE, shuffle=True)\n",
    "    test_loader = Data.DataLoader(dataset=testset_sub, batch_size=BATCH_SIZE, shuffle=False)\n",
    "\n",
    "    optimizer = torch.optim.SGD(model.parameters(), lr=learning_rate,\n",
    "                                momentum=.9, weight_decay=weight_decay)\n",
    "    scheduler = torch.optim.lr_scheduler.StepLR(optimizer, step_size=EPOCH/3, gamma=.1)\n",
    "\n",
    "    return train_model(model, train_loader, test_loader, optimizer, scheduler, EPOCH, config)"
   ]
  },
  {
   "cell_type": "code",
   "execution_count": 37,
   "metadata": {},
   "outputs": [],
   "source": [
    "def plot(acc_train, acc_test, loss_train, loss_test):\n",
    "    plt.figure()\n",
    "    plt.subplot(1,2,1)\n",
    "    plt.plot(acc_train,label= 'Acc. Train')\n",
    "    plt.plot(acc_test,label= 'Acc. Test')\n",
    "    plt.legend()\n",
    "    plt.subplot(1,2,2)\n",
    "    plt.plot(loss_train,label= 'Loss Train')\n",
    "    plt.plot(loss_test,label= 'Loss Test')\n",
    "    plt.grid(True)\n",
    "    plt.xlabel('Epoch')\n",
    "    plt.legend()\n",
    "    plt.show()\n",
    "    plt.clf()"
   ]
  },
  {
   "cell_type": "code",
   "execution_count": 39,
   "metadata": {},
   "outputs": [
    {
     "name": "stdout",
     "output_type": "stream",
     "text": [
      "Experiment {'lr': 1e-05, 'weight_decay': 1}\n"
     ]
    },
    {
     "data": {
      "image/png": "[encoded data removed]",
      "text/plain": [
       "<Figure size 432x288 with 2 Axes>"
      ]
     },
     "metadata": {
      "needs_background": "light"
     },
     "output_type": "display_data"
    },
    {
     "data": {
      "text/plain": [
       "<Figure size 432x288 with 0 Axes>"
      ]
     },
     "metadata": {},
     "output_type": "display_data"
    }
   ],
   "source": [
    "# test code\n",
    "EPOCH=10\n",
    "cnn_config = {\"lr\": 1e-5, \"weight_decay\": 1}\n",
    "acc_train, acc_test, loss_train, loss_test, _ = cnn_train_test(SimpleCNN1layer(32, NUM_CLASSES), TRAIN_FRACTION, cnn_config, CLASS1, CLASS2)\n",
    "plot(acc_train, acc_test, loss_train, loss_test)"
   ]
  },
  {
   "cell_type": "code",
   "execution_count": 47,
   "metadata": {},
   "outputs": [],
   "source": [
    "# # run search (serial)\n",
    "# experiment_logs = list()\n",
    "# for model_id, m in enumerate(cnn_model_space):\n",
    "#     for l in lr_space:\n",
    "#         for w in weight_decay:\n",
    "#             cnn_config = {\"model\": model_id, \"lr\": l, \"weight_decay\": w}\n",
    "#             print(\"Experiment\", str(cnn_config))\n",
    "#             acc_train, acc_test, loss_train, loss_test, _ = cnn_train_test(m, TRAIN_FRACTION, cnn_config, CLASS1, CLASS2)\n",
    "#             experiment_logs.append((cnn_config, (acc_train, acc_test, loss_train, loss_test)))\n",
    "#             np.save(\"grid_search_best_cnn_params.npy\", np.array(experiment_logs))"
   ]
  },
  {
   "cell_type": "code",
   "execution_count": 44,
   "metadata": {},
   "outputs": [],
   "source": [
    "# search space\n",
    "cnn_model_space = [SimpleCNN1layer(1, NUM_CLASSES), SimpleCNN1layer(\n",
    "    32, NUM_CLASSES), SimpleCNN2Layers(32, NUM_CLASSES)]  # [0, 1, 2]\n",
    "lr_space = np.geomspace(1e-6, 1e3, num=10)\n",
    "weight_decay = np.geomspace(1e-6, 1e3, num=10)\n",
    "\n",
    "param_dicts = list()\n",
    "for model_id, m in enumerate(cnn_model_space):\n",
    "    for l in lr_space:\n",
    "        for w in weight_decay:\n",
    "            param_dict = {\"model\": copy.deepcopy(m), \"fraction_of_train_samples\": TRAIN_FRACTION, \"config\": {\n",
    "                \"model\": model_id, \"lr\": l, \"weight_decay\": w}, \"class1\": CLASS1, \"class2\": CLASS2}\n",
    "            param_dicts.append(param_dict)"
   ]
  },
  {
   "cell_type": "code",
   "execution_count": null,
   "metadata": {},
   "outputs": [],
   "source": [
    "def cnn_train_test_unpack(args):\n",
    "    return cnn_train_test(**args)\n",
    "\n",
    "with Pool(int(cpu_count()/torch.get_num_threads())) as p:\n",
    "    experiment_logs = p.map(cnn_train_test_unpack, param_dicts)\n",
    "np.save(\"grid_search_best_cnn_logs.npy\", np.array(experiment_logs))"
   ]
  },
  {
   "cell_type": "code",
   "execution_count": null,
   "metadata": {},
   "outputs": [],
   "source": [
    "# try\n",
    "experiment_logs = np.load(\"grid_search_best_cnn_logs.npy\")\n",
    "test_exp = 117\n",
    "print(experiment_logs[test_exp])\n",
    "acc_train, acc_test, loss_train, loss_test, _ = cnn_train_test(cnn_model_space[experiment_logs[test_exp][2][\"model\"]], TRAIN_FRACTION, experiment_logs[experiment_logs[test_exp]][2], CLASS1, CLASS2)\n",
    "plot(acc_train, acc_test, loss_train, loss_test)"
   ]
  },
  {
   "cell_type": "code",
   "execution_count": null,
   "metadata": {},
   "outputs": [],
   "source": [
    "# plot all curves\n",
    "for acc_train, acc_test, loss_train, loss_test, config in experiment_logs:\n",
    "    print(config)\n",
    "    plot(acc_train, acc_test, loss_train, loss_test)"
   ]
  },
  {
   "cell_type": "code",
   "execution_count": null,
   "metadata": {},
   "outputs": [],
   "source": [
    "model_0, model_1, model_2 = [[i for i in experiment_logs if i[4][\"model\"] == x] for x in [0, 1, 2]]"
   ]
  },
  {
   "cell_type": "code",
   "execution_count": null,
   "metadata": {},
   "outputs": [],
   "source": [
    "# sort based on best test accuracy\n",
    "model_0 = sorted(model_0, key=lambda x: x[1][-1], reverse=True)\n",
    "model_1 = sorted(model_1, key=lambda x: x[1][-1], reverse=True)\n",
    "model_2 = sorted(model_2, key=lambda x: x[1][-1], reverse=True)"
   ]
  },
  {
   "cell_type": "code",
   "execution_count": null,
   "metadata": {},
   "outputs": [],
   "source": [
    "top_n = 10"
   ]
  },
  {
   "cell_type": "code",
   "execution_count": null,
   "metadata": {},
   "outputs": [],
   "source": [
    "for acc_train, acc_test, loss_train, loss_test, config in model_0[:top_n]:\n",
    "    print(config)\n",
    "    plot(acc_train, acc_test, loss_train, loss_test)"
   ]
  },
  {
   "cell_type": "code",
   "execution_count": null,
   "metadata": {},
   "outputs": [],
   "source": [
    "for acc_train, acc_test, loss_train, loss_test, config in model_1[:top_n]:\n",
    "    print(config)\n",
    "    plot(acc_train, acc_test, loss_train, loss_test)"
   ]
  },
  {
   "cell_type": "code",
   "execution_count": null,
   "metadata": {},
   "outputs": [],
   "source": [
    "for acc_train, acc_test, loss_train, loss_test, config in model_2[:top_n]:\n",
    "    print(config)\n",
    "    plot(acc_train, acc_test, loss_train, loss_test)"
   ]
  }
 ],
 "metadata": {
  "kernelspec": {
   "display_name": "Python 3",
   "language": "python",
   "name": "python3"
  },
  "language_info": {
   "codemirror_mode": {
    "name": "ipython",
    "version": 3
   },
   "file_extension": ".py",
   "mimetype": "text/x-python",
   "name": "python",
   "nbconvert_exporter": "python",
   "pygments_lexer": "ipython3",
   "version": "3.6.5"
  }
 },
 "nbformat": 4,
 "nbformat_minor": 2
}
