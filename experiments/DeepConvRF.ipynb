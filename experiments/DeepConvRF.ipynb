{
 "cells": [
  {
   "cell_type": "code",
   "execution_count": 110,
   "metadata": {},
   "outputs": [],
   "source": [
    "import numpy as np"
   ]
  },
  {
   "cell_type": "code",
   "execution_count": 170,
   "metadata": {},
   "outputs": [],
   "source": [
    "def convolve_generate_data(images, labels, kernel_size=3, stride=1, flatten=False):\n",
    "    batch_size, in_dim, _, num_channels = images.shape # image dimensions\n",
    "    \n",
    "    out_dim = int((in_dim - kernel_size) / stride) + 1 # calculate output dimensions\n",
    "    \n",
    "#     print(out_dim)\n",
    "    \n",
    "    # create the matrix to hold the chopped images\n",
    "    out_images = np.zeros((batch_size, out_dim, out_dim, kernel_size, kernel_size, num_channels))\n",
    "    out_labels = np.zeros((batch_size, out_dim, out_dim))\n",
    "    \n",
    "#     print(out.shape)\n",
    "\n",
    "    curr_y = out_y = 0\n",
    "    # move kernel vertically across the image\n",
    "    while curr_y + kernel_size <= in_dim:\n",
    "        curr_x = out_x = 0\n",
    "        # move kernel horizontally across the image\n",
    "        while curr_x + kernel_size <= in_dim:\n",
    "#             print(out_x, out_y)\n",
    "            # chop images\n",
    "            out_images[:, out_x, out_y] = images[:, curr_x:curr_x+kernel_size, curr_y:curr_y+kernel_size, :]\n",
    "            curr_x += stride\n",
    "            out_x += 1\n",
    "        curr_y += stride\n",
    "        out_y += 1\n",
    "    \n",
    "    if flatten:\n",
    "        out_images = out_images.reshape(batch_size, out_dim, out_dim, -1)\n",
    "    out_labels[:,] = labels.reshape(-1, 1, 1)\n",
    "    return out_images, out_labels, out_dim"
   ]
  },
  {
   "cell_type": "code",
   "execution_count": 112,
   "metadata": {},
   "outputs": [],
   "source": [
    "image = np.arange(2592).reshape(32,9,9,1)\n",
    "# print(image)"
   ]
  },
  {
   "cell_type": "code",
   "execution_count": 113,
   "metadata": {},
   "outputs": [
    {
     "data": {
      "text/plain": [
       "(7, 7, 3, 3, 1)"
      ]
     },
     "execution_count": 113,
     "metadata": {},
     "output_type": "execute_result"
    }
   ],
   "source": [
    "get_sub_images(image, flatten=False)[1].shape"
   ]
  },
  {
   "cell_type": "code",
   "execution_count": 114,
   "metadata": {},
   "outputs": [
    {
     "data": {
      "text/plain": [
       "(7, 7, 9)"
      ]
     },
     "execution_count": 114,
     "metadata": {},
     "output_type": "execute_result"
    }
   ],
   "source": [
    "get_sub_images(image, flatten=True)[1].shape"
   ]
  },
  {
   "cell_type": "code",
   "execution_count": 115,
   "metadata": {},
   "outputs": [
    {
     "data": {
      "text/plain": [
       "(32, 7, 7, 3, 3, 1)"
      ]
     },
     "execution_count": 115,
     "metadata": {},
     "output_type": "execute_result"
    }
   ],
   "source": [
    "get_sub_images(image, flatten=False).shape"
   ]
  },
  {
   "cell_type": "code",
   "execution_count": 116,
   "metadata": {},
   "outputs": [],
   "source": [
    "import torchvision.datasets as datasets"
   ]
  },
  {
   "cell_type": "code",
   "execution_count": 117,
   "metadata": {},
   "outputs": [],
   "source": [
    "mnist_trainset = datasets.MNIST(root='./data', train=True, download=True, transform=None)"
   ]
  },
  {
   "cell_type": "code",
   "execution_count": 118,
   "metadata": {},
   "outputs": [],
   "source": [
    "mnist_testset = datasets.MNIST(root='./data', train=False, download=True, transform=None)"
   ]
  },
  {
   "cell_type": "code",
   "execution_count": 269,
   "metadata": {},
   "outputs": [],
   "source": [
    "mnist_train_images = mnist_trainset.train_data.numpy()[..., np.newaxis][:100]\n",
    "mnist_train_labels = mnist_trainset.train_labels.numpy()[:100]\n",
    "mnist_test_images = mnist_testset.test_data.numpy()[..., np.newaxis]\n",
    "mnist_test_labels = mnist_testset.test_labels.numpy()"
   ]
  },
  {
   "cell_type": "code",
   "execution_count": 280,
   "metadata": {},
   "outputs": [],
   "source": [
    "from sklearn import preprocessing\n",
    "lb = preprocessing.LabelBinarizer()\n",
    "mnist_train_labels = lb.fit(mnist_train_labels).\n",
    "mnist_test_labels = lb.fit(mnist_test_labels)"
   ]
  },
  {
   "cell_type": "code",
   "execution_count": 281,
   "metadata": {},
   "outputs": [
    {
     "ename": "AttributeError",
     "evalue": "'LabelBinarizer' object has no attribute 'reshape'",
     "output_type": "error",
     "traceback": [
      "\u001b[0;31m---------------------------------------------------------------------------\u001b[0m",
      "\u001b[0;31mAttributeError\u001b[0m                            Traceback (most recent call last)",
      "\u001b[0;32m<ipython-input-281-f89754e3ed55>\u001b[0m in \u001b[0;36m<module>\u001b[0;34m()\u001b[0m\n\u001b[0;32m----> 1\u001b[0;31m \u001b[0mmnist_train_images_sub\u001b[0m\u001b[0;34m,\u001b[0m \u001b[0mmnist_train_labels_sub\u001b[0m\u001b[0;34m,\u001b[0m \u001b[0mout_dim\u001b[0m \u001b[0;34m=\u001b[0m \u001b[0mconvolve_generate_data\u001b[0m\u001b[0;34m(\u001b[0m\u001b[0mmnist_train_images\u001b[0m\u001b[0;34m,\u001b[0m \u001b[0mmnist_train_labels\u001b[0m\u001b[0;34m,\u001b[0m \u001b[0mkernel_size\u001b[0m\u001b[0;34m=\u001b[0m\u001b[0;36m3\u001b[0m\u001b[0;34m,\u001b[0m \u001b[0mflatten\u001b[0m\u001b[0;34m=\u001b[0m\u001b[0;32mTrue\u001b[0m\u001b[0;34m)\u001b[0m\u001b[0;34m\u001b[0m\u001b[0m\n\u001b[0m",
      "\u001b[0;32m<ipython-input-170-ce74e1acc598>\u001b[0m in \u001b[0;36mconvolve_generate_data\u001b[0;34m(images, labels, kernel_size, stride, flatten)\u001b[0m\n\u001b[1;32m     28\u001b[0m     \u001b[0;32mif\u001b[0m \u001b[0mflatten\u001b[0m\u001b[0;34m:\u001b[0m\u001b[0;34m\u001b[0m\u001b[0m\n\u001b[1;32m     29\u001b[0m         \u001b[0mout_images\u001b[0m \u001b[0;34m=\u001b[0m \u001b[0mout_images\u001b[0m\u001b[0;34m.\u001b[0m\u001b[0mreshape\u001b[0m\u001b[0;34m(\u001b[0m\u001b[0mbatch_size\u001b[0m\u001b[0;34m,\u001b[0m \u001b[0mout_dim\u001b[0m\u001b[0;34m,\u001b[0m \u001b[0mout_dim\u001b[0m\u001b[0;34m,\u001b[0m \u001b[0;34m-\u001b[0m\u001b[0;36m1\u001b[0m\u001b[0;34m)\u001b[0m\u001b[0;34m\u001b[0m\u001b[0m\n\u001b[0;32m---> 30\u001b[0;31m     \u001b[0mout_labels\u001b[0m\u001b[0;34m[\u001b[0m\u001b[0;34m:\u001b[0m\u001b[0;34m,\u001b[0m\u001b[0;34m]\u001b[0m \u001b[0;34m=\u001b[0m \u001b[0mlabels\u001b[0m\u001b[0;34m.\u001b[0m\u001b[0mreshape\u001b[0m\u001b[0;34m(\u001b[0m\u001b[0;34m-\u001b[0m\u001b[0;36m1\u001b[0m\u001b[0;34m,\u001b[0m \u001b[0;36m1\u001b[0m\u001b[0;34m,\u001b[0m \u001b[0;36m1\u001b[0m\u001b[0;34m)\u001b[0m\u001b[0;34m\u001b[0m\u001b[0m\n\u001b[0m\u001b[1;32m     31\u001b[0m     \u001b[0;32mreturn\u001b[0m \u001b[0mout_images\u001b[0m\u001b[0;34m,\u001b[0m \u001b[0mout_labels\u001b[0m\u001b[0;34m,\u001b[0m \u001b[0mout_dim\u001b[0m\u001b[0;34m\u001b[0m\u001b[0m\n",
      "\u001b[0;31mAttributeError\u001b[0m: 'LabelBinarizer' object has no attribute 'reshape'"
     ]
    }
   ],
   "source": [
    "mnist_train_images_sub, mnist_train_labels_sub, out_dim = convolve_generate_data(mnist_train_images, mnist_train_labels, kernel_size=3, flatten=True)"
   ]
  },
  {
   "cell_type": "code",
   "execution_count": 271,
   "metadata": {},
   "outputs": [
    {
     "name": "stdout",
     "output_type": "stream",
     "text": [
      "[  1. 154. 253.   0. 139. 253.   0.  11. 190.]\n",
      "5.0\n"
     ]
    }
   ],
   "source": [
    "print(mnist_train_images_sub[0][10][10])\n",
    "print(mnist_train_labels_sub[0][12][10])"
   ]
  },
  {
   "cell_type": "code",
   "execution_count": 272,
   "metadata": {},
   "outputs": [],
   "source": [
    "from matplotlib import pyplot as plt\n",
    "%matplotlib inline "
   ]
  },
  {
   "cell_type": "code",
   "execution_count": 273,
   "metadata": {},
   "outputs": [
    {
     "data": {
      "image/png": "[encoded data removed]",
      "text/plain": [
       "<Figure size 432x288 with 1 Axes>"
      ]
     },
     "metadata": {
      "needs_background": "light"
     },
     "output_type": "display_data"
    }
   ],
   "source": [
    "plt.imshow(mnist_train_images_sub[0][9][13].reshape(3,3), interpolation='nearest')\n",
    "plt.show()"
   ]
  },
  {
   "cell_type": "code",
   "execution_count": 274,
   "metadata": {},
   "outputs": [],
   "source": [
    "from sklearn.ensemble import RandomForestClassifier\n",
    "from sklearn.metrics import accuracy_score\n",
    "from sklearn.metrics import confusion_matrix"
   ]
  },
  {
   "cell_type": "code",
   "execution_count": 275,
   "metadata": {},
   "outputs": [
    {
     "data": {
      "text/plain": [
       "RandomForestClassifier(bootstrap=True, class_weight=None, criterion='gini',\n",
       "            max_depth=None, max_features='auto', max_leaf_nodes=None,\n",
       "            min_impurity_decrease=0.0, min_impurity_split=None,\n",
       "            min_samples_leaf=1, min_samples_split=2,\n",
       "            min_weight_fraction_leaf=0.0, n_estimators=10, n_jobs=1,\n",
       "            oob_score=False, random_state=None, verbose=0,\n",
       "            warm_start=False)"
      ]
     },
     "execution_count": 275,
     "metadata": {},
     "output_type": "execute_result"
    }
   ],
   "source": [
    "clf = RandomForestClassifier()\n",
    "clf.fit(mnist_train_images_sub[:,1,1],mnist_train_labels_sub[:,1,1])"
   ]
  },
  {
   "cell_type": "code",
   "execution_count": 276,
   "metadata": {},
   "outputs": [],
   "source": [
    "stacked_classifiers = [[0]*out_dim for _ in range(out_dim)]\n",
    "for i in range(out_dim):\n",
    "    for j in range(out_dim):\n",
    "        clf = RandomForestClassifier()\n",
    "        clf.fit(mnist_train_images_sub[:, i, j], mnist_train_labels_sub[:, i, j])\n",
    "        stacked_classifiers[i][j] = clf"
   ]
  },
  {
   "cell_type": "code",
   "execution_count": 279,
   "metadata": {},
   "outputs": [
    {
     "name": "stdout",
     "output_type": "stream",
     "text": [
      "(10000,)\n",
      "(10000,)\n",
      "(10000,)\n",
      "(10000,)\n",
      "(10000,)\n",
      "(10000,)\n",
      "(10000,)\n",
      "(10000,)\n",
      "(10000,)\n",
      "(10000,)\n",
      "(10000,)\n",
      "(10000,)\n",
      "(10000,)\n",
      "(10000,)\n",
      "(10000,)\n",
      "(10000,)\n",
      "(10000,)\n",
      "(10000,)\n",
      "(10000,)\n",
      "(10000,)\n",
      "(10000,)\n",
      "(10000,)\n",
      "(10000,)\n",
      "(10000,)\n",
      "(10000,)\n",
      "(10000,)\n",
      "(10000,)\n",
      "(10000,)\n",
      "(10000,)\n",
      "(10000,)\n",
      "(10000,)\n",
      "(10000,)\n",
      "(10000,)\n",
      "(10000,)\n",
      "(10000,)\n",
      "(10000,)\n",
      "(10000,)\n",
      "(10000,)\n",
      "(10000,)\n",
      "(10000,)\n",
      "(10000,)\n",
      "(10000,)\n",
      "(10000,)\n",
      "(10000,)\n",
      "(10000,)\n",
      "(10000,)\n",
      "(10000,)\n",
      "(10000,)\n",
      "(10000,)\n",
      "(10000,)\n",
      "(10000,)\n",
      "(10000,)\n",
      "(10000,)\n",
      "(10000,)\n",
      "(10000,)\n",
      "(10000,)\n",
      "(10000,)\n",
      "(10000,)\n",
      "(10000,)\n",
      "(10000,)\n",
      "(10000,)\n",
      "(10000,)\n",
      "(10000,)\n",
      "(10000,)\n",
      "(10000,)\n",
      "(10000,)\n",
      "(10000,)\n",
      "(10000,)\n",
      "(10000,)\n",
      "(10000,)\n",
      "(10000,)\n",
      "(10000,)\n",
      "(10000,)\n",
      "(10000,)\n",
      "(10000,)\n",
      "(10000,)\n",
      "(10000,)\n",
      "(10000,)\n",
      "(10000,)\n",
      "(10000,)\n",
      "(10000,)\n",
      "(10000,)\n",
      "(10000,)\n",
      "(10000,)\n",
      "(10000,)\n",
      "(10000,)\n",
      "(10000,)\n",
      "(10000,)\n",
      "(10000,)\n",
      "(10000,)\n",
      "(10000,)\n",
      "(10000,)\n",
      "(10000,)\n",
      "(10000,)\n",
      "(10000,)\n",
      "(10000,)\n",
      "(10000,)\n",
      "(10000,)\n",
      "(10000,)\n",
      "(10000,)\n",
      "(10000,)\n",
      "(10000,)\n",
      "(10000,)\n",
      "(10000,)\n",
      "(10000,)\n",
      "(10000,)\n",
      "(10000,)\n",
      "(10000,)\n",
      "(10000,)\n",
      "(10000,)\n",
      "(10000,)\n",
      "(10000,)\n",
      "(10000,)\n",
      "(10000,)\n",
      "(10000,)\n",
      "(10000,)\n",
      "(10000,)\n",
      "(10000,)\n",
      "(10000,)\n",
      "(10000,)\n",
      "(10000,)\n",
      "(10000,)\n",
      "(10000,)\n",
      "(10000,)\n",
      "(10000,)\n",
      "(10000,)\n",
      "(10000,)\n",
      "(10000,)\n",
      "(10000,)\n",
      "(10000,)\n",
      "(10000,)\n",
      "(10000,)\n",
      "(10000,)\n",
      "(10000,)\n",
      "(10000,)\n",
      "(10000,)\n",
      "(10000,)\n",
      "(10000,)\n",
      "(10000,)\n",
      "(10000,)\n",
      "(10000,)\n",
      "(10000,)\n",
      "(10000,)\n",
      "(10000,)\n",
      "(10000,)\n",
      "(10000,)\n",
      "(10000,)\n",
      "(10000,)\n",
      "(10000,)\n",
      "(10000,)\n",
      "(10000,)\n",
      "(10000,)\n",
      "(10000,)\n",
      "(10000,)\n",
      "(10000,)\n",
      "(10000,)\n",
      "(10000,)\n",
      "(10000,)\n",
      "(10000,)\n",
      "(10000,)\n",
      "(10000,)\n",
      "(10000,)\n",
      "(10000,)\n",
      "(10000,)\n",
      "(10000,)\n",
      "(10000,)\n",
      "(10000,)\n",
      "(10000,)\n",
      "(10000,)\n",
      "(10000,)\n",
      "(10000,)\n",
      "(10000,)\n",
      "(10000,)\n",
      "(10000,)\n",
      "(10000,)\n",
      "(10000,)\n",
      "(10000,)\n",
      "(10000,)\n",
      "(10000,)\n",
      "(10000,)\n",
      "(10000,)\n",
      "(10000,)\n",
      "(10000,)\n",
      "(10000,)\n",
      "(10000,)\n",
      "(10000,)\n",
      "(10000,)\n",
      "(10000,)\n",
      "(10000,)\n",
      "(10000,)\n",
      "(10000,)\n",
      "(10000,)\n",
      "(10000,)\n",
      "(10000,)\n",
      "(10000,)\n",
      "(10000,)\n",
      "(10000,)\n",
      "(10000,)\n",
      "(10000,)\n",
      "(10000,)\n",
      "(10000,)\n",
      "(10000,)\n",
      "(10000,)\n",
      "(10000,)\n",
      "(10000,)\n",
      "(10000,)\n",
      "(10000,)\n",
      "(10000,)\n",
      "(10000,)\n",
      "(10000,)\n",
      "(10000,)\n",
      "(10000,)\n",
      "(10000,)\n",
      "(10000,)\n",
      "(10000,)\n",
      "(10000,)\n",
      "(10000,)\n",
      "(10000,)\n",
      "(10000,)\n",
      "(10000,)\n",
      "(10000,)\n",
      "(10000,)\n",
      "(10000,)\n",
      "(10000,)\n",
      "(10000,)\n",
      "(10000,)\n",
      "(10000,)\n",
      "(10000,)\n",
      "(10000,)\n",
      "(10000,)\n",
      "(10000,)\n",
      "(10000,)\n",
      "(10000,)\n",
      "(10000,)\n",
      "(10000,)\n",
      "(10000,)\n",
      "(10000,)\n",
      "(10000,)\n",
      "(10000,)\n",
      "(10000,)\n",
      "(10000,)\n",
      "(10000,)\n",
      "(10000,)\n",
      "(10000,)\n",
      "(10000,)\n",
      "(10000,)\n",
      "(10000,)\n",
      "(10000,)\n",
      "(10000,)\n",
      "(10000,)\n",
      "(10000,)\n",
      "(10000,)\n",
      "(10000,)\n",
      "(10000,)\n",
      "(10000,)\n",
      "(10000,)\n",
      "(10000,)\n",
      "(10000,)\n",
      "(10000,)\n",
      "(10000,)\n",
      "(10000,)\n",
      "(10000,)\n",
      "(10000,)\n",
      "(10000,)\n",
      "(10000,)\n",
      "(10000,)\n",
      "(10000,)\n",
      "(10000,)\n",
      "(10000,)\n",
      "(10000,)\n",
      "(10000,)\n",
      "(10000,)\n",
      "(10000,)\n",
      "(10000,)\n",
      "(10000,)\n",
      "(10000,)\n",
      "(10000,)\n",
      "(10000,)\n",
      "(10000,)\n",
      "(10000,)\n",
      "(10000,)\n",
      "(10000,)\n",
      "(10000,)\n",
      "(10000,)\n",
      "(10000,)\n",
      "(10000,)\n",
      "(10000,)\n",
      "(10000,)\n",
      "(10000,)\n",
      "(10000,)\n",
      "(10000,)\n",
      "(10000,)\n",
      "(10000,)\n",
      "(10000,)\n",
      "(10000,)\n",
      "(10000,)\n",
      "(10000,)\n",
      "(10000,)\n",
      "(10000,)\n",
      "(10000,)\n",
      "(10000,)\n",
      "(10000,)\n",
      "(10000,)\n",
      "(10000,)\n",
      "(10000,)\n",
      "(10000,)\n",
      "(10000,)\n",
      "(10000,)\n",
      "(10000,)\n",
      "(10000,)\n",
      "(10000,)\n",
      "(10000,)\n",
      "(10000,)\n",
      "(10000,)\n",
      "(10000,)\n",
      "(10000,)\n",
      "(10000,)\n",
      "(10000,)\n",
      "(10000,)\n",
      "(10000,)\n",
      "(10000,)\n",
      "(10000,)\n",
      "(10000,)\n",
      "(10000,)\n",
      "(10000,)\n",
      "(10000,)\n",
      "(10000,)\n",
      "(10000,)\n",
      "(10000,)\n",
      "(10000,)\n",
      "(10000,)\n",
      "(10000,)\n",
      "(10000,)\n",
      "(10000,)\n",
      "(10000,)\n",
      "(10000,)\n",
      "(10000,)\n",
      "(10000,)\n",
      "(10000,)\n",
      "(10000,)\n",
      "(10000,)\n",
      "(10000,)\n",
      "(10000,)\n",
      "(10000,)\n",
      "(10000,)\n",
      "(10000,)\n",
      "(10000,)\n",
      "(10000,)\n",
      "(10000,)\n",
      "(10000,)\n",
      "(10000,)\n",
      "(10000,)\n",
      "(10000,)\n",
      "(10000,)\n",
      "(10000,)\n",
      "(10000,)\n",
      "(10000,)\n",
      "(10000,)\n",
      "(10000,)\n",
      "(10000,)\n",
      "(10000,)\n",
      "(10000,)\n",
      "(10000,)\n",
      "(10000,)\n",
      "(10000,)\n",
      "(10000,)\n",
      "(10000,)\n",
      "(10000,)\n",
      "(10000,)\n",
      "(10000,)\n",
      "(10000,)\n",
      "(10000,)\n",
      "(10000,)\n",
      "(10000,)\n",
      "(10000,)\n",
      "(10000,)\n",
      "(10000,)\n",
      "(10000,)\n",
      "(10000,)\n",
      "(10000,)\n",
      "(10000,)\n",
      "(10000,)\n",
      "(10000,)\n",
      "(10000,)\n",
      "(10000,)\n",
      "(10000,)\n",
      "(10000,)\n",
      "(10000,)\n",
      "(10000,)\n",
      "(10000,)\n",
      "(10000,)\n",
      "(10000,)\n",
      "(10000,)\n",
      "(10000,)\n",
      "(10000,)\n",
      "(10000,)\n",
      "(10000,)\n",
      "(10000,)\n",
      "(10000,)\n",
      "(10000,)\n",
      "(10000,)\n",
      "(10000,)\n",
      "(10000,)\n",
      "(10000,)\n",
      "(10000,)\n",
      "(10000,)\n",
      "(10000,)\n",
      "(10000,)\n",
      "(10000,)\n",
      "(10000,)\n",
      "(10000,)\n",
      "(10000,)\n",
      "(10000,)\n",
      "(10000,)\n",
      "(10000,)\n",
      "(10000,)\n",
      "(10000,)\n",
      "(10000,)\n",
      "(10000,)\n",
      "(10000,)\n",
      "(10000,)\n",
      "(10000,)\n",
      "(10000,)\n",
      "(10000,)\n",
      "(10000,)\n",
      "(10000,)\n",
      "(10000,)\n",
      "(10000,)\n",
      "(10000,)\n",
      "(10000,)\n",
      "(10000,)\n",
      "(10000,)\n",
      "(10000,)\n",
      "(10000,)\n",
      "(10000,)\n",
      "(10000,)\n",
      "(10000,)\n",
      "(10000,)\n",
      "(10000,)\n",
      "(10000,)\n",
      "(10000,)\n",
      "(10000,)\n",
      "(10000,)\n",
      "(10000,)\n",
      "(10000,)\n",
      "(10000,)\n",
      "(10000,)\n",
      "(10000,)\n",
      "(10000,)\n",
      "(10000,)\n",
      "(10000,)\n",
      "(10000,)\n",
      "(10000,)\n",
      "(10000,)\n",
      "(10000,)\n",
      "(10000,)\n",
      "(10000,)\n",
      "(10000,)\n",
      "(10000,)\n",
      "(10000,)\n",
      "(10000,)\n",
      "(10000,)\n",
      "(10000,)\n",
      "(10000,)\n",
      "(10000,)\n",
      "(10000,)\n",
      "(10000,)\n",
      "(10000,)\n",
      "(10000,)\n",
      "(10000,)\n",
      "(10000,)\n",
      "(10000,)\n",
      "(10000,)\n",
      "(10000,)\n",
      "(10000,)\n",
      "(10000,)\n",
      "(10000,)\n",
      "(10000,)\n",
      "(10000,)\n",
      "(10000,)\n",
      "(10000,)\n",
      "(10000,)\n",
      "(10000,)\n",
      "(10000,)\n",
      "(10000,)\n",
      "(10000,)\n",
      "(10000,)\n",
      "(10000,)\n",
      "(10000,)\n",
      "(10000,)\n",
      "(10000,)\n",
      "(10000,)\n",
      "(10000,)\n",
      "(10000,)\n",
      "(10000,)\n",
      "(10000,)\n",
      "(10000,)\n",
      "(10000,)\n",
      "(10000,)\n",
      "(10000,)\n",
      "(10000,)\n",
      "(10000,)\n",
      "(10000,)\n",
      "(10000,)\n",
      "(10000,)\n",
      "(10000,)\n",
      "(10000,)\n",
      "(10000,)\n",
      "(10000,)\n",
      "(10000,)\n",
      "(10000,)\n",
      "(10000,)\n",
      "(10000,)\n",
      "(10000,)\n",
      "(10000,)\n",
      "(10000,)\n",
      "(10000,)\n",
      "(10000,)\n",
      "(10000,)\n",
      "(10000,)\n",
      "(10000,)\n",
      "(10000,)\n",
      "(10000,)\n",
      "(10000,)\n",
      "(10000,)\n",
      "(10000,)\n",
      "(10000,)\n",
      "(10000,)\n",
      "(10000,)\n",
      "(10000,)\n",
      "(10000,)\n",
      "(10000,)\n",
      "(10000,)\n",
      "(10000,)\n",
      "(10000,)\n",
      "(10000,)\n",
      "(10000,)\n",
      "(10000,)\n",
      "(10000,)\n",
      "(10000,)\n",
      "(10000,)\n",
      "(10000,)\n",
      "(10000,)\n",
      "(10000,)\n",
      "(10000,)\n",
      "(10000,)\n",
      "(10000,)\n",
      "(10000,)\n",
      "(10000,)\n",
      "(10000,)\n",
      "(10000,)\n",
      "(10000,)\n",
      "(10000,)\n",
      "(10000,)\n",
      "(10000,)\n",
      "(10000,)\n",
      "(10000,)\n",
      "(10000,)\n",
      "(10000,)\n",
      "(10000,)\n",
      "(10000,)\n",
      "(10000,)\n",
      "(10000,)\n",
      "(10000,)\n",
      "(10000,)\n",
      "(10000,)\n",
      "(10000,)\n",
      "(10000,)\n",
      "(10000,)\n",
      "(10000,)\n",
      "(10000,)\n",
      "(10000,)\n",
      "(10000,)\n",
      "(10000,)\n",
      "(10000,)\n",
      "(10000,)\n",
      "(10000,)\n",
      "(10000,)\n",
      "(10000,)\n",
      "(10000,)\n",
      "(10000,)\n",
      "(10000,)\n",
      "(10000,)\n",
      "(10000,)\n",
      "(10000,)\n",
      "(10000,)\n",
      "(10000,)\n",
      "(10000,)\n",
      "(10000,)\n",
      "(10000,)\n",
      "(10000,)\n",
      "(10000,)\n",
      "(10000,)\n",
      "(10000,)\n",
      "(10000,)\n",
      "(10000,)\n",
      "(10000,)\n",
      "(10000,)\n",
      "(10000,)\n",
      "(10000,)\n",
      "(10000,)\n",
      "(10000,)\n",
      "(10000,)\n",
      "(10000,)\n",
      "(10000,)\n",
      "(10000,)\n",
      "(10000,)\n",
      "(10000,)\n",
      "(10000,)\n",
      "(10000,)\n",
      "(10000,)\n",
      "(10000,)\n",
      "(10000,)\n",
      "(10000,)\n",
      "(10000,)\n",
      "(10000,)\n",
      "(10000,)\n",
      "(10000,)\n",
      "(10000,)\n",
      "(10000,)\n",
      "(10000,)\n",
      "(10000,)\n",
      "(10000,)\n",
      "(10000,)\n",
      "(10000,)\n",
      "(10000,)\n",
      "(10000,)\n",
      "(10000,)\n",
      "(10000,)\n",
      "(10000,)\n",
      "(10000,)\n",
      "(10000,)\n",
      "(10000,)\n",
      "(10000,)\n",
      "(10000,)\n",
      "(10000,)\n",
      "(10000,)\n",
      "(10000,)\n",
      "(10000,)\n",
      "(10000,)\n",
      "(10000,)\n",
      "(10000,)\n",
      "(10000,)\n",
      "(10000,)\n",
      "(10000,)\n",
      "(10000,)\n",
      "(10000,)\n",
      "(10000,)\n",
      "(10000,)\n",
      "(10000,)\n",
      "(10000,)\n",
      "(10000,)\n",
      "(10000,)\n",
      "(10000,)\n",
      "(10000,)\n",
      "(10000,)\n",
      "(10000,)\n",
      "(10000,)\n",
      "(10000,)\n",
      "(10000,)\n",
      "(10000,)\n",
      "(10000,)\n",
      "(10000,)\n",
      "(10000,)\n",
      "(10000,)\n",
      "(10000,)\n",
      "(10000,)\n",
      "(10000,)\n",
      "(10000,)\n",
      "(10000,)\n",
      "(10000,)\n",
      "(10000,)\n",
      "(10000,)\n",
      "(10000,)\n",
      "(10000,)\n",
      "(10000,)\n"
     ]
    }
   ],
   "source": [
    "mnist_test_images_sub, mnist_test_labels_sub, out_dim = convolve_generate_data(mnist_test_images, mnist_test_labels, kernel_size=3, flatten=True)\n",
    "stacked_classifiers_pred = np.zeros((mnist_test_images.shape[0], out_dim, out_dim))\n",
    "for i in range(out_dim):\n",
    "    for j in range(out_dim):\n",
    "        stacked_classifiers_pred[:, i, j] = stacked_classifiers[i][j].predict(mnist_test_images_sub[:, i, j])"
   ]
  },
  {
   "cell_type": "code",
   "execution_count": 178,
   "metadata": {},
   "outputs": [],
   "source": [
    "from scipy import stats"
   ]
  },
  {
   "cell_type": "code",
   "execution_count": 204,
   "metadata": {},
   "outputs": [
    {
     "name": "stdout",
     "output_type": "stream",
     "text": [
      "(10000, 1)\n"
     ]
    }
   ],
   "source": [
    "mode, _ = stats.mode(stacked_classifiers_pred.reshape(len(mnist_test_images), -1), axis=1)\n",
    "print(mode.shape)"
   ]
  },
  {
   "cell_type": "code",
   "execution_count": 205,
   "metadata": {},
   "outputs": [
    {
     "name": "stdout",
     "output_type": "stream",
     "text": [
      "Validation Accuracy: 0.1176\n",
      "[1.]\n"
     ]
    }
   ],
   "source": [
    "print(\"Validation Accuracy: \" + str(accuracy_score(mnist_test_labels,mode)))\n",
    "print(stats.mode(stacked_classifiers_pred[0].flatten())[0])"
   ]
  },
  {
   "cell_type": "code",
   "execution_count": 206,
   "metadata": {},
   "outputs": [
    {
     "name": "stdout",
     "output_type": "stream",
     "text": [
      "Validation Confusion Matrix: \n",
      "[[  41  939    0    0    0    0    0    0    0    0]\n",
      " [   0 1135    0    0    0    0    0    0    0    0]\n",
      " [   0 1032    0    0    0    0    0    0    0    0]\n",
      " [   0 1010    0    0    0    0    0    0    0    0]\n",
      " [   0  982    0    0    0    0    0    0    0    0]\n",
      " [   0  892    0    0    0    0    0    0    0    0]\n",
      " [   0  958    0    0    0    0    0    0    0    0]\n",
      " [   0 1028    0    0    0    0    0    0    0    0]\n",
      " [   0  974    0    0    0    0    0    0    0    0]\n",
      " [   0 1009    0    0    0    0    0    0    0    0]]\n"
     ]
    }
   ],
   "source": [
    "print(\"Validation Confusion Matrix: \\n\" + str(confusion_matrix(mnist_test_labels,mode)))"
   ]
  },
  {
   "cell_type": "code",
   "execution_count": 248,
   "metadata": {},
   "outputs": [],
   "source": [
    "stacked_classifiers_pred_level_1 = np.zeros((mnist_train_images.shape[0], out_dim, out_dim))\n",
    "for i in range(out_dim):\n",
    "    for j in range(out_dim):\n",
    "        stacked_classifiers_pred_level_1[:, i, j] = stacked_classifiers[i][j].predict(mnist_train_images_sub[:, i, j])"
   ]
  },
  {
   "cell_type": "code",
   "execution_count": 249,
   "metadata": {},
   "outputs": [],
   "source": [
    "mnist_train_images_sub_2, mnist_train_labels_sub_2, out_dim_2 = convolve_generate_data(stacked_classifiers_pred_level_1[..., np.newaxis], mnist_train_labels, stride=2, kernel_size=3, flatten=True)"
   ]
  },
  {
   "cell_type": "code",
   "execution_count": 250,
   "metadata": {},
   "outputs": [],
   "source": [
    "stacked_classifiers_2 = [[0]*out_dim_2 for _ in range(out_dim_2)]\n",
    "for i in range(out_dim_2):\n",
    "    for j in range(out_dim_2):\n",
    "        clf = RandomForestClassifier()\n",
    "        clf.fit(mnist_train_images_sub_2[:, i, j],mnist_train_labels_sub_2[:, i, j])\n",
    "        stacked_classifiers_2[i][j] = clf"
   ]
  },
  {
   "cell_type": "code",
   "execution_count": 251,
   "metadata": {},
   "outputs": [],
   "source": [
    "stacked_classifiers_pred_level_2 = np.zeros((mnist_train_images.shape[0], out_dim_2, out_dim_2))\n",
    "for i in range(out_dim_2):\n",
    "    for j in range(out_dim_2):\n",
    "        stacked_classifiers_pred_level_2[:, i, j] = stacked_classifiers_2[i][j].predict(mnist_train_images_sub_2[:, i, j])"
   ]
  },
  {
   "cell_type": "code",
   "execution_count": 252,
   "metadata": {},
   "outputs": [],
   "source": [
    "mode, _ = stats.mode(stacked_classifiers_pred_level_2.reshape(len(mnist_train_images), -1), axis=1)"
   ]
  },
  {
   "cell_type": "code",
   "execution_count": 253,
   "metadata": {},
   "outputs": [
    {
     "name": "stdout",
     "output_type": "stream",
     "text": [
      "Validation Accuracy: 0.9612666666666667\n",
      "[5.]\n"
     ]
    }
   ],
   "source": [
    "print(\"Validation Accuracy: \" + str(accuracy_score(mnist_train_labels,mode)))\n",
    "print(stats.mode(stacked_classifiers_pred_level_2[0].flatten())[0])"
   ]
  },
  {
   "cell_type": "code",
   "execution_count": 254,
   "metadata": {},
   "outputs": [
    {
     "name": "stdout",
     "output_type": "stream",
     "text": [
      "Validation Confusion Matrix: \n",
      "[[5904   19    0    0    0    0    0    0    0    0]\n",
      " [   0 6742    0    0    0    0    0    0    0    0]\n",
      " [   0  100 5858    0    0    0    0    0    0    0]\n",
      " [   0  188    0 5943    0    0    0    0    0    0]\n",
      " [   0  212    0    0 5630    0    0    0    0    0]\n",
      " [   0  290    0    0    0 5131    0    0    0    0]\n",
      " [   0  268    0    0    0    0 5650    0    0    0]\n",
      " [   0  191    0    0    0    0    0 6074    0    0]\n",
      " [   0  264    0    0    0    0    0    0 5587    0]\n",
      " [   0  792    0    0    0    0    0    0    0 5157]]\n"
     ]
    }
   ],
   "source": [
    "print(\"Validation Confusion Matrix: \\n\" + str(confusion_matrix(mnist_train_labels,mode)))"
   ]
  },
  {
   "cell_type": "code",
   "execution_count": 255,
   "metadata": {},
   "outputs": [],
   "source": [
    "mnist_train_images_sub_3, mnist_train_labels_sub_3, out_dim_3 = convolve_generate_data(stacked_classifiers_pred_level_2[..., np.newaxis], mnist_train_labels, stride=2, kernel_size=3, flatten=True)"
   ]
  },
  {
   "cell_type": "code",
   "execution_count": 256,
   "metadata": {},
   "outputs": [],
   "source": [
    "stacked_classifiers_3 = [[0]*out_dim_3 for _ in range(out_dim_3)]\n",
    "for i in range(out_dim_3):\n",
    "    for j in range(out_dim_3):\n",
    "        clf = RandomForestClassifier()\n",
    "        clf.fit(mnist_train_images_sub_3[:, i, j],mnist_train_labels_sub_3[:, i, j])\n",
    "        stacked_classifiers_3[i][j] = clf"
   ]
  },
  {
   "cell_type": "code",
   "execution_count": 257,
   "metadata": {},
   "outputs": [],
   "source": [
    "stacked_classifiers_pred_level_3 = np.zeros((mnist_train_images.shape[0], out_dim_3, out_dim_3))\n",
    "for i in range(out_dim_3):\n",
    "    for j in range(out_dim_3):\n",
    "        stacked_classifiers_pred_level_3[:, i, j] = stacked_classifiers_3[i][j].predict(mnist_train_images_sub_3[:, i, j])"
   ]
  },
  {
   "cell_type": "code",
   "execution_count": 258,
   "metadata": {},
   "outputs": [],
   "source": [
    "mode, _ = stats.mode(stacked_classifiers_pred_level_3.reshape(len(mnist_train_images), -1), axis=1)"
   ]
  },
  {
   "cell_type": "code",
   "execution_count": 259,
   "metadata": {},
   "outputs": [
    {
     "name": "stdout",
     "output_type": "stream",
     "text": [
      "Validation Accuracy: 1.0\n",
      "[5.]\n"
     ]
    }
   ],
   "source": [
    "print(\"Validation Accuracy: \" + str(accuracy_score(mnist_train_labels,mode)))\n",
    "print(stats.mode(stacked_classifiers_pred_level_3[0].flatten())[0])"
   ]
  },
  {
   "cell_type": "code",
   "execution_count": 260,
   "metadata": {},
   "outputs": [
    {
     "name": "stdout",
     "output_type": "stream",
     "text": [
      "Validation Confusion Matrix: \n",
      "[[5923    0    0    0    0    0    0    0    0    0]\n",
      " [   0 6742    0    0    0    0    0    0    0    0]\n",
      " [   0    0 5958    0    0    0    0    0    0    0]\n",
      " [   0    0    0 6131    0    0    0    0    0    0]\n",
      " [   0    0    0    0 5842    0    0    0    0    0]\n",
      " [   0    0    0    0    0 5421    0    0    0    0]\n",
      " [   0    0    0    0    0    0 5918    0    0    0]\n",
      " [   0    0    0    0    0    0    0 6265    0    0]\n",
      " [   0    0    0    0    0    0    0    0 5851    0]\n",
      " [   0    0    0    0    0    0    0    0    0 5949]]\n"
     ]
    }
   ],
   "source": [
    "print(\"Validation Confusion Matrix: \\n\" + str(confusion_matrix(mnist_train_labels,mode)))"
   ]
  },
  {
   "cell_type": "code",
   "execution_count": 261,
   "metadata": {},
   "outputs": [],
   "source": [
    "mnist_train_images_sub_4, mnist_train_labels_sub_4, out_dim_4 = convolve_generate_data(stacked_classifiers_pred_level_3[..., np.newaxis], mnist_train_labels, kernel_size=3, flatten=True)\n",
    "stacked_classifiers_4 = [[0]*out_dim_4 for _ in range(out_dim_4)]\n",
    "for i in range(out_dim_4):\n",
    "    for j in range(out_dim_4):\n",
    "        clf = RandomForestClassifier()\n",
    "        clf.fit(mnist_train_images_sub_4[:, i, j],mnist_train_labels_sub_4[:, i, j])\n",
    "        stacked_classifiers_4[i][j] = clf"
   ]
  },
  {
   "cell_type": "code",
   "execution_count": 262,
   "metadata": {},
   "outputs": [
    {
     "name": "stdout",
     "output_type": "stream",
     "text": [
      "Validation Accuracy: 0.4371\n",
      "[7.]\n",
      "Validation Confusion Matrix: \n",
      "[[ 748  228    0    0    0    0    4    0    0    0]\n",
      " [   0 1135    0    0    0    0    0    0    0    0]\n",
      " [  14  563  444    4    0    0    1    5    1    0]\n",
      " [   4  585    3  409    0    0    1    8    0    0]\n",
      " [   0  664    4    0  311    0    0    2    0    1]\n",
      " [   9  765    1   35    0   81    0    1    0    0]\n",
      " [  17  339    1    0    0    0  601    0    0    0]\n",
      " [   0  546    1    0    1    0    0  480    0    0]\n",
      " [  16  850    3    9    1    0    0    1   94    0]\n",
      " [   8  892    1    0    7    0    0   33    0   68]]\n",
      "Validation Accuracy: 0.8343\n",
      "[7.]\n",
      "Validation Confusion Matrix: \n",
      "[[ 870   12   22   11    3   15   35    7    2    3]\n",
      " [   0 1124    6    1    0    0    2    0    2    0]\n",
      " [  16   43  846   53   14    1    6   28   20    5]\n",
      " [  10   20   40  862    1   25    3   28   16    5]\n",
      " [   4   41   15    3  846    3   21    6    5   38]\n",
      " [  16   30   16  146   20  592   16   13   33   10]\n",
      " [  49   20    8    7    9   10  852    0    3    0]\n",
      " [   0   47   29   23   16    5    0  876    3   29]\n",
      " [  30   42   43   59    7   19   16   10  730   18]\n",
      " [  16   37    9   16   60   14    5   86   21  745]]\n"
     ]
    }
   ],
   "source": [
    "stacked_classifiers_pred_level_1 = np.zeros((mnist_test_images.shape[0], out_dim, out_dim))\n",
    "for i in range(out_dim):\n",
    "    for j in range(out_dim):\n",
    "        stacked_classifiers_pred_level_1[:, i, j] = stacked_classifiers[i][j].predict(mnist_test_images_sub[:, i, j])\n",
    "\n",
    "mnist_test_images_sub_2, mnist_test_labels_sub_2, out_dim_2 = convolve_generate_data(stacked_classifiers_pred_level_1[..., np.newaxis], mnist_test_labels, stride=2, kernel_size=3, flatten=True)\n",
    "\n",
    "stacked_classifiers_pred_level_2 = np.zeros((mnist_test_images.shape[0], out_dim_2, out_dim_2))\n",
    "for i in range(out_dim_2):\n",
    "    for j in range(out_dim_2):\n",
    "        stacked_classifiers_pred_level_2[:, i, j] = stacked_classifiers_2[i][j].predict(mnist_test_images_sub_2[:, i, j])\n",
    "\n",
    "mode, _ = stats.mode(stacked_classifiers_pred_level_2.reshape(len(mnist_test_images), -1), axis=1)\n",
    "\n",
    "print(\"Validation Accuracy: \" + str(accuracy_score(mnist_test_labels,mode)))\n",
    "print(stats.mode(stacked_classifiers_pred_level_2[0].flatten())[0])\n",
    "\n",
    "print(\"Validation Confusion Matrix: \\n\" + str(confusion_matrix(mnist_test_labels,mode)))\n",
    "\n",
    "mnist_test_images_sub_3, mnist_test_labels_sub_3, out_dim_3 = convolve_generate_data(stacked_classifiers_pred_level_2[..., np.newaxis], mnist_test_labels, stride=2, kernel_size=3, flatten=True)\n",
    "\n",
    "stacked_classifiers_pred_level_3 = np.zeros((mnist_test_images.shape[0], out_dim_3, out_dim_3))\n",
    "for i in range(out_dim_3):\n",
    "    for j in range(out_dim_3):\n",
    "        stacked_classifiers_pred_level_3[:, i, j] = stacked_classifiers_3[i][j].predict(mnist_test_images_sub_3[:, i, j])\n",
    "\n",
    "mode, _ = stats.mode(stacked_classifiers_pred_level_3.reshape(len(mnist_test_images), -1), axis=1)\n",
    "\n",
    "print(\"Validation Accuracy: \" + str(accuracy_score(mnist_test_labels,mode)))\n",
    "print(stats.mode(stacked_classifiers_pred_level_3[0].flatten())[0])\n",
    "\n",
    "print(\"Validation Confusion Matrix: \\n\" + str(confusion_matrix(mnist_test_labels,mode)))"
   ]
  },
  {
   "cell_type": "code",
   "execution_count": 263,
   "metadata": {},
   "outputs": [
    {
     "name": "stdout",
     "output_type": "stream",
     "text": [
      "(10000, 5, 5)\n"
     ]
    }
   ],
   "source": [
    "print(stacked_classifiers_pred_level_3.shape)"
   ]
  },
  {
   "cell_type": "code",
   "execution_count": 267,
   "metadata": {},
   "outputs": [
    {
     "name": "stdout",
     "output_type": "stream",
     "text": [
      "Validation Accuracy: 0.6883\n",
      "[7.]\n",
      "Validation Confusion Matrix: \n",
      "[[ 699   64   53   30   10   36   46   20    0   22]\n",
      " [   0 1101   21    3    1    2    4    3    0    0]\n",
      " [   6  107  644  108   45   10   20   75    9    8]\n",
      " [   4   34   42  834    6   26    8   43    4    9]\n",
      " [   2   71   28   22  582   60  106   39   13   59]\n",
      " [   2   45   12  193   53  368   43  137   15   24]\n",
      " [  18   49   30   36   62   81  651   22    0    9]\n",
      " [   1   61   36   18   20   12   14  844    4   18]\n",
      " [   5   43   29  131   23   20   58   91  537   37]\n",
      " [   7   34   12   32   39   38   38  120   66  623]]\n"
     ]
    }
   ],
   "source": [
    "mnist_test_images_sub_4, mnist_test_labels_sub_4, out_dim_4 = convolve_generate_data(stacked_classifiers_pred_level_3[..., np.newaxis], mnist_test_labels, kernel_size=3, flatten=True)\n",
    "\n",
    "stacked_classifiers_pred_level_4 = np.zeros((mnist_test_images.shape[0], out_dim_4, out_dim_4))\n",
    "for i in range(out_dim_4):\n",
    "    for j in range(out_dim_4):\n",
    "        stacked_classifiers_pred_level_4[:, i, j] = stacked_classifiers_4[i][j].predict(mnist_test_images_sub_4[:, i, j])\n",
    "\n",
    "mode, _ = stats.mode(stacked_classifiers_pred_level_4.reshape(len(mnist_test_images), -1), axis=1)\n",
    "\n",
    "print(\"Validation Accuracy: \" + str(accuracy_score(mnist_test_labels,mode)))\n",
    "print(stats.mode(stacked_classifiers_pred_level_4[0].flatten())[0])\n",
    "\n",
    "print(\"Validation Confusion Matrix: \\n\" + str(confusion_matrix(mnist_test_labels,mode)))"
   ]
  },
  {
   "cell_type": "code",
   "execution_count": null,
   "metadata": {},
   "outputs": [],
   "source": []
  }
 ],
 "metadata": {
  "kernelspec": {
   "display_name": "Python 3",
   "language": "python",
   "name": "python3"
  },
  "language_info": {
   "codemirror_mode": {
    "name": "ipython",
    "version": 3
   },
   "file_extension": ".py",
   "mimetype": "text/x-python",
   "name": "python",
   "nbconvert_exporter": "python",
   "pygments_lexer": "ipython3",
   "version": "3.6.5"
  }
 },
 "nbformat": 4,
 "nbformat_minor": 2
}
