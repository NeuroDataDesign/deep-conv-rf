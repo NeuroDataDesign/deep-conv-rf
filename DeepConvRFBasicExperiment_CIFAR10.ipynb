{
 "cells": [
  {
   "cell_type": "code",
   "execution_count": 2,
   "metadata": {},
   "outputs": [],
   "source": [
    "# general imports\n",
    "import numpy as np\n",
    "from sklearn.ensemble import RandomForestClassifier\n",
    "from sklearn.metrics import accuracy_score\n",
    "from sklearn.metrics import confusion_matrix\n",
    "import torch"
   ]
  },
  {
   "cell_type": "code",
   "execution_count": 3,
   "metadata": {},
   "outputs": [],
   "source": [
    "# filter python warnings\n",
    "import warnings\n",
    "warnings.filterwarnings(\"ignore\")"
   ]
  },
  {
   "cell_type": "code",
   "execution_count": 4,
   "metadata": {},
   "outputs": [
    {
     "name": "stdout",
     "output_type": "stream",
     "text": [
      "Files already downloaded and verified\n",
      "Files already downloaded and verified\n"
     ]
    }
   ],
   "source": [
    "# prepare CIFAR data\n",
    "import torchvision.datasets as datasets\n",
    "\n",
    "scale = np.mean(np.arange(0, 256))\n",
    "normalize = lambda x: (x - scale) / scale\n",
    "\n",
    "# train data\n",
    "cifar_trainset = datasets.CIFAR10(root='./data', train=True, download=True, transform=None)\n",
    "cifar_train_images = normalize(cifar_trainset.train_data)\n",
    "cifar_train_labels = np.array(cifar_trainset.train_labels)\n",
    "\n",
    "# get only train images and labels for two classes: 3 (cat) and 5 (dog)\n",
    "cifar_train_images_3_5 = np.concatenate([cifar_train_images[cifar_train_labels==3], cifar_train_images[cifar_train_labels==5]])\n",
    "cifar_train_labels_3_5 = np.concatenate([np.repeat(0, np.sum(cifar_train_labels==3)), np.repeat(1, np.sum(cifar_train_labels==5))])\n",
    "\n",
    "# test data\n",
    "cifar_testset = datasets.CIFAR10(root='./data', train=False, download=True, transform=None)\n",
    "cifar_test_images = normalize(cifar_testset.test_data)\n",
    "cifar_test_labels = np.array(cifar_testset.test_labels)\n",
    "\n",
    "# get only test images and labels for two classes: 3 (cat) and 5 (dog)\n",
    "cifar_test_images_3_5 = np.concatenate([cifar_test_images[cifar_test_labels==3], cifar_test_images[cifar_test_labels==5]])\n",
    "cifar_test_labels_3_5 = np.concatenate([np.repeat(0, np.sum(cifar_test_labels==3)), np.repeat(1, np.sum(cifar_test_labels==5))])\n",
    "# print(np.min(cifar_train_images_3_5))\n",
    "# print(np.max(cifar_train_images_3_5))"
   ]
  },
  {
   "cell_type": "code",
   "execution_count": 5,
   "metadata": {},
   "outputs": [
    {
     "name": "stdout",
     "output_type": "stream",
     "text": [
      "(50000, 32, 32, 3)\n",
      "(10000, 32, 32, 3)\n",
      "[0 1 2 3 4 5 6 7 8 9]\n"
     ]
    }
   ],
   "source": [
    "# All of CIFAR 10\n",
    "print(cifar_train_images.shape)\n",
    "print(cifar_test_images.shape)\n",
    "print(np.unique(cifar_test_labels))"
   ]
  },
  {
   "cell_type": "code",
   "execution_count": 6,
   "metadata": {},
   "outputs": [
    {
     "name": "stdout",
     "output_type": "stream",
     "text": [
      "(10000, 32, 32, 3)\n",
      "(2000, 32, 32, 3)\n",
      "[0 1]\n"
     ]
    }
   ],
   "source": [
    "# Cats vs Dogs (CIFAR)\n",
    "print(cifar_train_images_3_5.shape)\n",
    "print(cifar_test_images_3_5.shape)\n",
    "print(np.unique(cifar_test_labels_3_5))"
   ]
  },
  {
   "cell_type": "code",
   "execution_count": 7,
   "metadata": {},
   "outputs": [
    {
     "name": "stderr",
     "output_type": "stream",
     "text": [
      "Clipping input data to the valid range for imshow with RGB data ([0..1] for floats or [0..255] for integers).\n"
     ]
    },
    {
     "name": "stdout",
     "output_type": "stream",
     "text": [
      "Label: 0\n"
     ]
    },
    {
     "data": {
      "image/png": "[encoded data removed]",
      "text/plain": [
       "<Figure size 432x288 with 1 Axes>"
      ]
     },
     "metadata": {
      "needs_background": "light"
     },
     "output_type": "display_data"
    },
    {
     "name": "stderr",
     "output_type": "stream",
     "text": [
      "Clipping input data to the valid range for imshow with RGB data ([0..1] for floats or [0..255] for integers).\n"
     ]
    },
    {
     "name": "stdout",
     "output_type": "stream",
     "text": [
      "Label: 1\n"
     ]
    },
    {
     "data": {
      "image/png": "[encoded data removed]",
      "text/plain": [
       "<Figure size 432x288 with 1 Axes>"
      ]
     },
     "metadata": {
      "needs_background": "light"
     },
     "output_type": "display_data"
    }
   ],
   "source": [
    "# visualize data and labels\n",
    "import matplotlib.pyplot as plt\n",
    "%matplotlib inline\n",
    "\n",
    "# 3 (label 0)\n",
    "index = 2500\n",
    "print(\"Label:\", cifar_train_labels_3_5[index])\n",
    "plt.imshow(cifar_train_images_3_5[index])\n",
    "plt.show()\n",
    "\n",
    "# 5 (label 1)\n",
    "index = 7500\n",
    "print(\"Label:\", cifar_train_labels_3_5[index])\n",
    "plt.imshow(cifar_train_images_3_5[index])\n",
    "plt.show()"
   ]
  },
  {
   "cell_type": "code",
   "execution_count": 7,
   "metadata": {},
   "outputs": [
    {
     "data": {
      "text/plain": [
       "RandomForestClassifier(bootstrap=True, class_weight=None, criterion='gini',\n",
       "            max_depth=None, max_features='auto', max_leaf_nodes=None,\n",
       "            min_impurity_decrease=0.0, min_impurity_split=None,\n",
       "            min_samples_leaf=1, min_samples_split=2,\n",
       "            min_weight_fraction_leaf=0.0, n_estimators=10, n_jobs=None,\n",
       "            oob_score=False, random_state=None, verbose=0,\n",
       "            warm_start=False)"
      ]
     },
     "execution_count": 7,
     "metadata": {},
     "output_type": "execute_result"
    }
   ],
   "source": [
    "# Naive Random Forest - by flattening the entire image\n",
    "# Train\n",
    "clf = RandomForestClassifier()\n",
    "clf.fit(cifar_train_images_3_5.reshape(-1, 32*32*3), cifar_train_labels_3_5)"
   ]
  },
  {
   "cell_type": "code",
   "execution_count": 8,
   "metadata": {},
   "outputs": [
    {
     "name": "stdout",
     "output_type": "stream",
     "text": [
      "Test Accuracy: 0.6035\n",
      "Validation Confusion Matrix: \n",
      "[[689 311]\n",
      " [482 518]]\n"
     ]
    }
   ],
   "source": [
    "# Naive Random Forest - by flattening the entire image\n",
    "# Test\n",
    "cifar_test_preds_3_5 = clf.predict(cifar_test_images_3_5.reshape(-1, 32*32*3))\n",
    "print(\"Test Accuracy: \" + str(accuracy_score(cifar_test_labels_3_5, cifar_test_preds_3_5)))\n",
    "print(\"Validation Confusion Matrix: \\n\" + str(confusion_matrix(cifar_test_labels_3_5, cifar_test_preds_3_5)))"
   ]
  },
  {
   "cell_type": "code",
   "execution_count": 9,
   "metadata": {},
   "outputs": [],
   "source": [
    "# The Deep Convolution Random Forest class (for binary classification)\n",
    "class ConvRF(object):\n",
    "    def __init__(self, kernel_size=5, stride=2):\n",
    "        self.kernel_size = kernel_size\n",
    "        self.stride = stride\n",
    "        self.kernel_forests = None\n",
    "\n",
    "    def _convolve_chop(self, images, labels=None, flatten=False):\n",
    "\n",
    "        batch_size, in_dim, _, num_channels = images.shape\n",
    "\n",
    "        out_dim = int((in_dim - self.kernel_size) / self.stride) + 1  # calculate output dimensions\n",
    "\n",
    "        # create matrix to hold the chopped images\n",
    "        out_images = np.zeros((batch_size, out_dim, out_dim,\n",
    "                               self.kernel_size, self.kernel_size, num_channels))\n",
    "        out_labels = None\n",
    "\n",
    "        curr_y = out_y = 0\n",
    "        # move kernel vertically across the image\n",
    "        while curr_y + self.kernel_size <= in_dim:\n",
    "            curr_x = out_x = 0\n",
    "            # move kernel horizontally across the image\n",
    "            while curr_x + self.kernel_size <= in_dim:\n",
    "                # chop images\n",
    "                out_images[:, out_x, out_y] = images[:, curr_x:curr_x +\n",
    "                                                     self.kernel_size, curr_y:curr_y+self.kernel_size, :]\n",
    "                curr_x += self.stride\n",
    "                out_x += 1\n",
    "            curr_y += self.stride\n",
    "            out_y += 1\n",
    "\n",
    "        if flatten:\n",
    "            out_images = out_images.reshape(batch_size, out_dim, out_dim, -1)\n",
    "\n",
    "        if labels is not None:\n",
    "            out_labels = np.zeros((batch_size, out_dim, out_dim))\n",
    "            out_labels[:, ] = labels.reshape(-1, 1, 1)\n",
    "\n",
    "        return out_images, out_labels\n",
    "\n",
    "    def convolve_fit(self, images, labels):\n",
    "        num_channels = images.shape[-1]\n",
    "        sub_images, sub_labels = self._convolve_chop(images, labels=labels, flatten=True)\n",
    "\n",
    "        batch_size, out_dim, _, _ = sub_images.shape\n",
    "        self.kernel_forests = np.zeros((out_dim, out_dim), dtype=np.int).tolist()\n",
    "        convolved_image = np.zeros((images.shape[0], out_dim, out_dim, 1))\n",
    "        \n",
    "        for i in range(out_dim):\n",
    "            for j in range(out_dim):\n",
    "                self.kernel_forests[i][j] = RandomForestClassifier()\n",
    "                self.kernel_forests[i][j].fit(sub_images[:, i, j], sub_labels[:, i, j])\n",
    "                convolved_image[:, i, j] = self.kernel_forests[i][j].predict_proba(sub_images[:, i, j])[..., 1][..., np.newaxis]\n",
    "        return convolved_image\n",
    "\n",
    "    def convolve_predict(self, images):\n",
    "        if not self.kernel_forests:\n",
    "            raise Exception(\"Should fit training data before predicting\")\n",
    "\n",
    "        num_channels = images.shape[-1]\n",
    "        sub_images, _ = self._convolve_chop(images, flatten=True)\n",
    "\n",
    "        batch_size, out_dim, _, _ = sub_images.shape\n",
    "        \n",
    "        kernel_predictions = np.zeros((images.shape[0], out_dim, out_dim, 1))\n",
    "        \n",
    "        for i in range(out_dim):\n",
    "            for j in range(out_dim):\n",
    "                kernel_predictions[:, i, j] = self.kernel_forests[i][j].predict_proba(sub_images[:, i, j])[..., 1][..., np.newaxis]\n",
    "        return kernel_predictions"
   ]
  },
  {
   "cell_type": "code",
   "execution_count": 10,
   "metadata": {},
   "outputs": [
    {
     "name": "stdout",
     "output_type": "stream",
     "text": [
      "Experiment 1:\n",
      "No. of ConvRFs: 1\n",
      "Kernel Size: (3,3); Stride: 2\n",
      "Technique: Posteriors (fn: rf.predict_proba())\n",
      "ConvRF map output shape: (15, 15)\n",
      "Test Accuracy: 0.616\n",
      "Validation Confusion Matrix: \n",
      "[[672 328]\n",
      " [440 560]]\n"
     ]
    }
   ],
   "source": [
    "##########################################################\n",
    "print(\"Experiment 1:\")\n",
    "print(\"No. of ConvRFs: 1\")\n",
    "print(\"Kernel Size: (3,3); Stride: 2\")\n",
    "print(\"Technique: Posteriors (fn: rf.predict_proba())\")\n",
    "## Train\n",
    "# ConvRF (layer 1)\n",
    "conv1 = ConvRF(kernel_size=3, stride=2)\n",
    "conv1_map = conv1.convolve_fit(cifar_train_images_3_5, cifar_train_labels_3_5)\n",
    "print(\"ConvRF map output shape:\", conv1_map.shape[1:-1])\n",
    "\n",
    "# Full RF\n",
    "conv1_full_RF = RandomForestClassifier()\n",
    "conv1_full_RF.fit(conv1_map.reshape(len(cifar_train_images_3_5), -1), cifar_train_labels_3_5)\n",
    "\n",
    "## Test (after ConvRF 1 and Full RF)\n",
    "conv1_map_test = conv1.convolve_predict(cifar_test_images_3_5)\n",
    "cifar_test_preds = conv1_full_RF.predict(conv1_map_test.reshape(len(cifar_test_images_3_5), -1))\n",
    "\n",
    "print(\"Test Accuracy: \" + str(accuracy_score(cifar_test_labels_3_5, cifar_test_preds)))\n",
    "print(\"Validation Confusion Matrix: \\n\" + str(confusion_matrix(cifar_test_labels_3_5, cifar_test_preds)))"
   ]
  },
  {
   "cell_type": "code",
   "execution_count": 11,
   "metadata": {},
   "outputs": [
    {
     "name": "stdout",
     "output_type": "stream",
     "text": [
      "Experiment 2:\n",
      "No. of ConvRFs: 1\n",
      "Kernel Size: (5,5); Stride: 2\n",
      "Technique: Posteriors (fn: rf.predict_proba())\n",
      "ConvRF map output shape: (14, 14)\n",
      "Test Accuracy: 0.6495\n",
      "Validation Confusion Matrix: \n",
      "[[732 268]\n",
      " [433 567]]\n"
     ]
    }
   ],
   "source": [
    "##########################################################\n",
    "print(\"Experiment 2:\")\n",
    "print(\"No. of ConvRFs: 1\")\n",
    "print(\"Kernel Size: (5,5); Stride: 2\")\n",
    "print(\"Technique: Posteriors (fn: rf.predict_proba())\")\n",
    "## Train\n",
    "# ConvRF (layer 1)\n",
    "conv1 = ConvRF(kernel_size=5, stride=2)\n",
    "conv1_map = conv1.convolve_fit(cifar_train_images_3_5, cifar_train_labels_3_5)\n",
    "print(\"ConvRF map output shape:\", conv1_map.shape[1:-1])\n",
    "\n",
    "# Full RF\n",
    "conv1_full_RF = RandomForestClassifier()\n",
    "conv1_full_RF.fit(conv1_map.reshape(len(cifar_train_images_3_5), -1), cifar_train_labels_3_5)\n",
    "\n",
    "## Test (after ConvRF 1 and Full RF)\n",
    "conv1_map_test = conv1.convolve_predict(cifar_test_images_3_5)\n",
    "cifar_test_preds = conv1_full_RF.predict(conv1_map_test.reshape(len(cifar_test_images_3_5), -1))\n",
    "\n",
    "print(\"Test Accuracy: \" + str(accuracy_score(cifar_test_labels_3_5, cifar_test_preds)))\n",
    "print(\"Validation Confusion Matrix: \\n\" + str(confusion_matrix(cifar_test_labels_3_5, cifar_test_preds)))"
   ]
  },
  {
   "cell_type": "code",
   "execution_count": 12,
   "metadata": {},
   "outputs": [
    {
     "name": "stdout",
     "output_type": "stream",
     "text": [
      "Experiment 3:\n",
      "No. of ConvRFs: 1\n",
      "Kernel Size: (10,10); Stride: 2\n",
      "Technique: Posteriors (fn: rf.predict_proba())\n",
      "ConvRF map output shape: (12, 12)\n",
      "Test Accuracy: 0.6685\n",
      "Validation Confusion Matrix: \n",
      "[[724 276]\n",
      " [387 613]]\n"
     ]
    }
   ],
   "source": [
    "##########################################################\n",
    "print(\"Experiment 3:\")\n",
    "print(\"No. of ConvRFs: 1\")\n",
    "print(\"Kernel Size: (10,10); Stride: 2\")\n",
    "print(\"Technique: Posteriors (fn: rf.predict_proba())\")\n",
    "## Train\n",
    "# ConvRF (layer 1)\n",
    "conv1 = ConvRF(kernel_size=10, stride=2)\n",
    "conv1_map = conv1.convolve_fit(cifar_train_images_3_5, cifar_train_labels_3_5)\n",
    "print(\"ConvRF map output shape:\", conv1_map.shape[1:-1])\n",
    "\n",
    "# Full RF\n",
    "conv1_full_RF = RandomForestClassifier()\n",
    "conv1_full_RF.fit(conv1_map.reshape(len(cifar_train_images_3_5), -1), cifar_train_labels_3_5)\n",
    "\n",
    "## Test (after ConvRF 1 and Full RF)\n",
    "conv1_map_test = conv1.convolve_predict(cifar_test_images_3_5)\n",
    "cifar_test_preds = conv1_full_RF.predict(conv1_map_test.reshape(len(cifar_test_images_3_5), -1))\n",
    "\n",
    "print(\"Test Accuracy: \" + str(accuracy_score(cifar_test_labels_3_5, cifar_test_preds)))\n",
    "print(\"Validation Confusion Matrix: \\n\" + str(confusion_matrix(cifar_test_labels_3_5, cifar_test_preds)))"
   ]
  },
  {
   "cell_type": "code",
   "execution_count": 17,
   "metadata": {},
   "outputs": [
    {
     "name": "stdout",
     "output_type": "stream",
     "text": [
      "Experiment 4:\n",
      "No. of ConvRFs: 1\n",
      "Kernel Size: (15,15); Stride: 2\n",
      "Technique: Posteriors (fn: rf.predict_proba())\n",
      "(10000, 9, 9, 1)\n",
      "ConvRF map output shape: (9, 9)\n",
      "Test Accuracy: 0.655\n",
      "Validation Confusion Matrix: \n",
      "[[696 304]\n",
      " [386 614]]\n"
     ]
    }
   ],
   "source": [
    "##########################################################\n",
    "print(\"Experiment 4:\")\n",
    "print(\"No. of ConvRFs: 1\")\n",
    "print(\"Kernel Size: (15,15); Stride: 2\")\n",
    "print(\"Technique: Posteriors (fn: rf.predict_proba())\")\n",
    "## Train\n",
    "# ConvRF (layer 1)\n",
    "conv1 = ConvRF(kernel_size=15, stride=2)\n",
    "conv1_map = conv1.convolve_fit(cifar_train_images_3_5, cifar_train_labels_3_5)\n",
    "print(conv1_map.shape)\n",
    "print(\"ConvRF map output shape:\", conv1_map.shape[1:-1])\n",
    "\n",
    "# Full RF\n",
    "conv1_full_RF = RandomForestClassifier()\n",
    "conv1_full_RF.fit(conv1_map.reshape(len(cifar_train_images_3_5), -1), cifar_train_labels_3_5)\n",
    "\n",
    "## Test (after ConvRF 1 and Full RF)\n",
    "conv1_map_test = conv1.convolve_predict(cifar_test_images_3_5)\n",
    "cifar_test_preds = conv1_full_RF.predict(conv1_map_test.reshape(len(cifar_test_images_3_5), -1))\n",
    "\n",
    "print(\"Test Accuracy: \" + str(accuracy_score(cifar_test_labels_3_5, cifar_test_preds)))\n",
    "print(\"Validation Confusion Matrix: \\n\" + str(confusion_matrix(cifar_test_labels_3_5, cifar_test_preds)))"
   ]
  },
  {
   "cell_type": "code",
   "execution_count": 10,
   "metadata": {},
   "outputs": [
    {
     "name": "stdout",
     "output_type": "stream",
     "text": [
      "Experiment 5:\n",
      "No. of ConvRFs: 1\n",
      "Kernel Size: (13,13); Stride: 2\n",
      "Technique: Posteriors (fn: rf.predict_proba())\n",
      "(10000, 10, 10, 1)\n",
      "ConvRF map output shape: (10, 10)\n",
      "Test Accuracy: 0.6635\n",
      "Validation Confusion Matrix: \n",
      "[[690 310]\n",
      " [363 637]]\n"
     ]
    }
   ],
   "source": [
    "##########################################################\n",
    "print(\"Experiment 5:\")\n",
    "print(\"No. of ConvRFs: 1\")\n",
    "print(\"Kernel Size: (13,13); Stride: 2\")\n",
    "print(\"Technique: Posteriors (fn: rf.predict_proba())\")\n",
    "## Train\n",
    "# ConvRF (layer 1)\n",
    "conv1 = ConvRF(kernel_size=13, stride=2)\n",
    "conv1_map = conv1.convolve_fit(cifar_train_images_3_5, cifar_train_labels_3_5)\n",
    "print(conv1_map.shape)\n",
    "print(\"ConvRF map output shape:\", conv1_map.shape[1:-1])\n",
    "\n",
    "# Full RF\n",
    "conv1_full_RF = RandomForestClassifier()\n",
    "conv1_full_RF.fit(conv1_map.reshape(len(cifar_train_images_3_5), -1), cifar_train_labels_3_5)\n",
    "\n",
    "## Test (after ConvRF 1 and Full RF)\n",
    "conv1_map_test = conv1.convolve_predict(cifar_test_images_3_5)\n",
    "cifar_test_preds = conv1_full_RF.predict(conv1_map_test.reshape(len(cifar_test_images_3_5), -1))\n",
    "\n",
    "print(\"Test Accuracy: \" + str(accuracy_score(cifar_test_labels_3_5, cifar_test_preds)))\n",
    "print(\"Validation Confusion Matrix: \\n\" + str(confusion_matrix(cifar_test_labels_3_5, cifar_test_preds)))"
   ]
  },
  {
   "cell_type": "code",
   "execution_count": 15,
   "metadata": {},
   "outputs": [
    {
     "name": "stdout",
     "output_type": "stream",
     "text": [
      "Experiment 6:\n",
      "No. of ConvRFs: 1\n",
      "Kernel Size: (17,17); Stride: 2\n",
      "Technique: Posteriors (fn: rf.predict_proba())\n",
      "(10000, 8, 8, 1)\n",
      "ConvRF map output shape: (8, 8)\n",
      "Test Accuracy: 0.658\n",
      "Validation Confusion Matrix: \n",
      "[[701 299]\n",
      " [385 615]]\n"
     ]
    }
   ],
   "source": [
    "##########################################################\n",
    "print(\"Experiment 6:\")\n",
    "print(\"No. of ConvRFs: 1\")\n",
    "print(\"Kernel Size: (17,17); Stride: 2\")\n",
    "print(\"Technique: Posteriors (fn: rf.predict_proba())\")\n",
    "## Train\n",
    "# ConvRF (layer 1)\n",
    "conv1 = ConvRF(kernel_size=17, stride=2)\n",
    "conv1_map = conv1.convolve_fit(cifar_train_images_3_5, cifar_train_labels_3_5)\n",
    "print(conv1_map.shape)\n",
    "print(\"ConvRF map output shape:\", conv1_map.shape[1:-1])\n",
    "\n",
    "# Full RF\n",
    "conv1_full_RF = RandomForestClassifier()\n",
    "conv1_full_RF.fit(conv1_map.reshape(len(cifar_train_images_3_5), -1), cifar_train_labels_3_5)\n",
    "\n",
    "## Test (after ConvRF 1 and Full RF)\n",
    "conv1_map_test = conv1.convolve_predict(cifar_test_images_3_5)\n",
    "cifar_test_preds = conv1_full_RF.predict(conv1_map_test.reshape(len(cifar_test_images_3_5), -1))\n",
    "\n",
    "print(\"Test Accuracy: \" + str(accuracy_score(cifar_test_labels_3_5, cifar_test_preds)))\n",
    "print(\"Validation Confusion Matrix: \\n\" + str(confusion_matrix(cifar_test_labels_3_5, cifar_test_preds)))"
   ]
  },
  {
   "cell_type": "code",
   "execution_count": 18,
   "metadata": {},
   "outputs": [
    {
     "name": "stdout",
     "output_type": "stream",
     "text": [
      "Experiment 7:\n",
      "No. of ConvRFs: 2\n",
      "ConvRF 1 -> Kernel Size: (13,13); Stride: 2\n",
      "ConvRF 2 -> Kernel Size: (3,3); Stride: 1\n",
      "Technique: Posteriors (fn: rf.predict_proba())\n",
      "ConvRF 1 map output shape: (10, 10)\n",
      "ConvRF 2 map output shape: (8, 8)\n",
      "Test Accuracy: 0.6825\n",
      "Validation Confusion Matrix: \n",
      "[[700 300]\n",
      " [335 665]]\n"
     ]
    }
   ],
   "source": [
    "##########################################################\n",
    "print(\"Experiment 7:\")\n",
    "print(\"No. of ConvRFs: 2\")\n",
    "print(\"ConvRF 1 -> Kernel Size: (13,13); Stride: 2\") \n",
    "print(\"ConvRF 2 -> Kernel Size: (3,3); Stride: 1\") \n",
    "print(\"Technique: Posteriors (fn: rf.predict_proba())\")\n",
    "\n",
    "## Train\n",
    "# ConvRF (layer 1)\n",
    "conv1 = ConvRF(kernel_size=13, stride=2)\n",
    "conv1_map = conv1.convolve_fit(cifar_train_images_3_5, cifar_train_labels_3_5)\n",
    "print(\"ConvRF 1 map output shape:\", conv1_map.shape[1:-1])\n",
    "\n",
    "# ConvRF (layer 2)\n",
    "conv2 = ConvRF(kernel_size=3, stride=1)\n",
    "conv2_map = conv2.convolve_fit(conv1_map, cifar_train_labels_3_5)\n",
    "print(\"ConvRF 2 map output shape:\", conv2_map.shape[1:-1])\n",
    "\n",
    "# Full RF\n",
    "conv2_full_RF = RandomForestClassifier()\n",
    "conv2_full_RF.fit(conv2_map.reshape(len(cifar_train_images_3_5), -1), cifar_train_labels_3_5)\n",
    "\n",
    "## Test (after ConvRF 1, ConvRF 2 and Full RF)\n",
    "conv1_map_test = conv1.convolve_predict(cifar_test_images_3_5)\n",
    "conv2_map_test = conv2.convolve_predict(conv1_map_test)\n",
    "cifar_test_preds = conv2_full_RF.predict(conv2_map_test.reshape(len(cifar_test_images_3_5), -1))\n",
    "\n",
    "\n",
    "print(\"Test Accuracy: \" + str(accuracy_score(cifar_test_labels_3_5, cifar_test_preds)))\n",
    "print(\"Validation Confusion Matrix: \\n\" + str(confusion_matrix(cifar_test_labels_3_5, cifar_test_preds)))"
   ]
  },
  {
   "cell_type": "code",
   "execution_count": 19,
   "metadata": {},
   "outputs": [
    {
     "name": "stdout",
     "output_type": "stream",
     "text": [
      "Experiment 8:\n",
      "No. of ConvRFs: 2\n",
      "ConvRF 1 -> Kernel Size: (13,13); Stride: 2\n",
      "ConvRF 2 -> Kernel Size: (3,3); Stride: 2\n",
      "Technique: Posteriors (fn: rf.predict_proba())\n",
      "ConvRF 1 map output shape: (10, 10)\n",
      "ConvRF 2 map output shape: (4, 4)\n",
      "Test Accuracy: 0.6695\n",
      "Validation Confusion Matrix: \n",
      "[[718 282]\n",
      " [379 621]]\n"
     ]
    }
   ],
   "source": [
    "##########################################################\n",
    "print(\"Experiment 8:\")\n",
    "print(\"No. of ConvRFs: 2\")\n",
    "print(\"ConvRF 1 -> Kernel Size: (13,13); Stride: 2\") \n",
    "print(\"ConvRF 2 -> Kernel Size: (3,3); Stride: 2\") \n",
    "print(\"Technique: Posteriors (fn: rf.predict_proba())\")\n",
    "\n",
    "## Train\n",
    "# ConvRF (layer 1)\n",
    "conv1 = ConvRF(kernel_size=13, stride=2)\n",
    "conv1_map = conv1.convolve_fit(cifar_train_images_3_5, cifar_train_labels_3_5)\n",
    "print(\"ConvRF 1 map output shape:\", conv1_map.shape[1:-1])\n",
    "\n",
    "# ConvRF (layer 2)\n",
    "conv2 = ConvRF(kernel_size=3, stride=2)\n",
    "conv2_map = conv2.convolve_fit(conv1_map, cifar_train_labels_3_5)\n",
    "print(\"ConvRF 2 map output shape:\", conv2_map.shape[1:-1])\n",
    "\n",
    "# Full RF\n",
    "conv2_full_RF = RandomForestClassifier()\n",
    "conv2_full_RF.fit(conv2_map.reshape(len(cifar_train_images_3_5), -1), cifar_train_labels_3_5)\n",
    "\n",
    "## Test (after ConvRF 1, ConvRF 2 and Full RF)\n",
    "conv1_map_test = conv1.convolve_predict(cifar_test_images_3_5)\n",
    "conv2_map_test = conv2.convolve_predict(conv1_map_test)\n",
    "cifar_test_preds = conv2_full_RF.predict(conv2_map_test.reshape(len(cifar_test_images_3_5), -1))\n",
    "\n",
    "\n",
    "print(\"Test Accuracy: \" + str(accuracy_score(cifar_test_labels_3_5, cifar_test_preds)))\n",
    "print(\"Validation Confusion Matrix: \\n\" + str(confusion_matrix(cifar_test_labels_3_5, cifar_test_preds)))"
   ]
  },
  {
   "cell_type": "code",
   "execution_count": 20,
   "metadata": {},
   "outputs": [
    {
     "name": "stdout",
     "output_type": "stream",
     "text": [
      "Experiment 9:\n",
      "No. of ConvRFs: 2\n",
      "ConvRF 1 -> Kernel Size: (13,13); Stride: 2\n",
      "ConvRF 2 -> Kernel Size: (5,5); Stride: 1\n",
      "Technique: Posteriors (fn: rf.predict_proba())\n",
      "ConvRF 1 map output shape: (10, 10)\n",
      "ConvRF 2 map output shape: (6, 6)\n",
      "Test Accuracy: 0.673\n",
      "Validation Confusion Matrix: \n",
      "[[679 321]\n",
      " [333 667]]\n"
     ]
    }
   ],
   "source": [
    "##########################################################\n",
    "print(\"Experiment 9:\")\n",
    "print(\"No. of ConvRFs: 2\")\n",
    "print(\"ConvRF 1 -> Kernel Size: (13,13); Stride: 2\") \n",
    "print(\"ConvRF 2 -> Kernel Size: (5,5); Stride: 1\") \n",
    "print(\"Technique: Posteriors (fn: rf.predict_proba())\")\n",
    "\n",
    "## Train\n",
    "# ConvRF (layer 1)\n",
    "conv1 = ConvRF(kernel_size=13, stride=2)\n",
    "conv1_map = conv1.convolve_fit(cifar_train_images_3_5, cifar_train_labels_3_5)\n",
    "print(\"ConvRF 1 map output shape:\", conv1_map.shape[1:-1])\n",
    "\n",
    "# ConvRF (layer 2)\n",
    "conv2 = ConvRF(kernel_size=5, stride=1)\n",
    "conv2_map = conv2.convolve_fit(conv1_map, cifar_train_labels_3_5)\n",
    "print(\"ConvRF 2 map output shape:\", conv2_map.shape[1:-1])\n",
    "\n",
    "# Full RF\n",
    "conv2_full_RF = RandomForestClassifier()\n",
    "conv2_full_RF.fit(conv2_map.reshape(len(cifar_train_images_3_5), -1), cifar_train_labels_3_5)\n",
    "\n",
    "## Test (after ConvRF 1, ConvRF 2 and Full RF)\n",
    "conv1_map_test = conv1.convolve_predict(cifar_test_images_3_5)\n",
    "conv2_map_test = conv2.convolve_predict(conv1_map_test)\n",
    "cifar_test_preds = conv2_full_RF.predict(conv2_map_test.reshape(len(cifar_test_images_3_5), -1))\n",
    "\n",
    "\n",
    "print(\"Test Accuracy: \" + str(accuracy_score(cifar_test_labels_3_5, cifar_test_preds)))\n",
    "print(\"Validation Confusion Matrix: \\n\" + str(confusion_matrix(cifar_test_labels_3_5, cifar_test_preds)))"
   ]
  },
  {
   "cell_type": "code",
   "execution_count": 21,
   "metadata": {},
   "outputs": [
    {
     "name": "stdout",
     "output_type": "stream",
     "text": [
      "Experiment 10:\n",
      "No. of ConvRFs: 2\n",
      "ConvRF 1 -> Kernel Size: (13,13); Stride: 2\n",
      "ConvRF 2 -> Kernel Size: (5,5); Stride: 2\n",
      "Technique: Posteriors (fn: rf.predict_proba())\n",
      "ConvRF 1 map output shape: (10, 10)\n",
      "ConvRF 2 map output shape: (3, 3)\n",
      "Test Accuracy: 0.684\n",
      "Validation Confusion Matrix: \n",
      "[[674 326]\n",
      " [306 694]]\n"
     ]
    }
   ],
   "source": [
    "##########################################################\n",
    "print(\"Experiment 10:\")\n",
    "print(\"No. of ConvRFs: 2\")\n",
    "print(\"ConvRF 1 -> Kernel Size: (13,13); Stride: 2\") \n",
    "print(\"ConvRF 2 -> Kernel Size: (5,5); Stride: 2\") \n",
    "print(\"Technique: Posteriors (fn: rf.predict_proba())\")\n",
    "\n",
    "## Train\n",
    "# ConvRF (layer 1)\n",
    "conv1 = ConvRF(kernel_size=13, stride=2)\n",
    "conv1_map = conv1.convolve_fit(cifar_train_images_3_5, cifar_train_labels_3_5)\n",
    "print(\"ConvRF 1 map output shape:\", conv1_map.shape[1:-1])\n",
    "\n",
    "# ConvRF (layer 2)\n",
    "conv2 = ConvRF(kernel_size=5, stride=2)\n",
    "conv2_map = conv2.convolve_fit(conv1_map, cifar_train_labels_3_5)\n",
    "print(\"ConvRF 2 map output shape:\", conv2_map.shape[1:-1])\n",
    "\n",
    "# Full RF\n",
    "conv2_full_RF = RandomForestClassifier()\n",
    "conv2_full_RF.fit(conv2_map.reshape(len(cifar_train_images_3_5), -1), cifar_train_labels_3_5)\n",
    "\n",
    "## Test (after ConvRF 1, ConvRF 2 and Full RF)\n",
    "conv1_map_test = conv1.convolve_predict(cifar_test_images_3_5)\n",
    "conv2_map_test = conv2.convolve_predict(conv1_map_test)\n",
    "cifar_test_preds = conv2_full_RF.predict(conv2_map_test.reshape(len(cifar_test_images_3_5), -1))\n",
    "\n",
    "\n",
    "print(\"Test Accuracy: \" + str(accuracy_score(cifar_test_labels_3_5, cifar_test_preds)))\n",
    "print(\"Validation Confusion Matrix: \\n\" + str(confusion_matrix(cifar_test_labels_3_5, cifar_test_preds)))"
   ]
  },
  {
   "cell_type": "code",
   "execution_count": 22,
   "metadata": {},
   "outputs": [
    {
     "name": "stdout",
     "output_type": "stream",
     "text": [
      "Experiment 11:\n",
      "No. of ConvRFs: 2\n",
      "ConvRF 1 -> Kernel Size: (13,13); Stride: 2\n",
      "ConvRF 2 -> Kernel Size: (7,7); Stride: 1\n",
      "Technique: Posteriors (fn: rf.predict_proba())\n",
      "ConvRF 1 map output shape: (10, 10)\n",
      "ConvRF 2 map output shape: (4, 4)\n",
      "Test Accuracy: 0.6485\n",
      "Validation Confusion Matrix: \n",
      "[[650 350]\n",
      " [353 647]]\n"
     ]
    }
   ],
   "source": [
    "##########################################################\n",
    "print(\"Experiment 11:\")\n",
    "print(\"No. of ConvRFs: 2\")\n",
    "print(\"ConvRF 1 -> Kernel Size: (13,13); Stride: 2\") \n",
    "print(\"ConvRF 2 -> Kernel Size: (7,7); Stride: 1\") \n",
    "print(\"Technique: Posteriors (fn: rf.predict_proba())\")\n",
    "\n",
    "## Train\n",
    "# ConvRF (layer 1)\n",
    "conv1 = ConvRF(kernel_size=13, stride=2)\n",
    "conv1_map = conv1.convolve_fit(cifar_train_images_3_5, cifar_train_labels_3_5)\n",
    "print(\"ConvRF 1 map output shape:\", conv1_map.shape[1:-1])\n",
    "\n",
    "# ConvRF (layer 2)\n",
    "conv2 = ConvRF(kernel_size=7, stride=1)\n",
    "conv2_map = conv2.convolve_fit(conv1_map, cifar_train_labels_3_5)\n",
    "print(\"ConvRF 2 map output shape:\", conv2_map.shape[1:-1])\n",
    "\n",
    "# Full RF\n",
    "conv2_full_RF = RandomForestClassifier()\n",
    "conv2_full_RF.fit(conv2_map.reshape(len(cifar_train_images_3_5), -1), cifar_train_labels_3_5)\n",
    "\n",
    "## Test (after ConvRF 1, ConvRF 2 and Full RF)\n",
    "conv1_map_test = conv1.convolve_predict(cifar_test_images_3_5)\n",
    "conv2_map_test = conv2.convolve_predict(conv1_map_test)\n",
    "cifar_test_preds = conv2_full_RF.predict(conv2_map_test.reshape(len(cifar_test_images_3_5), -1))\n",
    "\n",
    "\n",
    "print(\"Test Accuracy: \" + str(accuracy_score(cifar_test_labels_3_5, cifar_test_preds)))\n",
    "print(\"Validation Confusion Matrix: \\n\" + str(confusion_matrix(cifar_test_labels_3_5, cifar_test_preds)))"
   ]
  },
  {
   "cell_type": "code",
   "execution_count": 23,
   "metadata": {},
   "outputs": [
    {
     "name": "stdout",
     "output_type": "stream",
     "text": [
      "Experiment 12:\n",
      "No. of ConvRFs: 2\n",
      "ConvRF 1 -> Kernel Size: (13,13); Stride: 2\n",
      "ConvRF 2 -> Kernel Size: (7,7); Stride: 2\n",
      "Technique: Posteriors (fn: rf.predict_proba())\n",
      "ConvRF 1 map output shape: (10, 10)\n",
      "ConvRF 2 map output shape: (2, 2)\n",
      "Test Accuracy: 0.659\n",
      "Validation Confusion Matrix: \n",
      "[[640 360]\n",
      " [322 678]]\n"
     ]
    }
   ],
   "source": [
    "##########################################################\n",
    "print(\"Experiment 12:\")\n",
    "print(\"No. of ConvRFs: 2\")\n",
    "print(\"ConvRF 1 -> Kernel Size: (13,13); Stride: 2\") \n",
    "print(\"ConvRF 2 -> Kernel Size: (7,7); Stride: 2\") \n",
    "print(\"Technique: Posteriors (fn: rf.predict_proba())\")\n",
    "\n",
    "## Train\n",
    "# ConvRF (layer 1)\n",
    "conv1 = ConvRF(kernel_size=13, stride=2)\n",
    "conv1_map = conv1.convolve_fit(cifar_train_images_3_5, cifar_train_labels_3_5)\n",
    "print(\"ConvRF 1 map output shape:\", conv1_map.shape[1:-1])\n",
    "\n",
    "# ConvRF (layer 2)\n",
    "conv2 = ConvRF(kernel_size=7, stride=2)\n",
    "conv2_map = conv2.convolve_fit(conv1_map, cifar_train_labels_3_5)\n",
    "print(\"ConvRF 2 map output shape:\", conv2_map.shape[1:-1])\n",
    "\n",
    "# Full RF\n",
    "conv2_full_RF = RandomForestClassifier()\n",
    "conv2_full_RF.fit(conv2_map.reshape(len(cifar_train_images_3_5), -1), cifar_train_labels_3_5)\n",
    "\n",
    "## Test (after ConvRF 1, ConvRF 2 and Full RF)\n",
    "conv1_map_test = conv1.convolve_predict(cifar_test_images_3_5)\n",
    "conv2_map_test = conv2.convolve_predict(conv1_map_test)\n",
    "cifar_test_preds = conv2_full_RF.predict(conv2_map_test.reshape(len(cifar_test_images_3_5), -1))\n",
    "\n",
    "\n",
    "print(\"Test Accuracy: \" + str(accuracy_score(cifar_test_labels_3_5, cifar_test_preds)))\n",
    "print(\"Validation Confusion Matrix: \\n\" + str(confusion_matrix(cifar_test_labels_3_5, cifar_test_preds)))"
   ]
  },
  {
   "cell_type": "code",
   "execution_count": null,
   "metadata": {},
   "outputs": [],
   "source": [
    "##########################################################\n",
    "print(\"Experiment 13:\")\n",
    "print(\"No. of ConvRFs: 3\")\n",
    "print(\"ConvRF 1 -> Kernel Size: (13,13); Stride: 2\") \n",
    "print(\"ConvRF 2 -> Kernel Size: (5,5); Stride: 1\") \n",
    "print(\"ConvRF 3 -> Kernel Size: (2,2); Stride: 1\") \n",
    "print(\"Technique: Posteriors (fn: rf.predict_proba())\")\n",
    "\n",
    "## Train\n",
    "# ConvRF (layer 1)\n",
    "conv1 = ConvRF(kernel_size=13, stride=2)\n",
    "conv1_map = conv1.convolve_fit(cifar_train_images_3_5, cifar_train_labels_3_5)\n",
    "print(\"ConvRF 1 map output shape:\", conv1_map.shape[1:-1])\n",
    "\n",
    "# ConvRF (layer 2)\n",
    "conv2 = ConvRF(kernel_size=5, stride=1)\n",
    "conv2_map = conv2.convolve_fit(conv1_map, cifar_train_labels_3_5)\n",
    "print(\"ConvRF 2 map output shape:\", conv2_map.shape[1:-1])\n",
    "\n",
    "# ConvRF (layer 3)\n",
    "conv3 = ConvRF(kernel_size=2, stride=1)\n",
    "conv3_map = conv3.convolve_fit(conv2_map, cifar_train_labels_3_5)\n",
    "print(\"ConvRF 3 map output shape:\", conv3_map.shape[1:-1])\n",
    "\n",
    "# Full RF\n",
    "conv3_full_RF = RandomForestClassifier()\n",
    "conv3_full_RF.fit(conv3_map.reshape(len(cifar_train_images_3_5), -1), cifar_train_labels_3_5)\n",
    "\n",
    "## Test (after ConvRF 1, ConvRF 2, ConvRF 3 and Full RF)\n",
    "conv1_map_test = conv1.convolve_predict(cifar_test_images_3_5)\n",
    "conv2_map_test = conv2.convolve_predict(conv1_map_test)\n",
    "conv3_map_test = conv3.convolve_predict(conv2_map_test)\n",
    "cifar_test_preds = conv3_full_RF.predict(conv3_map_test.reshape(len(cifar_test_images_3_5), -1))\n",
    "\n",
    "print(\"Test Accuracy: \" + str(accuracy_score(cifar_test_labels_3_5, cifar_test_preds)))\n",
    "print(\"Validation Confusion Matrix: \\n\" + str(confusion_matrix(cifar_test_labels_3_5, cifar_test_preds)))"
   ]
  },
  {
   "cell_type": "code",
   "execution_count": null,
   "metadata": {},
   "outputs": [],
   "source": [
    "##########################################################\n",
    "print(\"Experiment 14:\")\n",
    "print(\"No. of ConvRFs: 3\")\n",
    "print(\"ConvRF 1 -> Kernel Size: (15,15); Stride: 2\") \n",
    "print(\"ConvRF 2 -> Kernel Size: (5,5); Stride: 1\") \n",
    "print(\"ConvRF 3 -> Kernel Size: (3,3); Stride: 1\") \n",
    "print(\"Technique: Posteriors (fn: rf.predict_proba())\")\n",
    "\n",
    "## Train\n",
    "# ConvRF (layer 1)\n",
    "conv1 = ConvRF(kernel_size=10, stride=2)\n",
    "conv1_map = conv1.convolve_fit(cifar_train_images_3_5, cifar_train_labels_3_5)\n",
    "print(\"ConvRF 1 map output shape:\", conv1_map.shape[1:-1])\n",
    "\n",
    "# ConvRF (layer 2)\n",
    "conv2 = ConvRF(kernel_size=5, stride=1)\n",
    "conv2_map = conv2.convolve_fit(conv1_map, cifar_train_labels_3_5)\n",
    "print(\"ConvRF 2 map output shape:\", conv2_map.shape[1:-1])\n",
    "\n",
    "# ConvRF (layer 3)\n",
    "conv3 = ConvRF(kernel_size=3, stride=1)\n",
    "conv3_map = conv3.convolve_fit(conv2_map, cifar_train_labels_3_5)\n",
    "print(\"ConvRF 3 map output shape:\", conv3_map.shape[1:-1])\n",
    "\n",
    "# Full RF\n",
    "conv3_full_RF = RandomForestClassifier()\n",
    "conv3_full_RF.fit(conv3_map.reshape(len(cifar_train_images_3_5), -1), cifar_train_labels_3_5)\n",
    "\n",
    "## Test (after ConvRF 1, ConvRF 2, ConvRF 3 and Full RF)\n",
    "conv1_map_test = conv1.convolve_predict(cifar_test_images_3_5)\n",
    "conv2_map_test = conv2.convolve_predict(conv1_map_test)\n",
    "conv3_map_test = conv3.convolve_predict(conv2_map_test)\n",
    "cifar_test_preds = conv3_full_RF.predict(conv3_map_test.reshape(len(cifar_test_images_3_5), -1))\n",
    "\n",
    "print(\"Test Accuracy: \" + str(accuracy_score(cifar_test_labels_3_5, cifar_test_preds)))\n",
    "print(\"Validation Confusion Matrix: \\n\" + str(confusion_matrix(cifar_test_labels_3_5, cifar_test_preds)))"
   ]
  },
  {
   "cell_type": "code",
   "execution_count": null,
   "metadata": {},
   "outputs": [],
   "source": [
    "##########################################################\n",
    "print(\"Experiment 15:\")\n",
    "print(\"No. of ConvRFs: 3\")\n",
    "print(\"ConvRF 1 -> Kernel Size: (15,15); Stride: 2\") \n",
    "print(\"ConvRF 2 -> Kernel Size: (7,7); Stride: 1\") \n",
    "print(\"ConvRF 3 -> Kernel Size: (2,2); Stride: 1\") \n",
    "print(\"Technique: Posteriors (fn: rf.predict_proba())\")\n",
    "\n",
    "## Train\n",
    "# ConvRF (layer 1)\n",
    "conv1 = ConvRF(kernel_size=15, stride=2)\n",
    "conv1_map = conv1.convolve_fit(cifar_train_images_3_5, cifar_train_labels_3_5)\n",
    "print(\"ConvRF 1 map output shape:\", conv1_map.shape[1:-1])\n",
    "\n",
    "# ConvRF (layer 2)\n",
    "conv2 = ConvRF(kernel_size=7, stride=1)\n",
    "conv2_map = conv2.convolve_fit(conv1_map, cifar_train_labels_3_5)\n",
    "print(\"ConvRF 2 map output shape:\", conv2_map.shape[1:-1])\n",
    "\n",
    "# ConvRF (layer 3)\n",
    "conv3 = ConvRF(kernel_size=2, stride=1)\n",
    "conv3_map = conv3.convolve_fit(conv2_map, cifar_train_labels_3_5)\n",
    "print(\"ConvRF 3 map output shape:\", conv3_map.shape[1:-1])\n",
    "\n",
    "# Full RF\n",
    "conv3_full_RF = RandomForestClassifier()\n",
    "conv3_full_RF.fit(conv3_map.reshape(len(cifar_train_images_3_5), -1), cifar_train_labels_3_5)\n",
    "\n",
    "## Test (after ConvRF 1, ConvRF 2, ConvRF 3 and Full RF)\n",
    "conv1_map_test = conv1.convolve_predict(cifar_test_images_3_5)\n",
    "conv2_map_test = conv2.convolve_predict(conv1_map_test)\n",
    "conv3_map_test = conv3.convolve_predict(conv2_map_test)\n",
    "cifar_test_preds = conv3_full_RF.predict(conv3_map_test.reshape(len(cifar_test_images_3_5), -1))\n",
    "\n",
    "print(\"Test Accuracy: \" + str(accuracy_score(cifar_test_labels_3_5, cifar_test_preds)))\n",
    "print(\"Validation Confusion Matrix: \\n\" + str(confusion_matrix(cifar_test_labels_3_5, cifar_test_preds)))"
   ]
  },
  {
   "cell_type": "code",
   "execution_count": null,
   "metadata": {},
   "outputs": [],
   "source": [
    "##########################################################\n",
    "print(\"Experiment 15:\")\n",
    "print(\"No. of ConvRFs: 3\")\n",
    "print(\"ConvRF 1 -> Kernel Size: (15,15); Stride: 2\") \n",
    "print(\"ConvRF 2 -> Kernel Size: (7,7); Stride: 1\") \n",
    "print(\"ConvRF 3 -> Kernel Size: (3,3); Stride: 1\") \n",
    "print(\"Technique: Posteriors (fn: rf.predict_proba())\")\n",
    "\n",
    "## Train\n",
    "# ConvRF (layer 1)\n",
    "conv1 = ConvRF(kernel_size=15, stride=2)\n",
    "conv1_map = conv1.convolve_fit(cifar_train_images_3_5, cifar_train_labels_3_5)\n",
    "print(\"ConvRF 1 map output shape:\", conv1_map.shape[1:-1])\n",
    "\n",
    "# ConvRF (layer 2)\n",
    "conv2 = ConvRF(kernel_size=7, stride=1)\n",
    "conv2_map = conv2.convolve_fit(conv1_map, cifar_train_labels_3_5)\n",
    "print(\"ConvRF 2 map output shape:\", conv2_map.shape[1:-1])\n",
    "\n",
    "# ConvRF (layer 3)\n",
    "conv3 = ConvRF(kernel_size=3, stride=1)\n",
    "conv3_map = conv3.convolve_fit(conv2_map, cifar_train_labels_3_5)\n",
    "print(\"ConvRF 3 map output shape:\", conv3_map.shape[1:-1])\n",
    "\n",
    "# Full RF\n",
    "conv3_full_RF = RandomForestClassifier()\n",
    "conv3_full_RF.fit(conv3_map.reshape(len(cifar_train_images_3_5), -1), cifar_train_labels_3_5)\n",
    "\n",
    "## Test (after ConvRF 1, ConvRF 2, ConvRF 3 and Full RF)\n",
    "conv1_map_test = conv1.convolve_predict(cifar_test_images_3_5)\n",
    "conv2_map_test = conv2.convolve_predict(conv1_map_test)\n",
    "conv3_map_test = conv3.convolve_predict(conv2_map_test)\n",
    "cifar_test_preds = conv3_full_RF.predict(conv3_map_test.reshape(len(cifar_test_images_3_5), -1))\n",
    "\n",
    "print(\"Test Accuracy: \" + str(accuracy_score(cifar_test_labels_3_5, cifar_test_preds)))\n",
    "print(\"Validation Confusion Matrix: \\n\" + str(confusion_matrix(cifar_test_labels_3_5, cifar_test_preds)))"
   ]
  },
  {
   "cell_type": "code",
   "execution_count": null,
   "metadata": {},
   "outputs": [],
   "source": [
    "print(cifar_test_images_3_5.shape)\n",
    "print(cifar_train_images_3_5.shape)"
   ]
  },
  {
   "cell_type": "code",
   "execution_count": null,
   "metadata": {},
   "outputs": [],
   "source": []
  }
 ],
 "metadata": {
  "kernelspec": {
   "display_name": "Python 3",
   "language": "python",
   "name": "python3"
  },
  "language_info": {
   "codemirror_mode": {
    "name": "ipython",
    "version": 3
   },
   "file_extension": ".py",
   "mimetype": "text/x-python",
   "name": "python",
   "nbconvert_exporter": "python",
   "pygments_lexer": "ipython3",
   "version": "3.6.5"
  }
 },
 "nbformat": 4,
 "nbformat_minor": 2
}
