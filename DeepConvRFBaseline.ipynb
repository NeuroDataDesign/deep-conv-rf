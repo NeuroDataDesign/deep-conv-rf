{
 "cells": [
  {
   "cell_type": "code",
   "execution_count": 34,
   "metadata": {},
   "outputs": [],
   "source": [
    "# general imports\n",
    "import numpy as np\n",
    "from sklearn.ensemble import RandomForestClassifier\n",
    "from sklearn.metrics import accuracy_score\n",
    "from sklearn.metrics import confusion_matrix\n",
    "import torch\n",
    "import random"
   ]
  },
  {
   "cell_type": "code",
   "execution_count": 2,
   "metadata": {},
   "outputs": [],
   "source": [
    "# prepare MNIST data\n",
    "import torchvision.datasets as datasets\n",
    "\n",
    "# train data\n",
    "mnist_trainset = datasets.MNIST(root='./data', train=True, download=True, transform=None)\n",
    "mnist_train_images = mnist_trainset.train_data.numpy()[..., np.newaxis]\n",
    "mnist_train_labels = mnist_trainset.train_labels.numpy()\n",
    "\n",
    "# get only train images and labels for two classes: 3 and 8\n",
    "mnist_train_images_3_8 = np.concatenate([mnist_train_images[mnist_train_labels==3], mnist_train_images[mnist_train_labels==8]])\n",
    "mnist_train_labels_3_8 = np.concatenate([np.repeat(0, np.sum(mnist_train_labels==3)), np.repeat(1, np.sum(mnist_train_labels==8))])\n",
    "\n",
    "# test data\n",
    "mnist_testset = datasets.MNIST(root='./data', train=False, download=True, transform=None)\n",
    "mnist_test_images = mnist_testset.test_data.numpy()[..., np.newaxis]\n",
    "mnist_test_labels = mnist_testset.test_labels.numpy()\n",
    "\n",
    "# get only test images and labels for two classes: 3 and 8\n",
    "mnist_test_images_3_8 = np.concatenate([mnist_test_images[mnist_test_labels==3], mnist_test_images[mnist_test_labels==8]])\n",
    "mnist_test_labels_3_8 = np.concatenate([np.repeat(0, np.sum(mnist_test_labels==3)), np.repeat(1, np.sum(mnist_test_labels==8))])"
   ]
  },
  {
   "cell_type": "code",
   "execution_count": 3,
   "metadata": {},
   "outputs": [
    {
     "name": "stdout",
     "output_type": "stream",
     "text": [
      "Label: 0\n"
     ]
    },
    {
     "data": {
      "image/png": "[encoded data removed]",
      "text/plain": [
       "<Figure size 432x288 with 1 Axes>"
      ]
     },
     "metadata": {
      "needs_background": "light"
     },
     "output_type": "display_data"
    },
    {
     "name": "stdout",
     "output_type": "stream",
     "text": [
      "Label: 1\n"
     ]
    },
    {
     "data": {
      "image/png": "[encoded data removed]",
      "text/plain": [
       "<Figure size 432x288 with 1 Axes>"
      ]
     },
     "metadata": {
      "needs_background": "light"
     },
     "output_type": "display_data"
    }
   ],
   "source": [
    "# visualize data and labels\n",
    "import matplotlib.pyplot as plt\n",
    "%matplotlib inline\n",
    "\n",
    "# 3 (label 0)\n",
    "index = 3000\n",
    "print(\"Label:\", mnist_train_labels_3_8[index])\n",
    "plt.imshow(mnist_train_images_3_8[index].reshape(28, 28),cmap='gray')\n",
    "plt.show()\n",
    "\n",
    "# 8 (label 1)\n",
    "index = 8000\n",
    "print(\"Label:\", mnist_train_labels_3_8[index])\n",
    "plt.imshow(mnist_train_images_3_8[index].reshape(28, 28),cmap='gray')\n",
    "plt.show()"
   ]
  },
  {
   "cell_type": "code",
   "execution_count": 6,
   "metadata": {},
   "outputs": [
    {
     "name": "stdout",
     "output_type": "stream",
     "text": [
      "Naive Random Forest (by flattening the entire image)\n",
      "Test Accuracy: 0.9803427419354839\n",
      "Validation Confusion Matrix: \n",
      "[[994  16]\n",
      " [ 23 951]]\n"
     ]
    }
   ],
   "source": [
    "print(\"Naive Random Forest (by flattening the entire image)\")\n",
    "# Train\n",
    "clf = RandomForestClassifier()\n",
    "clf.fit(mnist_train_images_3_8.reshape(-1, 28*28*1), mnist_train_labels_3_8)\n",
    "# Test\n",
    "mnist_test_preds_3_8 = clf.predict(mnist_test_images_3_8.reshape(-1, 28*28*1))\n",
    "print(\"Test Accuracy: \" + str(accuracy_score(mnist_test_labels_3_8, mnist_test_preds_3_8)))\n",
    "print(\"Validation Confusion Matrix: \\n\" + str(confusion_matrix(mnist_test_labels_3_8, mnist_test_preds_3_8)))"
   ]
  },
  {
   "cell_type": "code",
   "execution_count": 7,
   "metadata": {},
   "outputs": [],
   "source": [
    "# The Deep Convolution Random Forest class (for binary classification)\n",
    "class ConvRF(object):\n",
    "    def __init__(self, kernel_size=5, stride=2):\n",
    "        self.kernel_size = kernel_size\n",
    "        self.stride = stride\n",
    "        self.kernel_forests = None\n",
    "\n",
    "    def _convolve_chop(self, images, labels=None, flatten=False):\n",
    "\n",
    "        batch_size, in_dim, _, num_channels = images.shape\n",
    "\n",
    "        out_dim = int((in_dim - self.kernel_size) / self.stride) + 1  # calculate output dimensions\n",
    "\n",
    "        # create matrix to hold the chopped images\n",
    "        out_images = np.zeros((batch_size, out_dim, out_dim,\n",
    "                               self.kernel_size, self.kernel_size, num_channels))\n",
    "        out_labels = None\n",
    "\n",
    "        curr_y = out_y = 0\n",
    "        # move kernel vertically across the image\n",
    "        while curr_y + self.kernel_size <= in_dim:\n",
    "            curr_x = out_x = 0\n",
    "            # move kernel horizontally across the image\n",
    "            while curr_x + self.kernel_size <= in_dim:\n",
    "                # chop images\n",
    "                out_images[:, out_x, out_y] = images[:, curr_x:curr_x +\n",
    "                                                     self.kernel_size, curr_y:curr_y+self.kernel_size, :]\n",
    "                curr_x += self.stride\n",
    "                out_x += 1\n",
    "            curr_y += self.stride\n",
    "            out_y += 1\n",
    "\n",
    "        if flatten:\n",
    "            out_images = out_images.reshape(batch_size, out_dim, out_dim, -1)\n",
    "\n",
    "        if labels is not None:\n",
    "            out_labels = np.zeros((batch_size, out_dim, out_dim))\n",
    "            out_labels[:, ] = labels.reshape(-1, 1, 1)\n",
    "\n",
    "        return out_images, out_labels\n",
    "\n",
    "    def convolve_fit(self, images, labels):\n",
    "        num_channels = images.shape[-1]\n",
    "        sub_images, sub_labels = self._convolve_chop(images, labels=labels, flatten=True)\n",
    "\n",
    "        batch_size, out_dim, _, _ = sub_images.shape\n",
    "        self.kernel_forests = np.zeros((out_dim, out_dim), dtype=np.int).tolist()\n",
    "        convolved_image = np.zeros((images.shape[0], out_dim, out_dim, 1))\n",
    "        \n",
    "        for i in range(out_dim):\n",
    "            for j in range(out_dim):\n",
    "                self.kernel_forests[i][j] = RandomForestClassifier()\n",
    "                self.kernel_forests[i][j].fit(sub_images[:, i, j], sub_labels[:, i, j])\n",
    "                convolved_image[:, i, j] = self.kernel_forests[i][j].predict_proba(sub_images[:, i, j])[..., 1][..., np.newaxis]\n",
    "        return convolved_image\n",
    "\n",
    "    def convolve_predict(self, images):\n",
    "        if not self.kernel_forests:\n",
    "            raise Exception(\"Should fit training data before predicting\")\n",
    "\n",
    "        num_channels = images.shape[-1]\n",
    "        sub_images, _ = self._convolve_chop(images, flatten=True)\n",
    "\n",
    "        batch_size, out_dim, _, _ = sub_images.shape\n",
    "        \n",
    "        kernel_predictions = np.zeros((images.shape[0], out_dim, out_dim, 1))\n",
    "        \n",
    "        for i in range(out_dim):\n",
    "            for j in range(out_dim):\n",
    "                kernel_predictions[:, i, j] = self.kernel_forests[i][j].predict_proba(sub_images[:, i, j])[..., 1][..., np.newaxis]\n",
    "        return kernel_predictions"
   ]
  },
  {
   "cell_type": "code",
   "execution_count": 10,
   "metadata": {},
   "outputs": [
    {
     "name": "stdout",
     "output_type": "stream",
     "text": [
      "DeepConvRF: One ConvRF\n",
      "Kernel Size: (10,10); Stride: 2\n",
      "Technique: Posteriors (fn: rf.predict_proba())\n",
      "ConvRF map output shape: (10, 10)\n",
      "Test Accuracy: 0.9949596774193549\n",
      "Validation Confusion Matrix: \n",
      "[[1001    9]\n",
      " [   1  973]]\n"
     ]
    }
   ],
   "source": [
    "##########################################################\n",
    "print(\"DeepConvRF: One ConvRF\")\n",
    "print(\"Kernel Size: (10,10); Stride: 2\")\n",
    "print(\"Technique: Posteriors (fn: rf.predict_proba())\")\n",
    "## Train\n",
    "# ConvRF (layer 1)\n",
    "conv1 = ConvRF(kernel_size=10, stride=2)\n",
    "conv1_map = conv1.convolve_fit(mnist_train_images_3_8, mnist_train_labels_3_8)\n",
    "print(\"ConvRF map output shape:\", conv1_map.shape[1:-1])\n",
    "\n",
    "# Full RF\n",
    "conv1_full_RF = RandomForestClassifier()\n",
    "conv1_full_RF.fit(conv1_map.reshape(len(mnist_train_images_3_8), -1), mnist_train_labels_3_8)\n",
    "\n",
    "## Test (after ConvRF 1 and Full RF)\n",
    "conv1_map_test = conv1.convolve_predict(mnist_test_images_3_8)\n",
    "mnist_test_preds = conv1_full_RF.predict(conv1_map_test.reshape(len(mnist_test_images_3_8), -1))\n",
    "\n",
    "print(\"Test Accuracy: \" + str(accuracy_score(mnist_test_labels_3_8, mnist_test_preds)))\n",
    "print(\"Validation Confusion Matrix: \\n\" + str(confusion_matrix(mnist_test_labels_3_8, mnist_test_preds)))"
   ]
  },
  {
   "cell_type": "code",
   "execution_count": 99,
   "metadata": {},
   "outputs": [],
   "source": [
    "def run_one_layer_deep_conv_rf(train_images, train_labels, test_images, test_labels, fraction_of_train_samples, class1=3, class2=8):\n",
    "    num_train_samples_class_1 = int(np.sum(train_labels==class1) * fraction_of_train_samples)\n",
    "    num_train_samples_class_2 = int(np.sum(train_labels==class2) * fraction_of_train_samples)\n",
    "    \n",
    "    # get only train images and labels for class 1 and class 2\n",
    "    train_images = np.concatenate([train_images[train_labels==class1][:num_train_samples_class_1], train_images[train_labels==class2][:num_train_samples_class_2]])\n",
    "    train_labels = np.concatenate([np.repeat(0, num_train_samples_class_1), np.repeat(1, num_train_samples_class_2)])\n",
    "\n",
    "    # get only test images and labels for class 1 and class 2\n",
    "    test_images = np.concatenate([test_images[test_labels==class1], test_images[test_labels==class2]])\n",
    "    test_labels = np.concatenate([np.repeat(0, np.sum(test_labels==class1)), np.repeat(1, np.sum(test_labels==class2))])\n",
    "    \n",
    "    ## Train\n",
    "    # ConvRF (layer 1)\n",
    "    conv1 = ConvRF(kernel_size=10, stride=2)\n",
    "    conv1_map = conv1.convolve_fit(train_images, train_labels)\n",
    "\n",
    "    # Full RF\n",
    "    conv1_full_RF = RandomForestClassifier()\n",
    "    conv1_full_RF.fit(conv1_map.reshape(len(train_images), -1), train_labels)\n",
    "\n",
    "    ## Test (after ConvRF 1 and Full RF)\n",
    "    conv1_map_test = conv1.convolve_predict(test_images)\n",
    "    mnist_test_preds = conv1_full_RF.predict(conv1_map_test.reshape(len(test_images), -1))\n",
    "\n",
    "    return accuracy_score(test_labels, mnist_test_preds)"
   ]
  },
  {
   "cell_type": "code",
   "execution_count": 100,
   "metadata": {},
   "outputs": [],
   "source": [
    "def run_naive_rf(train_images, train_labels, test_images, test_labels, fraction_of_train_samples, class1=3, class2=8):\n",
    "    num_train_samples_class_1 = int(np.sum(train_labels==class1) * fraction_of_train_samples)\n",
    "    num_train_samples_class_2 = int(np.sum(train_labels==class2) * fraction_of_train_samples)\n",
    "    \n",
    "    # get only train images and labels for class 1 and class 2\n",
    "    train_images = np.concatenate([train_images[train_labels==class1][:num_train_samples_class_1], train_images[train_labels==class2][:num_train_samples_class_2]])\n",
    "    train_labels = np.concatenate([np.repeat(0, num_train_samples_class_1), np.repeat(1, num_train_samples_class_2)])\n",
    "\n",
    "    # get only test images and labels for class 1 and class 2\n",
    "    test_images = np.concatenate([test_images[test_labels==class1], test_images[test_labels==class2]])\n",
    "    test_labels = np.concatenate([np.repeat(0, np.sum(test_labels==class1)), np.repeat(1, np.sum(test_labels==class2))])\n",
    "\n",
    "    # Train\n",
    "    clf = RandomForestClassifier()\n",
    "    clf.fit(train_images.reshape(-1, 28*28*1), train_labels)\n",
    "    # Test\n",
    "    test_preds = clf.predict(test_images.reshape(-1, 28*28*1))\n",
    "    return accuracy_score(test_labels, test_preds)"
   ]
  },
  {
   "cell_type": "code",
   "execution_count": 102,
   "metadata": {},
   "outputs": [
    {
     "name": "stdout",
     "output_type": "stream",
     "text": [
      "0.9894153225806451\n",
      "0.9712701612903226\n"
     ]
    }
   ],
   "source": [
    "# test above functions\n",
    "print(run_one_layer_deep_conv_rf(mnist_train_images, mnist_train_labels, mnist_test_images, mnist_test_labels, 0.3, 3, 8))\n",
    "print(run_naive_rf(mnist_train_images, mnist_train_labels, mnist_test_images, mnist_test_labels, 0.3, 3, 8))"
   ]
  },
  {
   "cell_type": "code",
   "execution_count": 109,
   "metadata": {},
   "outputs": [
    {
     "name": "stdout",
     "output_type": "stream",
     "text": [
      "Train Fraction: 0.01\n",
      "Accuracy: 0.9309475806451613\n",
      "Train Fraction: 0.016681005372000592\n",
      "Accuracy: 0.9354838709677419\n",
      "Train Fraction: 0.027825594022071243\n",
      "Accuracy: 0.9566532258064516\n",
      "Train Fraction: 0.046415888336127774\n",
      "Accuracy: 0.9717741935483871\n",
      "Train Fraction: 0.0774263682681127\n",
      "Accuracy: 0.9758064516129032\n",
      "Train Fraction: 0.1291549665014884\n",
      "Accuracy: 0.9763104838709677\n",
      "Train Fraction: 0.21544346900318834\n",
      "Accuracy: 0.9873991935483871\n",
      "Train Fraction: 0.3593813663804626\n",
      "Accuracy: 0.9904233870967742\n",
      "Train Fraction: 0.5994842503189409\n",
      "Accuracy: 0.9934475806451613\n",
      "Train Fraction: 1.0\n",
      "Accuracy: 0.9939516129032258\n"
     ]
    }
   ],
   "source": [
    "# accuracy vs num training samples (deep_conv_rf)\n",
    "deep_conv_rf_acc_vs_n = list()\n",
    "fraction_of_train_samples_space = np.geomspace(0.01, 1.0, num=10)\n",
    "for fraction_of_train_samples in fraction_of_train_samples_space:\n",
    "    best_accuracy = max([run_one_layer_deep_conv_rf(mnist_train_images, mnist_train_labels, mnist_test_images, mnist_test_labels, fraction_of_train_samples, 3, 8) for _ in range(3)])\n",
    "    deep_conv_rf_acc_vs_n.append(best_accuracy)\n",
    "    print(\"Train Fraction:\", str(fraction_of_train_samples))\n",
    "    print(\"Accuracy:\", str(best_accuracy))"
   ]
  },
  {
   "cell_type": "code",
   "execution_count": 110,
   "metadata": {},
   "outputs": [
    {
     "name": "stdout",
     "output_type": "stream",
     "text": [
      "Train Fraction: 0.01\n",
      "Accuracy: 0.9067540322580645\n",
      "Train Fraction: 0.016681005372000592\n",
      "Accuracy: 0.907258064516129\n",
      "Train Fraction: 0.027825594022071243\n",
      "Accuracy: 0.9289314516129032\n",
      "Train Fraction: 0.046415888336127774\n",
      "Accuracy: 0.9435483870967742\n",
      "Train Fraction: 0.0774263682681127\n",
      "Accuracy: 0.9621975806451613\n",
      "Train Fraction: 0.1291549665014884\n",
      "Accuracy: 0.9652217741935484\n",
      "Train Fraction: 0.21544346900318834\n",
      "Accuracy: 0.967741935483871\n",
      "Train Fraction: 0.3593813663804626\n",
      "Accuracy: 0.9773185483870968\n",
      "Train Fraction: 0.5994842503189409\n",
      "Accuracy: 0.9813508064516129\n",
      "Train Fraction: 1.0\n",
      "Accuracy: 0.9848790322580645\n"
     ]
    }
   ],
   "source": [
    "# accuracy vs num training samples (naive_rf)\n",
    "naive_rf_acc_vs_n = list()\n",
    "fraction_of_train_samples_space = np.geomspace(0.01, 1.0, num=10)\n",
    "for fraction_of_train_samples in fraction_of_train_samples_space:\n",
    "    best_accuracy = max([run_naive_rf(mnist_train_images, mnist_train_labels, mnist_test_images, mnist_test_labels, fraction_of_train_samples, 3, 8) for _ in range(3)])\n",
    "    naive_rf_acc_vs_n.append(best_accuracy)\n",
    "    print(\"Train Fraction:\", str(fraction_of_train_samples))\n",
    "    print(\"Accuracy:\", str(best_accuracy))"
   ]
  },
  {
   "cell_type": "code",
   "execution_count": 120,
   "metadata": {},
   "outputs": [
    {
     "data": {
      "image/png": "[encoded data removed]",
      "text/plain": [
       "<Figure size 640x480 with 1 Axes>"
      ]
     },
     "metadata": {},
     "output_type": "display_data"
    }
   ],
   "source": [
    "import matplotlib.pyplot as plt; plt.style.use('classic')\n",
    "\n",
    "plt.rcParams[\"legend.loc\"] = \"best\"\n",
    "plt.rcParams['figure.facecolor'] = 'white'\n",
    "\n",
    "fig, ax = plt.subplots() # create a new figure with a default 111 subplot\n",
    "ax.plot(fraction_of_train_samples_space, naive_rf_acc_vs_n, marker='X', markerfacecolor='blue', markersize=6, color='red', linewidth=4, label=\"Naive RF\")\n",
    "ax.plot(fraction_of_train_samples_space, deep_conv_rf_acc_vs_n, marker='X', markerfacecolor='blue', markersize=6, color='green', linewidth=4, label=\"Deep Conv RF\")\n",
    "\n",
    "ax.set_xlabel('Fraction of Train Samples', fontsize=18)\n",
    "ax.set_xlim(0, 1)\n",
    "ax.set_ylabel('Accuracy on Test Set', fontsize=18)\n",
    "ax.set_ylim(0.85, 1)\n",
    "ax.set_title(\"3 vs 8 Classification\", fontsize=18)\n",
    "plt.legend()\n",
    "plt.show()"
   ]
  },
  {
   "cell_type": "code",
   "execution_count": 121,
   "metadata": {},
   "outputs": [],
   "source": [
    "# 1 vs 7 Classification"
   ]
  },
  {
   "cell_type": "code",
   "execution_count": 122,
   "metadata": {},
   "outputs": [],
   "source": [
    "# get only train images and labels for two classes: 1 and 7\n",
    "mnist_train_images_1_7 = np.concatenate([mnist_train_images[mnist_train_labels==1], mnist_train_images[mnist_train_labels==7]])\n",
    "mnist_train_labels_1_7 = np.concatenate([np.repeat(0, np.sum(mnist_train_labels==1)), np.repeat(1, np.sum(mnist_train_labels==7))])\n",
    "\n",
    "# get only test images and labels for two classes: 1 and 7\n",
    "mnist_test_images_1_7 = np.concatenate([mnist_test_images[mnist_test_labels==1], mnist_test_images[mnist_test_labels==7]])\n",
    "mnist_test_labels_1_7 = np.concatenate([np.repeat(0, np.sum(mnist_test_labels==1)), np.repeat(1, np.sum(mnist_test_labels==7))])"
   ]
  },
  {
   "cell_type": "code",
   "execution_count": 123,
   "metadata": {},
   "outputs": [
    {
     "name": "stdout",
     "output_type": "stream",
     "text": [
      "Label: 0\n"
     ]
    },
    {
     "data": {
      "image/png": "[encoded data removed]",
      "text/plain": [
       "<Figure size 432x288 with 1 Axes>"
      ]
     },
     "metadata": {
      "needs_background": "light"
     },
     "output_type": "display_data"
    },
    {
     "name": "stdout",
     "output_type": "stream",
     "text": [
      "Label: 1\n"
     ]
    },
    {
     "data": {
      "image/png": "[encoded data removed]",
      "text/plain": [
       "<Figure size 432x288 with 1 Axes>"
      ]
     },
     "metadata": {
      "needs_background": "light"
     },
     "output_type": "display_data"
    }
   ],
   "source": [
    "# visualize data and labels\n",
    "import matplotlib.pyplot as plt\n",
    "%matplotlib inline\n",
    "\n",
    "# 1 (label 0)\n",
    "index = 3000\n",
    "print(\"Label:\", mnist_train_labels_1_7[index])\n",
    "plt.imshow(mnist_train_images_1_7[index].reshape(28, 28),cmap='gray')\n",
    "plt.show()\n",
    "\n",
    "# 7 (label 1)\n",
    "index = 8000\n",
    "print(\"Label:\", mnist_train_labels_1_7[index])\n",
    "plt.imshow(mnist_train_images_1_7[index].reshape(28, 28),cmap='gray')\n",
    "plt.show()"
   ]
  },
  {
   "cell_type": "code",
   "execution_count": 124,
   "metadata": {},
   "outputs": [
    {
     "name": "stdout",
     "output_type": "stream",
     "text": [
      "Naive Random Forest (by flattening the entire image)\n",
      "Test Accuracy: 0.9921405455386038\n",
      "Validation Confusion Matrix: \n",
      "[[1134    1]\n",
      " [  16 1012]]\n"
     ]
    }
   ],
   "source": [
    "print(\"Naive Random Forest (by flattening the entire image)\")\n",
    "# Train\n",
    "clf = RandomForestClassifier()\n",
    "clf.fit(mnist_train_images_1_7.reshape(-1, 28*28*1), mnist_train_labels_1_7)\n",
    "# Test\n",
    "mnist_test_preds_1_7 = clf.predict(mnist_test_images_1_7.reshape(-1, 28*28*1))\n",
    "print(\"Test Accuracy: \" + str(accuracy_score(mnist_test_labels_1_7, mnist_test_preds_1_7)))\n",
    "print(\"Validation Confusion Matrix: \\n\" + str(confusion_matrix(mnist_test_labels_1_7, mnist_test_preds_1_7)))"
   ]
  },
  {
   "cell_type": "code",
   "execution_count": 125,
   "metadata": {},
   "outputs": [
    {
     "name": "stdout",
     "output_type": "stream",
     "text": [
      "DeepConvRF: One ConvRF\n",
      "Kernel Size: (10,10); Stride: 2\n",
      "Technique: Posteriors (fn: rf.predict_proba())\n",
      "ConvRF map output shape: (10, 10)\n",
      "Test Accuracy: 0.9939898289412853\n",
      "Validation Confusion Matrix: \n",
      "[[1130    5]\n",
      " [   8 1020]]\n"
     ]
    }
   ],
   "source": [
    "##########################################################\n",
    "print(\"DeepConvRF: One ConvRF\")\n",
    "print(\"Kernel Size: (10,10); Stride: 2\")\n",
    "print(\"Technique: Posteriors (fn: rf.predict_proba())\")\n",
    "## Train\n",
    "# ConvRF (layer 1)\n",
    "conv1 = ConvRF(kernel_size=10, stride=2)\n",
    "conv1_map = conv1.convolve_fit(mnist_train_images_1_7, mnist_train_labels_1_7)\n",
    "print(\"ConvRF map output shape:\", conv1_map.shape[1:-1])\n",
    "\n",
    "# Full RF\n",
    "conv1_full_RF = RandomForestClassifier()\n",
    "conv1_full_RF.fit(conv1_map.reshape(len(mnist_train_images_1_7), -1), mnist_train_labels_1_7)\n",
    "\n",
    "## Test (after ConvRF 1 and Full RF)\n",
    "conv1_map_test = conv1.convolve_predict(mnist_test_images_1_7)\n",
    "mnist_test_preds = conv1_full_RF.predict(conv1_map_test.reshape(len(mnist_test_images_1_7), -1))\n",
    "\n",
    "print(\"Test Accuracy: \" + str(accuracy_score(mnist_test_labels_1_7, mnist_test_preds)))\n",
    "print(\"Validation Confusion Matrix: \\n\" + str(confusion_matrix(mnist_test_labels_1_7, mnist_test_preds)))"
   ]
  },
  {
   "cell_type": "code",
   "execution_count": 134,
   "metadata": {},
   "outputs": [
    {
     "name": "stdout",
     "output_type": "stream",
     "text": [
      "Train Fraction: 0.01\n",
      "Accuracy: 0.9805825242718447\n",
      "Train Fraction: 0.016681005372000592\n",
      "Accuracy: 0.9875173370319001\n",
      "Train Fraction: 0.027825594022071243\n",
      "Accuracy: 0.9842810910772076\n",
      "Train Fraction: 0.046415888336127774\n",
      "Accuracy: 0.9870550161812298\n",
      "Train Fraction: 0.0774263682681127\n",
      "Accuracy: 0.9889042995839112\n",
      "Train Fraction: 0.1291549665014884\n",
      "Accuracy: 0.989828941285252\n",
      "Train Fraction: 0.21544346900318834\n",
      "Accuracy: 0.989828941285252\n",
      "Train Fraction: 0.3593813663804626\n",
      "Accuracy: 0.9930651872399445\n",
      "Train Fraction: 0.5994842503189409\n",
      "Accuracy: 0.994914470642626\n",
      "Train Fraction: 1.0\n",
      "Accuracy: 0.9939898289412853\n"
     ]
    }
   ],
   "source": [
    "# accuracy vs num training samples (deep_conv_rf)\n",
    "deep_conv_rf_acc_vs_n = list()\n",
    "fraction_of_train_samples_space = np.geomspace(0.01, 1.0, num=10)\n",
    "for fraction_of_train_samples in fraction_of_train_samples_space:\n",
    "    best_accuracy = max([run_one_layer_deep_conv_rf(mnist_train_images, mnist_train_labels, mnist_test_images, mnist_test_labels, fraction_of_train_samples, 1, 7) for _ in range(3)])\n",
    "    deep_conv_rf_acc_vs_n.append(best_accuracy)\n",
    "    print(\"Train Fraction:\", str(fraction_of_train_samples))\n",
    "    print(\"Accuracy:\", str(best_accuracy))"
   ]
  },
  {
   "cell_type": "code",
   "execution_count": 135,
   "metadata": {},
   "outputs": [
    {
     "name": "stdout",
     "output_type": "stream",
     "text": [
      "Train Fraction: 0.01\n",
      "Accuracy: 0.970873786407767\n",
      "Train Fraction: 0.016681005372000592\n",
      "Accuracy: 0.9815071659731854\n",
      "Train Fraction: 0.027825594022071243\n",
      "Accuracy: 0.9875173370319001\n",
      "Train Fraction: 0.046415888336127774\n",
      "Accuracy: 0.986130374479889\n",
      "Train Fraction: 0.0774263682681127\n",
      "Accuracy: 0.9884419787332409\n",
      "Train Fraction: 0.1291549665014884\n",
      "Accuracy: 0.9907535829865927\n",
      "Train Fraction: 0.21544346900318834\n",
      "Accuracy: 0.9902912621359223\n",
      "Train Fraction: 0.3593813663804626\n",
      "Accuracy: 0.9926028663892742\n",
      "Train Fraction: 0.5994842503189409\n",
      "Accuracy: 0.9926028663892742\n",
      "Train Fraction: 1.0\n",
      "Accuracy: 0.994914470642626\n"
     ]
    }
   ],
   "source": [
    "# accuracy vs num training samples (naive_rf)\n",
    "naive_rf_acc_vs_n = list()\n",
    "fraction_of_train_samples_space = np.geomspace(0.01, 1.0, num=10)\n",
    "for fraction_of_train_samples in fraction_of_train_samples_space:\n",
    "    best_accuracy = max([run_naive_rf(mnist_train_images, mnist_train_labels, mnist_test_images, mnist_test_labels, fraction_of_train_samples, 1, 7) for _ in range(3)])\n",
    "    naive_rf_acc_vs_n.append(best_accuracy)\n",
    "    print(\"Train Fraction:\", str(fraction_of_train_samples))\n",
    "    print(\"Accuracy:\", str(best_accuracy))"
   ]
  },
  {
   "cell_type": "code",
   "execution_count": 136,
   "metadata": {},
   "outputs": [
    {
     "data": {
      "image/png": "[encoded data removed]",
      "text/plain": [
       "<Figure size 640x480 with 1 Axes>"
      ]
     },
     "metadata": {},
     "output_type": "display_data"
    }
   ],
   "source": [
    "import matplotlib.pyplot as plt; plt.style.use('classic')\n",
    "\n",
    "plt.rcParams[\"legend.loc\"] = \"best\"\n",
    "plt.rcParams['figure.facecolor'] = 'white'\n",
    "\n",
    "fig, ax = plt.subplots() # create a new figure with a default 111 subplot\n",
    "ax.plot(fraction_of_train_samples_space, naive_rf_acc_vs_n, marker='X', markerfacecolor='blue', markersize=6, color='red', linewidth=4, label=\"Naive RF\")\n",
    "ax.plot(fraction_of_train_samples_space, deep_conv_rf_acc_vs_n, marker='X', markerfacecolor='blue', markersize=6, color='green', linewidth=4, label=\"Deep Conv RF\")\n",
    "\n",
    "ax.set_xlabel('Fraction of Train Samples', fontsize=18)\n",
    "ax.set_xlim(0, 1)\n",
    "ax.set_ylabel('Accuracy on Test Set', fontsize=18)\n",
    "ax.set_ylim(0.96, 1)\n",
    "ax.set_title(\"1 vs 7 Classification\", fontsize=18)\n",
    "plt.legend()\n",
    "plt.show()"
   ]
  },
  {
   "cell_type": "code",
   "execution_count": 214,
   "metadata": {},
   "outputs": [],
   "source": [
    "# Define a simple CNN\n",
    "from torch.autograd import Variable\n",
    "import torch.nn.functional as F\n",
    "\n",
    "class SimpleCNN(torch.nn.Module):\n",
    "    \n",
    "    def __init__(self):\n",
    "        super(SimpleCNN, self).__init__()        \n",
    "        #Input channels = 1, output channels = 1\n",
    "        self.conv1 = torch.nn.Conv2d(1, 1, kernel_size=10, stride=2)\n",
    "        self.fc1 = torch.nn.Linear(100, 2)\n",
    "        \n",
    "    def forward(self, x):\n",
    "        x = self.conv1(x)\n",
    "        x = x.view(-1, 100)\n",
    "        x = torch.sigmoid(F.relu(self.fc1(x)))\n",
    "        return(x)"
   ]
  },
  {
   "cell_type": "code",
   "execution_count": 215,
   "metadata": {},
   "outputs": [
    {
     "name": "stdout",
     "output_type": "stream",
     "text": [
      "Simple CNN Experiment (with one 10x10 filter, stride 2, one relu)\n",
      "Epoch [1/25], Loss: 0.5432\n",
      "Epoch [2/25], Loss: 0.5148\n",
      "Epoch [3/25], Loss: 0.5249\n",
      "Epoch [4/25], Loss: 0.5124\n",
      "Epoch [5/25], Loss: 0.5167\n",
      "Epoch [6/25], Loss: 0.4975\n",
      "Epoch [7/25], Loss: 0.5035\n",
      "Epoch [8/25], Loss: 0.4890\n",
      "Epoch [9/25], Loss: 0.4917\n",
      "Epoch [10/25], Loss: 0.5009\n",
      "Epoch [11/25], Loss: 0.5032\n",
      "Epoch [12/25], Loss: 0.4875\n",
      "Epoch [13/25], Loss: 0.4962\n",
      "Epoch [14/25], Loss: 0.5078\n",
      "Epoch [15/25], Loss: 0.5009\n",
      "Epoch [16/25], Loss: 0.5122\n",
      "Epoch [17/25], Loss: 0.4926\n",
      "Epoch [18/25], Loss: 0.5234\n",
      "Epoch [19/25], Loss: 0.4819\n",
      "Epoch [20/25], Loss: 0.4931\n",
      "Epoch [21/25], Loss: 0.5015\n",
      "Epoch [22/25], Loss: 0.5004\n",
      "Epoch [23/25], Loss: 0.4897\n",
      "Epoch [24/25], Loss: 0.5009\n",
      "Epoch [25/25], Loss: 0.4964\n",
      "Test Accuracy of the SimpleCNN model on the test images: 96 %\n"
     ]
    }
   ],
   "source": [
    "import torch.nn as nn\n",
    "import torch.utils.data as utils\n",
    "\n",
    "print(\"Simple CNN Experiment (with one 10x10 filter, stride 2, one relu)\")\n",
    "\n",
    "# set params\n",
    "num_epochs = 25\n",
    "learning_rate = 0.001\n",
    "\n",
    "# prepare data\n",
    "tensor_x = torch.stack([torch.Tensor(i.reshape(1, 28, 28)) for i in mnist_train_images_3_8]).float() # transform to torch tensors\n",
    "tensor_y = torch.stack([torch.Tensor([i]) for i in mnist_train_labels_3_8]).long()\n",
    "\n",
    "my_dataset = utils.TensorDataset(tensor_x,tensor_y) # create your datset\n",
    "train_loader = utils.DataLoader(my_dataset, batch_size=64, shuffle=True) # create your dataloader\n",
    "\n",
    "tensor_x = torch.stack([torch.Tensor(i.reshape(1, 28, 28)) for i in mnist_test_images_3_8]).float() # transform to torch tensors\n",
    "tensor_y = torch.stack([torch.Tensor([i]) for i in mnist_test_labels_3_8]).long()\n",
    "\n",
    "my_dataset = utils.TensorDataset(tensor_x,tensor_y) # create your datset\n",
    "test_loader = utils.DataLoader(my_dataset, batch_size=64) # create your dataloader\n",
    "\n",
    "# define model\n",
    "model = SimpleCNN()\n",
    "\n",
    "# loss and optimizer\n",
    "criterion = nn.CrossEntropyLoss()\n",
    "optimizer = torch.optim.Adam(model.parameters(), lr=learning_rate)\n",
    "\n",
    "# train the model\n",
    "total_step = len(train_loader)\n",
    "for epoch in range(num_epochs):\n",
    "    for i, (images, labels) in enumerate(train_loader):\n",
    "        images = images\n",
    "        labels = labels\n",
    "        \n",
    "        # Forward pass\n",
    "        outputs = model(images)\n",
    "        loss = criterion(outputs, labels.view(-1))\n",
    "\n",
    "        # Backward and optimize\n",
    "        optimizer.zero_grad()\n",
    "        loss.backward()\n",
    "        optimizer.step()\n",
    "        \n",
    "        if (i+1) % 100 == 0:\n",
    "            print ('Epoch [{}/{}], Loss: {:.4f}' \n",
    "                   .format(epoch+1, num_epochs, loss.item()))\n",
    "\n",
    "# test the model\n",
    "model.eval()  # eval mode (batchnorm uses moving mean/variance instead of mini-batch mean/variance)\n",
    "with torch.no_grad():\n",
    "    correct = 0\n",
    "    total = 0\n",
    "    for images, labels in test_loader:\n",
    "        images = images\n",
    "        labels = labels\n",
    "        outputs = model(images)\n",
    "        _, predicted = torch.max(outputs.data, 1)\n",
    "        total += labels.size(0)\n",
    "        correct += (predicted.view(-1) == labels.view(-1)).sum()\n",
    "    print('Test Accuracy of the SimpleCNN model on the test images: {} %'.format(100 * correct / total))"
   ]
  },
  {
   "cell_type": "code",
   "execution_count": null,
   "metadata": {},
   "outputs": [],
   "source": []
  },
  {
   "cell_type": "code",
   "execution_count": null,
   "metadata": {},
   "outputs": [],
   "source": []
  }
 ],
 "metadata": {
  "kernelspec": {
   "display_name": "Python 3",
   "language": "python",
   "name": "python3"
  },
  "language_info": {
   "codemirror_mode": {
    "name": "ipython",
    "version": 3
   },
   "file_extension": ".py",
   "mimetype": "text/x-python",
   "name": "python",
   "nbconvert_exporter": "python",
   "pygments_lexer": "ipython3",
   "version": "3.6.5"
  }
 },
 "nbformat": 4,
 "nbformat_minor": 2
}
