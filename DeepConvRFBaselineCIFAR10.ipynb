{
 "cells": [
  {
   "cell_type": "code",
   "execution_count": 12,
   "metadata": {},
   "outputs": [],
   "source": [
    "# general imports\n",
    "import numpy as np\n",
    "from sklearn.ensemble import RandomForestClassifier\n",
    "from sklearn.metrics import accuracy_score\n",
    "from sklearn.metrics import confusion_matrix\n",
    "import torch\n",
    "import torchvision.transforms as transforms\n",
    "import random"
   ]
  },
  {
   "cell_type": "code",
   "execution_count": 2,
   "metadata": {},
   "outputs": [],
   "source": [
    "# filter python warnings\n",
    "import warnings\n",
    "warnings.filterwarnings(\"ignore\")"
   ]
  },
  {
   "cell_type": "code",
   "execution_count": 3,
   "metadata": {},
   "outputs": [
    {
     "name": "stdout",
     "output_type": "stream",
     "text": [
      "Files already downloaded and verified\n",
      "Files already downloaded and verified\n"
     ]
    }
   ],
   "source": [
    "# prepare CIFAR data\n",
    "import torchvision.datasets as datasets\n",
    "\n",
    "scale = np.mean(np.arange(0, 256))\n",
    "normalize = lambda x: (x - scale) / scale\n",
    "\n",
    "# train data\n",
    "cifar_trainset = datasets.CIFAR10(root='./data', train=True, download=True, transform=None)\n",
    "cifar_train_images = normalize(cifar_trainset.train_data)\n",
    "cifar_train_labels = np.array(cifar_trainset.train_labels)\n",
    "\n",
    "# get only train images and labels for two classes: 3 (cat) and 5 (dog)\n",
    "cifar_train_images_3_5 = np.concatenate([cifar_train_images[cifar_train_labels==3], cifar_train_images[cifar_train_labels==5]])\n",
    "cifar_train_labels_3_5 = np.concatenate([np.repeat(0, np.sum(cifar_train_labels==3)), np.repeat(1, np.sum(cifar_train_labels==5))])\n",
    "\n",
    "# test data\n",
    "cifar_testset = datasets.CIFAR10(root='./data', train=False, download=True, transform=None)\n",
    "cifar_test_images = normalize(cifar_testset.test_data)\n",
    "cifar_test_labels = np.array(cifar_testset.test_labels)\n",
    "\n",
    "# get only test images and labels for two classes: 3 (cat) and 5 (dog)\n",
    "cifar_test_images_3_5 = np.concatenate([cifar_test_images[cifar_test_labels==3], cifar_test_images[cifar_test_labels==5]])\n",
    "cifar_test_labels_3_5 = np.concatenate([np.repeat(0, np.sum(cifar_test_labels==3)), np.repeat(1, np.sum(cifar_test_labels==5))])\n",
    "# print(np.min(cifar_train_images_3_5))\n",
    "# print(np.max(cifar_train_images_3_5))"
   ]
  },
  {
   "cell_type": "code",
   "execution_count": 4,
   "metadata": {},
   "outputs": [
    {
     "name": "stdout",
     "output_type": "stream",
     "text": [
      "(50000, 32, 32, 3)\n",
      "(10000, 32, 32, 3)\n",
      "[0 1 2 3 4 5 6 7 8 9]\n"
     ]
    }
   ],
   "source": [
    "# All of CIFAR 10\n",
    "print(cifar_train_images.shape)\n",
    "print(cifar_test_images.shape)\n",
    "print(np.unique(cifar_test_labels))"
   ]
  },
  {
   "cell_type": "code",
   "execution_count": 5,
   "metadata": {},
   "outputs": [
    {
     "name": "stdout",
     "output_type": "stream",
     "text": [
      "(10000, 32, 32, 3)\n",
      "(2000, 32, 32, 3)\n",
      "[0 1]\n"
     ]
    }
   ],
   "source": [
    "# Cats vs Dogs (CIFAR)\n",
    "print(cifar_train_images_3_5.shape)\n",
    "print(cifar_test_images_3_5.shape)\n",
    "print(np.unique(cifar_test_labels_3_5))"
   ]
  },
  {
   "cell_type": "code",
   "execution_count": 6,
   "metadata": {},
   "outputs": [
    {
     "name": "stderr",
     "output_type": "stream",
     "text": [
      "Clipping input data to the valid range for imshow with RGB data ([0..1] for floats or [0..255] for integers).\n"
     ]
    },
    {
     "name": "stdout",
     "output_type": "stream",
     "text": [
      "Label: 0\n"
     ]
    },
    {
     "data": {
      "image/png": "[encoded data removed]",
      "text/plain": [
       "<Figure size 432x288 with 1 Axes>"
      ]
     },
     "metadata": {
      "needs_background": "light"
     },
     "output_type": "display_data"
    },
    {
     "name": "stdout",
     "output_type": "stream",
     "text": [
      "Label: 1\n"
     ]
    },
    {
     "name": "stderr",
     "output_type": "stream",
     "text": [
      "Clipping input data to the valid range for imshow with RGB data ([0..1] for floats or [0..255] for integers).\n"
     ]
    },
    {
     "data": {
      "image/png": "[encoded data removed]",
      "text/plain": [
       "<Figure size 432x288 with 1 Axes>"
      ]
     },
     "metadata": {
      "needs_background": "light"
     },
     "output_type": "display_data"
    }
   ],
   "source": [
    "# visualize data and labels\n",
    "import matplotlib.pyplot as plt\n",
    "%matplotlib inline\n",
    "\n",
    "# 3 (label 0)\n",
    "index = 2500\n",
    "print(\"Label:\", cifar_train_labels_3_5[index])\n",
    "plt.imshow(cifar_train_images_3_5[index])\n",
    "plt.show()\n",
    "\n",
    "# 5 (label 1)\n",
    "index = 7500\n",
    "print(\"Label:\", cifar_train_labels_3_5[index])\n",
    "plt.imshow(cifar_train_images_3_5[index])\n",
    "plt.show()"
   ]
  },
  {
   "cell_type": "code",
   "execution_count": 9,
   "metadata": {},
   "outputs": [
    {
     "name": "stdout",
     "output_type": "stream",
     "text": [
      "Naive Random Forest (by flattening the entire image)\n",
      "Test Accuracy: 0.607\n",
      "Validation Confusion Matrix: \n",
      "[[713 287]\n",
      " [499 501]]\n"
     ]
    }
   ],
   "source": [
    "print(\"Naive Random Forest (by flattening the entire image)\")\n",
    "# Train\n",
    "clf = RandomForestClassifier()\n",
    "clf.fit(cifar_train_images_3_5.reshape(-1, 32*32*3), cifar_train_labels_3_5)\n",
    "# Test\n",
    "cifar_test_preds_3_5 = clf.predict(cifar_test_images_3_5.reshape(-1, 32*32*3))\n",
    "print(\"Test Accuracy: \" + str(accuracy_score(cifar_test_labels_3_5, cifar_test_preds_3_5)))\n",
    "print(\"Validation Confusion Matrix: \\n\" + str(confusion_matrix(cifar_test_labels_3_5, cifar_test_preds_3_5)))"
   ]
  },
  {
   "cell_type": "code",
   "execution_count": 13,
   "metadata": {},
   "outputs": [],
   "source": [
    "# The Deep Convolution Random Forest class (for binary classification)\n",
    "class ConvRF(object):\n",
    "    def __init__(self, kernel_size=5, stride=2):\n",
    "        self.kernel_size = kernel_size\n",
    "        self.stride = stride\n",
    "        self.kernel_forests = None\n",
    "\n",
    "    def _convolve_chop(self, images, labels=None, flatten=False):\n",
    "\n",
    "        batch_size, in_dim, _, num_channels = images.shape\n",
    "\n",
    "        out_dim = int((in_dim - self.kernel_size) / self.stride) + 1  # calculate output dimensions\n",
    "\n",
    "        # create matrix to hold the chopped images\n",
    "        out_images = np.zeros((batch_size, out_dim, out_dim,\n",
    "                               self.kernel_size, self.kernel_size, num_channels))\n",
    "        out_labels = None\n",
    "\n",
    "        curr_y = out_y = 0\n",
    "        # move kernel vertically across the image\n",
    "        while curr_y + self.kernel_size <= in_dim:\n",
    "            curr_x = out_x = 0\n",
    "            # move kernel horizontally across the image\n",
    "            while curr_x + self.kernel_size <= in_dim:\n",
    "                # chop images\n",
    "                out_images[:, out_x, out_y] = images[:, curr_x:curr_x +\n",
    "                                                     self.kernel_size, curr_y:curr_y+self.kernel_size, :]\n",
    "                curr_x += self.stride\n",
    "                out_x += 1\n",
    "            curr_y += self.stride\n",
    "            out_y += 1\n",
    "\n",
    "        if flatten:\n",
    "            out_images = out_images.reshape(batch_size, out_dim, out_dim, -1)\n",
    "\n",
    "        if labels is not None:\n",
    "            out_labels = np.zeros((batch_size, out_dim, out_dim))\n",
    "            out_labels[:, ] = labels.reshape(-1, 1, 1)\n",
    "\n",
    "        return out_images, out_labels\n",
    "\n",
    "    def convolve_fit(self, images, labels):\n",
    "        num_channels = images.shape[-1]\n",
    "        sub_images, sub_labels = self._convolve_chop(images, labels=labels, flatten=True)\n",
    "\n",
    "        batch_size, out_dim, _, _ = sub_images.shape\n",
    "        self.kernel_forests = np.zeros((out_dim, out_dim), dtype=np.int).tolist()\n",
    "        convolved_image = np.zeros((images.shape[0], out_dim, out_dim, 1))\n",
    "        \n",
    "        for i in range(out_dim):\n",
    "            for j in range(out_dim):\n",
    "                self.kernel_forests[i][j] = RandomForestClassifier()\n",
    "                self.kernel_forests[i][j].fit(sub_images[:, i, j], sub_labels[:, i, j])\n",
    "                convolved_image[:, i, j] = self.kernel_forests[i][j].predict_proba(sub_images[:, i, j])[..., 1][..., np.newaxis]\n",
    "        return convolved_image\n",
    "\n",
    "    def convolve_predict(self, images):\n",
    "        if not self.kernel_forests:\n",
    "            raise Exception(\"Should fit training data before predicting\")\n",
    "\n",
    "        num_channels = images.shape[-1]\n",
    "        sub_images, _ = self._convolve_chop(images, flatten=True)\n",
    "\n",
    "        batch_size, out_dim, _, _ = sub_images.shape\n",
    "        \n",
    "        kernel_predictions = np.zeros((images.shape[0], out_dim, out_dim, 1))\n",
    "        \n",
    "        for i in range(out_dim):\n",
    "            for j in range(out_dim):\n",
    "                kernel_predictions[:, i, j] = self.kernel_forests[i][j].predict_proba(sub_images[:, i, j])[..., 1][..., np.newaxis]\n",
    "        return kernel_predictions"
   ]
  },
  {
   "cell_type": "code",
   "execution_count": 14,
   "metadata": {},
   "outputs": [
    {
     "name": "stdout",
     "output_type": "stream",
     "text": [
      "DeepConvRF: One ConvRF\n",
      "Kernel Size: (10,10); Stride: 2\n",
      "Technique: Posteriors (fn: rf.predict_proba())\n",
      "ConvRF map output shape: (12, 12)\n",
      "Test Accuracy: 0.6525\n",
      "Validation Confusion Matrix: \n",
      "[[687 313]\n",
      " [382 618]]\n"
     ]
    }
   ],
   "source": [
    "##########################################################\n",
    "print(\"DeepConvRF: One ConvRF\")\n",
    "print(\"Kernel Size: (10,10); Stride: 2\")\n",
    "print(\"Technique: Posteriors (fn: rf.predict_proba())\")\n",
    "## Train\n",
    "# ConvRF (layer 1)\n",
    "conv1 = ConvRF(kernel_size=10, stride=2)\n",
    "conv1_map = conv1.convolve_fit(cifar_train_images_3_5, cifar_train_labels_3_5)\n",
    "print(\"ConvRF map output shape:\", conv1_map.shape[1:-1])\n",
    "\n",
    "# Full RF\n",
    "conv1_full_RF = RandomForestClassifier()\n",
    "conv1_full_RF.fit(conv1_map.reshape(len(cifar_train_images_3_5), -1), cifar_train_labels_3_5)\n",
    "\n",
    "## Test (after ConvRF 1 and Full RF)\n",
    "conv1_map_test = conv1.convolve_predict(cifar_test_images_3_5)\n",
    "cifar_test_preds = conv1_full_RF.predict(conv1_map_test.reshape(len(cifar_test_images_3_5), -1))\n",
    "\n",
    "print(\"Test Accuracy: \" + str(accuracy_score(cifar_test_labels_3_5, cifar_test_preds)))\n",
    "print(\"Validation Confusion Matrix: \\n\" + str(confusion_matrix(cifar_test_labels_3_5, cifar_test_preds)))"
   ]
  },
  {
   "cell_type": "code",
   "execution_count": 15,
   "metadata": {},
   "outputs": [],
   "source": [
    "def run_one_layer_deep_conv_rf(train_images, train_labels, test_images, test_labels, fraction_of_train_samples, class1=3, class2=8):\n",
    "    num_train_samples_class_1 = int(np.sum(train_labels==class1) * fraction_of_train_samples)\n",
    "    num_train_samples_class_2 = int(np.sum(train_labels==class2) * fraction_of_train_samples)\n",
    "    \n",
    "    # get only train images and labels for class 1 and class 2\n",
    "    train_images = np.concatenate([train_images[train_labels==class1][:num_train_samples_class_1], train_images[train_labels==class2][:num_train_samples_class_2]])\n",
    "    train_labels = np.concatenate([np.repeat(0, num_train_samples_class_1), np.repeat(1, num_train_samples_class_2)])\n",
    "\n",
    "    # get only test images and labels for class 1 and class 2\n",
    "    test_images = np.concatenate([test_images[test_labels==class1], test_images[test_labels==class2]])\n",
    "    test_labels = np.concatenate([np.repeat(0, np.sum(test_labels==class1)), np.repeat(1, np.sum(test_labels==class2))])\n",
    "    \n",
    "    ## Train\n",
    "    # ConvRF (layer 1)\n",
    "    conv1 = ConvRF(kernel_size=10, stride=2)\n",
    "    conv1_map = conv1.convolve_fit(train_images, train_labels)\n",
    "\n",
    "    # Full RF\n",
    "    conv1_full_RF = RandomForestClassifier()\n",
    "    conv1_full_RF.fit(conv1_map.reshape(len(train_images), -1), train_labels)\n",
    "\n",
    "    ## Test (after ConvRF 1 and Full RF)\n",
    "    conv1_map_test = conv1.convolve_predict(test_images)\n",
    "    mnist_test_preds = conv1_full_RF.predict(conv1_map_test.reshape(len(test_images), -1))\n",
    "\n",
    "    return accuracy_score(test_labels, mnist_test_preds)"
   ]
  },
  {
   "cell_type": "code",
   "execution_count": 16,
   "metadata": {},
   "outputs": [],
   "source": [
    "def run_naive_rf(train_images, train_labels, test_images, test_labels, fraction_of_train_samples, class1=3, class2=8):\n",
    "    num_train_samples_class_1 = int(np.sum(train_labels==class1) * fraction_of_train_samples)\n",
    "    num_train_samples_class_2 = int(np.sum(train_labels==class2) * fraction_of_train_samples)\n",
    "    \n",
    "    # get only train images and labels for class 1 and class 2\n",
    "    train_images = np.concatenate([train_images[train_labels==class1][:num_train_samples_class_1], train_images[train_labels==class2][:num_train_samples_class_2]])\n",
    "    train_labels = np.concatenate([np.repeat(0, num_train_samples_class_1), np.repeat(1, num_train_samples_class_2)])\n",
    "\n",
    "    # get only test images and labels for class 1 and class 2\n",
    "    test_images = np.concatenate([test_images[test_labels==class1], test_images[test_labels==class2]])\n",
    "    test_labels = np.concatenate([np.repeat(0, np.sum(test_labels==class1)), np.repeat(1, np.sum(test_labels==class2))])\n",
    "\n",
    "    # Train\n",
    "    clf = RandomForestClassifier()\n",
    "    clf.fit(train_images.reshape(-1, 32*32*3), train_labels)\n",
    "    # Test\n",
    "    test_preds = clf.predict(test_images.reshape(-1, 32*32*3))\n",
    "    return accuracy_score(test_labels, test_preds)"
   ]
  },
  {
   "cell_type": "code",
   "execution_count": 17,
   "metadata": {},
   "outputs": [
    {
     "name": "stdout",
     "output_type": "stream",
     "text": [
      "0.6295\n",
      "0.6025\n"
     ]
    }
   ],
   "source": [
    "# test above functions\n",
    "print(run_one_layer_deep_conv_rf(cifar_train_images, cifar_train_labels, cifar_test_images, cifar_test_labels, 0.3, 3, 5))\n",
    "print(run_naive_rf(cifar_train_images, cifar_train_labels, cifar_test_images, cifar_test_labels, 0.3, 3, 5))"
   ]
  },
  {
   "cell_type": "code",
   "execution_count": 18,
   "metadata": {},
   "outputs": [
    {
     "name": "stdout",
     "output_type": "stream",
     "text": [
      "Train Fraction: 0.01\n",
      "Accuracy: 0.525\n",
      "Train Fraction: 0.016681005372000592\n",
      "Accuracy: 0.533\n",
      "Train Fraction: 0.027825594022071243\n",
      "Accuracy: 0.5535\n",
      "Train Fraction: 0.046415888336127774\n",
      "Accuracy: 0.5735\n",
      "Train Fraction: 0.0774263682681127\n",
      "Accuracy: 0.587\n",
      "Train Fraction: 0.1291549665014884\n",
      "Accuracy: 0.603\n",
      "Train Fraction: 0.21544346900318834\n",
      "Accuracy: 0.605\n",
      "Train Fraction: 0.3593813663804626\n",
      "Accuracy: 0.6415\n",
      "Train Fraction: 0.5994842503189409\n",
      "Accuracy: 0.6385\n",
      "Train Fraction: 1.0\n",
      "Accuracy: 0.669\n"
     ]
    }
   ],
   "source": [
    "# accuracy vs num training samples (deep_conv_rf)\n",
    "deep_conv_rf_acc_vs_n = list()\n",
    "fraction_of_train_samples_space = np.geomspace(0.01, 1.0, num=10)\n",
    "for fraction_of_train_samples in fraction_of_train_samples_space:\n",
    "    best_accuracy = max([run_one_layer_deep_conv_rf(cifar_train_images, cifar_train_labels, cifar_test_images, cifar_test_labels, fraction_of_train_samples, 3, 5) for _ in range(2)])\n",
    "    deep_conv_rf_acc_vs_n.append(best_accuracy)\n",
    "    print(\"Train Fraction:\", str(fraction_of_train_samples))\n",
    "    print(\"Accuracy:\", str(best_accuracy))"
   ]
  },
  {
   "cell_type": "code",
   "execution_count": 19,
   "metadata": {},
   "outputs": [
    {
     "name": "stdout",
     "output_type": "stream",
     "text": [
      "Train Fraction: 0.01\n",
      "Accuracy: 0.5185\n",
      "Train Fraction: 0.016681005372000592\n",
      "Accuracy: 0.5345\n",
      "Train Fraction: 0.027825594022071243\n",
      "Accuracy: 0.537\n",
      "Train Fraction: 0.046415888336127774\n",
      "Accuracy: 0.5635\n",
      "Train Fraction: 0.0774263682681127\n",
      "Accuracy: 0.5565\n",
      "Train Fraction: 0.1291549665014884\n",
      "Accuracy: 0.56\n",
      "Train Fraction: 0.21544346900318834\n",
      "Accuracy: 0.5915\n",
      "Train Fraction: 0.3593813663804626\n",
      "Accuracy: 0.6025\n",
      "Train Fraction: 0.5994842503189409\n",
      "Accuracy: 0.607\n",
      "Train Fraction: 1.0\n",
      "Accuracy: 0.608\n"
     ]
    }
   ],
   "source": [
    "# accuracy vs num training samples (naive_rf)\n",
    "naive_rf_acc_vs_n = list()\n",
    "fraction_of_train_samples_space = np.geomspace(0.01, 1.0, num=10)\n",
    "for fraction_of_train_samples in fraction_of_train_samples_space:\n",
    "    best_accuracy = max([run_naive_rf(cifar_train_images, cifar_train_labels, cifar_test_images, cifar_test_labels, fraction_of_train_samples, 3, 5) for _ in range(2)])\n",
    "    naive_rf_acc_vs_n.append(best_accuracy)\n",
    "    print(\"Train Fraction:\", str(fraction_of_train_samples))\n",
    "    print(\"Accuracy:\", str(best_accuracy))"
   ]
  },
  {
   "cell_type": "code",
   "execution_count": 22,
   "metadata": {},
   "outputs": [
    {
     "data": {
      "image/png": "[encoded data removed]",
      "text/plain": [
       "<Figure size 720x360 with 1 Axes>"
      ]
     },
     "metadata": {},
     "output_type": "display_data"
    }
   ],
   "source": [
    "import matplotlib.pyplot as plt\n",
    "import matplotlib\n",
    "import seaborn as sns; sns.set()\n",
    "\n",
    "plt.rcParams['figure.figsize'] = 10, 5\n",
    "plt.rcParams[\"legend.loc\"] = \"best\"\n",
    "plt.rcParams['figure.facecolor'] = 'white'\n",
    "\n",
    "fig, ax = plt.subplots() # create a new figure with a default 111 subplot\n",
    "ax.plot(fraction_of_train_samples_space, naive_rf_acc_vs_n, marker='X', markerfacecolor='red', markersize=6, color='green', linewidth=3, linestyle=\":\", label=\"Naive RF\")\n",
    "ax.plot(fraction_of_train_samples_space, deep_conv_rf_acc_vs_n, marker='X', markerfacecolor='red', markersize=6, color='green', linewidth=3, label=\"Deep Conv RF\")\n",
    "\n",
    "ax.set_xlabel('Fraction of Train Samples', fontsize=18)\n",
    "ax.set_xscale('log')\n",
    "ax.set_xticks(list(np.geomspace(0.01, 1.0, num=10)))\n",
    "ax.get_xaxis().set_major_formatter(matplotlib.ticker.ScalarFormatter())\n",
    "\n",
    "ax.set_ylabel('Accuracy on Test Set', fontsize=18)\n",
    "# ax.set_ylim(0.85, 1)\n",
    "\n",
    "ax.set_title(\"3 (cats) vs 5 (dogs) Classification\", fontsize=18)\n",
    "plt.legend()\n",
    "plt.show()"
   ]
  },
  {
   "cell_type": "code",
   "execution_count": 24,
   "metadata": {},
   "outputs": [],
   "source": [
    "# Define a simple CNN\n",
    "from torch.autograd import Variable\n",
    "import torch.nn.functional as F\n",
    "import torch.nn as nn\n",
    "import torch.utils.data as utils\n",
    "\n",
    "class SimpleCNN(torch.nn.Module):\n",
    "    \n",
    "    def __init__(self):\n",
    "        super(SimpleCNN, self).__init__()        \n",
    "        #Input channels = 1, output channels = 1\n",
    "        self.conv1 = torch.nn.Conv2d(3, 1, kernel_size=10, stride=2) ## 32 or 64 filters\n",
    "        self.fc1 = torch.nn.Linear(144*1, 10)\n",
    "        \n",
    "    def forward(self, x):\n",
    "        x = F.relu(self.conv1(x))\n",
    "        x = x.view(-1, 144*1)\n",
    "        x = self.fc1(x)\n",
    "        return(x)\n",
    "\n",
    "class Net(nn.Module):\n",
    "    def __init__(self):\n",
    "        super(Net, self).__init__()\n",
    "        self.conv1 = nn.Conv2d(3, 6, 5)\n",
    "        self.pool = nn.MaxPool2d(2, 2)\n",
    "        self.conv2 = nn.Conv2d(6, 16, 5)\n",
    "        self.fc1 = nn.Linear(16 * 5 * 5, 120)\n",
    "        self.fc2 = nn.Linear(120, 84)\n",
    "        self.fc3 = nn.Linear(84, 10)\n",
    "\n",
    "    def forward(self, x):\n",
    "        x = self.pool(F.relu(self.conv1(x)))\n",
    "        x = self.pool(F.relu(self.conv2(x)))\n",
    "        x = x.view(-1, 16 * 5 * 5)\n",
    "        x = F.relu(self.fc1(x))\n",
    "        x = F.relu(self.fc2(x))\n",
    "        x = self.fc3(x)\n",
    "        return x"
   ]
  },
  {
   "cell_type": "code",
   "execution_count": 27,
   "metadata": {},
   "outputs": [
    {
     "name": "stdout",
     "output_type": "stream",
     "text": [
      "Simple CNN Experiment (with one 10x10 filter, stride 2, one relu)\n",
      "Files already downloaded and verified\n",
      "Files already downloaded and verified\n",
      "[1,  2000] loss: 0.754\n",
      "[2,  2000] loss: 0.694\n",
      "Finished Training\n"
     ]
    }
   ],
   "source": [
    "print(\"Simple CNN Experiment (with one 10x10 filter, stride 2, one relu)\")\n",
    "\n",
    "# set params\n",
    "num_epochs = 2\n",
    "learning_rate = 0.001\n",
    "\n",
    "# prepare data\n",
    "\n",
    "# transform\n",
    "transform = transforms.Compose(\n",
    "    [transforms.ToTensor(),\n",
    "     transforms.Normalize((0.5, 0.5, 0.5), (0.5, 0.5, 0.5))])\n",
    "\n",
    "train_sampler = torch.utils.data.sampler.SubsetRandomSampler(np.concatenate([np.argwhere(cifar_train_labels==3).flatten(), np.argwhere(cifar_train_labels==5).flatten()]))\n",
    "trainset = datasets.CIFAR10(root='./data', train=True,\n",
    "                                        download=True, transform=transform)\n",
    "train_loader = torch.utils.data.DataLoader(trainset, batch_size=4, num_workers=2, sampler=train_sampler)\n",
    "\n",
    "test_sampler = torch.utils.data.sampler.SubsetRandomSampler(np.concatenate([np.argwhere(cifar_test_labels==3).flatten(), np.argwhere(cifar_test_labels==5).flatten()]))\n",
    "testset = datasets.CIFAR10(root='./data', train=False,\n",
    "                                       download=True, transform=transform)\n",
    "test_loader = torch.utils.data.DataLoader(testset, batch_size=4,\n",
    "                                         shuffle=False, num_workers=2, sampler=test_sampler)\n",
    "net = SimpleCNN()\n",
    "\n",
    "########################################################################\n",
    "# 3. Define a Loss function and optimizer\n",
    "# ^^^^^^^^^^^^^^^^^^^^^^^^^^^^^^^^^^^^^^^\n",
    "# Let's use a Classification Cross-Entropy loss and SGD with momentum.\n",
    "\n",
    "import torch.optim as optim\n",
    "\n",
    "criterion = nn.CrossEntropyLoss()\n",
    "optimizer = optim.SGD(net.parameters(), lr=0.001, momentum=0.9)\n",
    "\n",
    "########################################################################\n",
    "# 4. Train the network\n",
    "# ^^^^^^^^^^^^^^^^^^^^\n",
    "#\n",
    "# This is when things start to get interesting.\n",
    "# We simply have to loop over our data iterator, and feed the inputs to the\n",
    "# network and optimize.\n",
    "\n",
    "for epoch in range(num_epochs):  # loop over the dataset multiple times\n",
    "\n",
    "    running_loss = 0.0\n",
    "    for i, data in enumerate(train_loader, 0):\n",
    "        # get the inputs\n",
    "        inputs, labels = data\n",
    "\n",
    "        # zero the parameter gradients\n",
    "        optimizer.zero_grad()\n",
    "\n",
    "        # forward + backward + optimize\n",
    "        outputs = net(inputs)\n",
    "#         print(outputs.size(), labels.size())\n",
    "#         labels[labels==3] = 0\n",
    "#         labels[labels==5] = 1\n",
    "        loss = criterion(outputs, labels)\n",
    "        loss.backward()\n",
    "        optimizer.step()\n",
    "\n",
    "        # print statistics\n",
    "        running_loss += loss.item()\n",
    "        if i % 2000 == 1999:    # print every 2000 mini-batches\n",
    "            print('[%d, %5d] loss: %.3f' %\n",
    "                  (epoch + 1, i + 1, running_loss / 2000))\n",
    "            running_loss = 0.0\n",
    "\n",
    "print('Finished Training')"
   ]
  },
  {
   "cell_type": "code",
   "execution_count": 28,
   "metadata": {},
   "outputs": [
    {
     "name": "stdout",
     "output_type": "stream",
     "text": [
      "Accuracy of the network on the 10000 test images: 58.000000 %\n"
     ]
    }
   ],
   "source": [
    "correct = 0\n",
    "total = 0\n",
    "with torch.no_grad():\n",
    "    for data in test_loader:\n",
    "        images, labels = data\n",
    "        outputs = net(images)\n",
    "        _, predicted = torch.max(outputs.data, 1)\n",
    "        total += labels.size(0)\n",
    "#         print(predicted.size())\n",
    "#         print(labels.size())\n",
    "        correct += (predicted == labels.view(-1)).sum().item()\n",
    "\n",
    "print('Accuracy of the network on the 10000 test images: %f %%' % (\n",
    "    100 * correct / float(total)))"
   ]
  },
  {
   "cell_type": "code",
   "execution_count": 3,
   "metadata": {},
   "outputs": [],
   "source": [
    "# compare to 1 layer CNN, using only 1 filter, and also using N (32 to 64) filters - Done"
   ]
  },
  {
   "cell_type": "code",
   "execution_count": 2,
   "metadata": {},
   "outputs": [],
   "source": [
    "# fashion MNIST or SVHN or CIFAR or CatsVsDogs (FashionMNIST) - Two classes - Done"
   ]
  },
  {
   "cell_type": "code",
   "execution_count": null,
   "metadata": {},
   "outputs": [],
   "source": [
    "# compare multiple layers for both convRF and CNN - Done"
   ]
  },
  {
   "cell_type": "code",
   "execution_count": null,
   "metadata": {},
   "outputs": [],
   "source": [
    "# try SVHN or CIFAR or CatsVsDogs - CIFAR - Done"
   ]
  },
  {
   "cell_type": "code",
   "execution_count": null,
   "metadata": {},
   "outputs": [],
   "source": [
    "# Compare with single and multi layer DeepConvRFs and CNN (with 1 and 32 trees/filters) CIFAR - Done"
   ]
  },
  {
   "cell_type": "code",
   "execution_count": null,
   "metadata": {},
   "outputs": [],
   "source": [
    "# find optimal filter size configuration for the convRFs - Done"
   ]
  },
  {
   "cell_type": "code",
   "execution_count": null,
   "metadata": {},
   "outputs": [],
   "source": [
    "# code: shared RF for all patches per layer\n",
    "# chop images into patches and flatten them and then label them with a class, we have made MxM times more data now\n",
    "# train a single massive RF with 1000 trees on all of this data\n",
    "# DONE"
   ]
  },
  {
   "cell_type": "code",
   "execution_count": null,
   "metadata": {},
   "outputs": [],
   "source": [
    "# add plot: best possible for cnn on CIFAR - Done (try with more data - TO DO)"
   ]
  },
  {
   "cell_type": "code",
   "execution_count": null,
   "metadata": {},
   "outputs": [],
   "source": [
    "# Data size - slow to experiment"
   ]
  },
  {
   "cell_type": "code",
   "execution_count": null,
   "metadata": {},
   "outputs": [],
   "source": [
    "# Rerf Python"
   ]
  },
  {
   "cell_type": "code",
   "execution_count": null,
   "metadata": {},
   "outputs": [],
   "source": [
    "# use richard's CEF posteriors"
   ]
  },
  {
   "cell_type": "code",
   "execution_count": null,
   "metadata": {},
   "outputs": [],
   "source": [
    "# fashion MNIST or SVHN or CIFAR or CatsVsDogs (FashionMNIST) - N>2 classes"
   ]
  },
  {
   "cell_type": "code",
   "execution_count": null,
   "metadata": {},
   "outputs": [],
   "source": [
    "# use homicide data (real data) ??"
   ]
  },
  {
   "cell_type": "code",
   "execution_count": 1,
   "metadata": {},
   "outputs": [],
   "source": [
    "# sampling 10 times for DeepConvRF case and plot same curves for DeepConvRF."
   ]
  },
  {
   "cell_type": "code",
   "execution_count": 2,
   "metadata": {},
   "outputs": [],
   "source": [
    "# plot loss for all mini bathces and not just epochs in CNN"
   ]
  },
  {
   "cell_type": "code",
   "execution_count": 4,
   "metadata": {},
   "outputs": [],
   "source": [
    "# capsule nets comparison"
   ]
  }
 ],
 "metadata": {
  "kernelspec": {
   "display_name": "Python 3",
   "language": "python",
   "name": "python3"
  },
  "language_info": {
   "codemirror_mode": {
    "name": "ipython",
    "version": 3
   },
   "file_extension": ".py",
   "mimetype": "text/x-python",
   "name": "python",
   "nbconvert_exporter": "python",
   "pygments_lexer": "ipython3",
   "version": "3.6.5"
  }
 },
 "nbformat": 4,
 "nbformat_minor": 2
}
