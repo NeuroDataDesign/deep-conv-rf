{
 "cells": [
  {
   "cell_type": "code",
   "execution_count": 1,
   "metadata": {},
   "outputs": [
    {
     "name": "stderr",
     "output_type": "stream",
     "text": [
      "/usr/local/var/pyenv/versions/py3/envs/ML/lib/python3.6/site-packages/sklearn/ensemble/weight_boosting.py:29: DeprecationWarning: numpy.core.umath_tests is an internal NumPy module and should not be imported. It will be removed in a future NumPy release.\n",
      "  from numpy.core.umath_tests import inner1d\n"
     ]
    }
   ],
   "source": [
    "# general imports\n",
    "import numpy as np\n",
    "from sklearn.ensemble import RandomForestClassifier\n",
    "from sklearn.metrics import accuracy_score\n",
    "from sklearn.metrics import confusion_matrix\n",
    "import torch"
   ]
  },
  {
   "cell_type": "code",
   "execution_count": 30,
   "metadata": {},
   "outputs": [],
   "source": [
    "# prepare MNIST data\n",
    "import torchvision.datasets as datasets\n",
    "\n",
    "# train data\n",
    "mnist_trainset = datasets.MNIST(root='./data', train=True, download=True, transform=None)\n",
    "mnist_train_images = mnist_trainset.train_data.numpy()[..., np.newaxis]\n",
    "mnist_train_labels = mnist_trainset.train_labels.numpy()\n",
    "\n",
    "# get only train images and labels for two classes: 3 and 8\n",
    "mnist_train_images_3_8 = np.concatenate([mnist_train_images[mnist_train_labels==3], mnist_train_images[mnist_train_labels==8]])\n",
    "mnist_train_labels_3_8 = np.concatenate([np.repeat(0, np.sum(mnist_train_labels==3)), np.repeat(1, np.sum(mnist_train_labels==8))])\n",
    "\n",
    "# test data\n",
    "mnist_testset = datasets.MNIST(root='./data', train=False, download=True, transform=None)\n",
    "mnist_test_images = mnist_testset.test_data.numpy()[..., np.newaxis]\n",
    "mnist_test_labels = mnist_testset.test_labels.numpy()\n",
    "\n",
    "# get only test images and labels for two classes: 3 and 8\n",
    "mnist_test_images_3_8 = np.concatenate([mnist_test_images[mnist_test_labels==3], mnist_test_images[mnist_test_labels==8]])\n",
    "mnist_test_labels_3_8 = np.concatenate([np.repeat(0, np.sum(mnist_test_labels==3)), np.repeat(1, np.sum(mnist_test_labels==8))])"
   ]
  },
  {
   "cell_type": "code",
   "execution_count": 32,
   "metadata": {},
   "outputs": [
    {
     "name": "stdout",
     "output_type": "stream",
     "text": [
      "Label: 0\n"
     ]
    },
    {
     "data": {
      "image/png": "[encoded data removed]",
      "text/plain": [
       "<Figure size 432x288 with 1 Axes>"
      ]
     },
     "metadata": {
      "needs_background": "light"
     },
     "output_type": "display_data"
    },
    {
     "name": "stdout",
     "output_type": "stream",
     "text": [
      "Label: 1\n"
     ]
    },
    {
     "data": {
      "image/png": "[encoded data removed]",
      "text/plain": [
       "<Figure size 432x288 with 1 Axes>"
      ]
     },
     "metadata": {
      "needs_background": "light"
     },
     "output_type": "display_data"
    }
   ],
   "source": [
    "# visualize data and labels\n",
    "import matplotlib.pyplot as plt\n",
    "%matplotlib inline\n",
    "\n",
    "# 3 (label 0)\n",
    "index = 3000\n",
    "print(\"Label:\", mnist_train_labels_3_8[index])\n",
    "plt.imshow(mnist_train_images_3_8[index].reshape(28, 28),cmap='gray')\n",
    "plt.show()\n",
    "\n",
    "# 8 (label 1)\n",
    "index = 8000\n",
    "print(\"Label:\", mnist_train_labels_3_8[index])\n",
    "plt.imshow(mnist_train_images_3_8[index].reshape(28, 28),cmap='gray')\n",
    "plt.show()"
   ]
  },
  {
   "cell_type": "code",
   "execution_count": 33,
   "metadata": {},
   "outputs": [
    {
     "data": {
      "text/plain": [
       "RandomForestClassifier(bootstrap=True, class_weight=None, criterion='gini',\n",
       "            max_depth=None, max_features='auto', max_leaf_nodes=None,\n",
       "            min_impurity_decrease=0.0, min_impurity_split=None,\n",
       "            min_samples_leaf=1, min_samples_split=2,\n",
       "            min_weight_fraction_leaf=0.0, n_estimators=10, n_jobs=1,\n",
       "            oob_score=False, random_state=None, verbose=0,\n",
       "            warm_start=False)"
      ]
     },
     "execution_count": 33,
     "metadata": {},
     "output_type": "execute_result"
    }
   ],
   "source": [
    "    # Naive Random Forest - by flattening the entire image\n",
    "# Train\n",
    "clf = RandomForestClassifier()\n",
    "clf.fit(mnist_train_images_3_8.reshape(-1, 28*28*1), mnist_train_labels_3_8)"
   ]
  },
  {
   "cell_type": "code",
   "execution_count": 34,
   "metadata": {},
   "outputs": [
    {
     "name": "stdout",
     "output_type": "stream",
     "text": [
      "Test Accuracy: 0.983366935483871\n",
      "Validation Confusion Matrix: \n",
      "[[993  17]\n",
      " [ 16 958]]\n"
     ]
    }
   ],
   "source": [
    "# Naive Random Forest - by flattening the entire image\n",
    "# Test\n",
    "mnist_test_preds_3_8 = clf.predict(mnist_test_images_3_8.reshape(-1, 28*28*1))\n",
    "print(\"Test Accuracy: \" + str(accuracy_score(mnist_test_labels_3_8, mnist_test_preds_3_8)))\n",
    "print(\"Validation Confusion Matrix: \\n\" + str(confusion_matrix(mnist_test_labels_3_8, mnist_test_preds_3_8)))"
   ]
  },
  {
   "cell_type": "code",
   "execution_count": 42,
   "metadata": {},
   "outputs": [],
   "source": [
    "# The Deep Convolution Random Forest class (for binary classification)\n",
    "class ConvRF(object):\n",
    "    def __init__(self, kernel_size=5, stride=2):\n",
    "        self.kernel_size = kernel_size\n",
    "        self.stride = stride\n",
    "        self.kernel_forests = None\n",
    "\n",
    "    def _convolve_chop(self, images, labels=None, flatten=False):\n",
    "\n",
    "        batch_size, in_dim, _, num_channels = images.shape\n",
    "\n",
    "        out_dim = int((in_dim - self.kernel_size) / self.stride) + 1  # calculate output dimensions\n",
    "\n",
    "        # create matrix to hold the chopped images\n",
    "        out_images = np.zeros((batch_size, out_dim, out_dim,\n",
    "                               self.kernel_size, self.kernel_size, num_channels))\n",
    "        out_labels = None\n",
    "\n",
    "        curr_y = out_y = 0\n",
    "        # move kernel vertically across the image\n",
    "        while curr_y + self.kernel_size <= in_dim:\n",
    "            curr_x = out_x = 0\n",
    "            # move kernel horizontally across the image\n",
    "            while curr_x + self.kernel_size <= in_dim:\n",
    "                # chop images\n",
    "                out_images[:, out_x, out_y] = images[:, curr_x:curr_x +\n",
    "                                                     self.kernel_size, curr_y:curr_y+self.kernel_size, :]\n",
    "                curr_x += self.stride\n",
    "                out_x += 1\n",
    "            curr_y += self.stride\n",
    "            out_y += 1\n",
    "\n",
    "        if flatten:\n",
    "            out_images = out_images.reshape(batch_size, out_dim, out_dim, -1)\n",
    "\n",
    "        if labels is not None:\n",
    "            out_labels = np.zeros((batch_size, out_dim, out_dim))\n",
    "            out_labels[:, ] = labels.reshape(-1, 1, 1)\n",
    "\n",
    "        return out_images, out_labels\n",
    "\n",
    "    def convolve_fit(self, images, labels):\n",
    "        num_channels = images.shape[-1]\n",
    "        sub_images, sub_labels = self._convolve_chop(images, labels=labels, flatten=True)\n",
    "\n",
    "        batch_size, out_dim, _, _ = sub_images.shape\n",
    "        self.kernel_forests = np.zeros((out_dim, out_dim), dtype=np.int).tolist()\n",
    "        convolved_image = np.zeros((images.shape[0], out_dim, out_dim, 1))\n",
    "        \n",
    "        for i in range(out_dim):\n",
    "            for j in range(out_dim):\n",
    "                self.kernel_forests[i][j] = RandomForestClassifier()\n",
    "                self.kernel_forests[i][j].fit(sub_images[:, i, j], sub_labels[:, i, j])\n",
    "                convolved_image[:, i, j] = self.kernel_forests[i][j].predict_proba(sub_images[:, i, j])[..., 1][..., np.newaxis]\n",
    "        return convolved_image\n",
    "\n",
    "    def convolve_predict(self, images):\n",
    "        if not self.kernel_forests:\n",
    "            raise Exception(\"Should fit training data before predicting\")\n",
    "\n",
    "        num_channels = images.shape[-1]\n",
    "        sub_images, _ = self._convolve_chop(images, flatten=True)\n",
    "\n",
    "        batch_size, out_dim, _, _ = sub_images.shape\n",
    "        \n",
    "        kernel_predictions = np.zeros((images.shape[0], out_dim, out_dim, 1))\n",
    "        \n",
    "        for i in range(out_dim):\n",
    "            for j in range(out_dim):\n",
    "                kernel_predictions[:, i, j] = self.kernel_forests[i][j].predict_proba(sub_images[:, i, j])[..., 1][..., np.newaxis]\n",
    "        return kernel_predictions"
   ]
  },
  {
   "cell_type": "code",
   "execution_count": 57,
   "metadata": {},
   "outputs": [
    {
     "name": "stdout",
     "output_type": "stream",
     "text": [
      "Experiment 1:\n",
      "No. of ConvRFs: 1\n",
      "Kernel Size: (3,3); Stride: 2\n",
      "Technique: Posteriors (fn: rf.predict_proba())\n",
      "ConvRF map output shape: (13, 13)\n",
      "Test Accuracy: 0.9611895161290323\n",
      "Validation Confusion Matrix: \n",
      "[[977  33]\n",
      " [ 44 930]]\n"
     ]
    }
   ],
   "source": [
    "##########################################################\n",
    "print(\"Experiment 1:\")\n",
    "print(\"No. of ConvRFs: 1\")\n",
    "print(\"Kernel Size: (3,3); Stride: 2\")\n",
    "print(\"Technique: Posteriors (fn: rf.predict_proba())\")\n",
    "## Train\n",
    "# ConvRF (layer 1)\n",
    "conv1 = ConvRF(kernel_size=3, stride=2)\n",
    "conv1_map = conv1.convolve_fit(mnist_train_images_3_8, mnist_train_labels_3_8)\n",
    "print(\"ConvRF map output shape:\", conv1_map.shape[1:-1])\n",
    "\n",
    "# Full RF\n",
    "conv1_full_RF = RandomForestClassifier()\n",
    "conv1_full_RF.fit(conv1_map.reshape(len(mnist_train_images_3_8), -1), mnist_train_labels_3_8)\n",
    "\n",
    "## Test (after ConvRF 1 and Full RF)\n",
    "conv1_map_test = conv1.convolve_predict(mnist_test_images_3_8)\n",
    "mnist_test_preds = conv1_full_RF.predict(conv1_map_test.reshape(len(mnist_test_images_3_8), -1))\n",
    "\n",
    "print(\"Test Accuracy: \" + str(accuracy_score(mnist_test_labels_3_8, mnist_test_preds)))\n",
    "print(\"Validation Confusion Matrix: \\n\" + str(confusion_matrix(mnist_test_labels_3_8, mnist_test_preds)))"
   ]
  },
  {
   "cell_type": "code",
   "execution_count": 58,
   "metadata": {},
   "outputs": [
    {
     "name": "stdout",
     "output_type": "stream",
     "text": [
      "Experiment 2:\n",
      "No. of ConvRFs: 1\n",
      "Kernel Size: (5,5); Stride: 2\n",
      "Technique: Posteriors (fn: rf.predict_proba())\n",
      "ConvRF map output shape: (12, 12)\n",
      "Test Accuracy: 0.983366935483871\n",
      "Validation Confusion Matrix: \n",
      "[[997  13]\n",
      " [ 20 954]]\n"
     ]
    }
   ],
   "source": [
    "##########################################################\n",
    "print(\"Experiment 2:\")\n",
    "print(\"No. of ConvRFs: 1\")\n",
    "print(\"Kernel Size: (5,5); Stride: 2\")\n",
    "print(\"Technique: Posteriors (fn: rf.predict_proba())\")\n",
    "## Train\n",
    "# ConvRF (layer 1)\n",
    "conv1 = ConvRF(kernel_size=5, stride=2)\n",
    "conv1_map = conv1.convolve_fit(mnist_train_images_3_8, mnist_train_labels_3_8)\n",
    "print(\"ConvRF map output shape:\", conv1_map.shape[1:-1])\n",
    "\n",
    "# Full RF\n",
    "conv1_full_RF = RandomForestClassifier()\n",
    "conv1_full_RF.fit(conv1_map.reshape(len(mnist_train_images_3_8), -1), mnist_train_labels_3_8)\n",
    "\n",
    "## Test (after ConvRF 1 and Full RF)\n",
    "conv1_map_test = conv1.convolve_predict(mnist_test_images_3_8)\n",
    "mnist_test_preds = conv1_full_RF.predict(conv1_map_test.reshape(len(mnist_test_images_3_8), -1))\n",
    "\n",
    "print(\"Test Accuracy: \" + str(accuracy_score(mnist_test_labels_3_8, mnist_test_preds)))\n",
    "print(\"Validation Confusion Matrix: \\n\" + str(confusion_matrix(mnist_test_labels_3_8, mnist_test_preds)))"
   ]
  },
  {
   "cell_type": "code",
   "execution_count": 59,
   "metadata": {},
   "outputs": [
    {
     "name": "stdout",
     "output_type": "stream",
     "text": [
      "Experiment 3:\n",
      "No. of ConvRFs: 1\n",
      "Kernel Size: (10,10); Stride: 2\n",
      "Technique: Posteriors (fn: rf.predict_proba())\n",
      "ConvRF map output shape: (10, 10)\n",
      "Test Accuracy: 0.9949596774193549\n",
      "Validation Confusion Matrix: \n",
      "[[1003    7]\n",
      " [   3  971]]\n"
     ]
    }
   ],
   "source": [
    "##########################################################\n",
    "print(\"Experiment 3:\")\n",
    "print(\"No. of ConvRFs: 1\")\n",
    "print(\"Kernel Size: (10,10); Stride: 2\")\n",
    "print(\"Technique: Posteriors (fn: rf.predict_proba())\")\n",
    "## Train\n",
    "# ConvRF (layer 1)\n",
    "conv1 = ConvRF(kernel_size=10, stride=2)\n",
    "conv1_map = conv1.convolve_fit(mnist_train_images_3_8, mnist_train_labels_3_8)\n",
    "print(\"ConvRF map output shape:\", conv1_map.shape[1:-1])\n",
    "\n",
    "# Full RF\n",
    "conv1_full_RF = RandomForestClassifier()\n",
    "conv1_full_RF.fit(conv1_map.reshape(len(mnist_train_images_3_8), -1), mnist_train_labels_3_8)\n",
    "\n",
    "## Test (after ConvRF 1 and Full RF)\n",
    "conv1_map_test = conv1.convolve_predict(mnist_test_images_3_8)\n",
    "mnist_test_preds = conv1_full_RF.predict(conv1_map_test.reshape(len(mnist_test_images_3_8), -1))\n",
    "\n",
    "print(\"Test Accuracy: \" + str(accuracy_score(mnist_test_labels_3_8, mnist_test_preds)))\n",
    "print(\"Validation Confusion Matrix: \\n\" + str(confusion_matrix(mnist_test_labels_3_8, mnist_test_preds)))"
   ]
  },
  {
   "cell_type": "code",
   "execution_count": 60,
   "metadata": {},
   "outputs": [
    {
     "name": "stdout",
     "output_type": "stream",
     "text": [
      "Experiment 4:\n",
      "No. of ConvRFs: 1\n",
      "Kernel Size: (15,15); Stride: 2\n",
      "Technique: Posteriors (fn: rf.predict_proba())\n",
      "(11982, 7, 7, 1)\n",
      "ConvRF map output shape: (7, 7)\n",
      "Test Accuracy: 0.9884072580645161\n",
      "Validation Confusion Matrix: \n",
      "[[999  11]\n",
      " [ 12 962]]\n"
     ]
    }
   ],
   "source": [
    "##########################################################\n",
    "print(\"Experiment 4:\")\n",
    "print(\"No. of ConvRFs: 1\")\n",
    "print(\"Kernel Size: (15,15); Stride: 2\")\n",
    "print(\"Technique: Posteriors (fn: rf.predict_proba())\")\n",
    "## Train\n",
    "# ConvRF (layer 1)\n",
    "conv1 = ConvRF(kernel_size=15, stride=2)\n",
    "conv1_map = conv1.convolve_fit(mnist_train_images_3_8, mnist_train_labels_3_8)\n",
    "print(conv1_map.shape)\n",
    "print(\"ConvRF map output shape:\", conv1_map.shape[1:-1])\n",
    "\n",
    "# Full RF\n",
    "conv1_full_RF = RandomForestClassifier()\n",
    "conv1_full_RF.fit(conv1_map.reshape(len(mnist_train_images_3_8), -1), mnist_train_labels_3_8)\n",
    "\n",
    "## Test (after ConvRF 1 and Full RF)\n",
    "conv1_map_test = conv1.convolve_predict(mnist_test_images_3_8)\n",
    "mnist_test_preds = conv1_full_RF.predict(conv1_map_test.reshape(len(mnist_test_images_3_8), -1))\n",
    "\n",
    "print(\"Test Accuracy: \" + str(accuracy_score(mnist_test_labels_3_8, mnist_test_preds)))\n",
    "print(\"Validation Confusion Matrix: \\n\" + str(confusion_matrix(mnist_test_labels_3_8, mnist_test_preds)))"
   ]
  },
  {
   "cell_type": "code",
   "execution_count": 70,
   "metadata": {},
   "outputs": [
    {
     "name": "stdout",
     "output_type": "stream",
     "text": [
      "Experiment 5:\n",
      "No. of ConvRFs: 2\n",
      "ConvRF 1 -> Kernel Size: (10,10); Stride: 2\n",
      "ConvRF 2 -> Kernel Size: (3,3); Stride: 1\n",
      "Technique: Posteriors (fn: rf.predict_proba())\n",
      "ConvRF 1 map output shape: (10, 10)\n",
      "ConvRF 2 map output shape: (8, 8)\n",
      "Test Accuracy: 0.9773185483870968\n",
      "Validation Confusion Matrix: \n",
      "[[1001    9]\n",
      " [  36  938]]\n"
     ]
    }
   ],
   "source": [
    "##########################################################\n",
    "print(\"Experiment 5:\")\n",
    "print(\"No. of ConvRFs: 2\")\n",
    "print(\"ConvRF 1 -> Kernel Size: (10,10); Stride: 2\") \n",
    "print(\"ConvRF 2 -> Kernel Size: (3,3); Stride: 1\") \n",
    "print(\"Technique: Posteriors (fn: rf.predict_proba())\")\n",
    "\n",
    "## Train\n",
    "# ConvRF (layer 1)\n",
    "conv1 = ConvRF(kernel_size=10, stride=2)\n",
    "conv1_map = conv1.convolve_fit(mnist_train_images_3_8, mnist_train_labels_3_8)\n",
    "print(\"ConvRF 1 map output shape:\", conv1_map.shape[1:-1])\n",
    "\n",
    "# ConvRF (layer 2)\n",
    "conv2 = ConvRF(kernel_size=3, stride=1)\n",
    "conv2_map = conv2.convolve_fit(conv1_map, mnist_train_labels_3_8)\n",
    "print(\"ConvRF 2 map output shape:\", conv2_map.shape[1:-1])\n",
    "\n",
    "# Full RF\n",
    "conv2_full_RF = RandomForestClassifier()\n",
    "conv2_full_RF.fit(conv2_map.reshape(len(mnist_train_images_3_8), -1), mnist_train_labels_3_8)\n",
    "\n",
    "## Test (after ConvRF 1, ConvRF 2 and Full RF)\n",
    "conv1_map_test = conv1.convolve_predict(mnist_test_images_3_8)\n",
    "conv2_map_test = conv2.convolve_predict(conv1_map_test)\n",
    "mnist_test_preds = conv2_full_RF.predict(conv2_map_test.reshape(len(mnist_test_images_3_8), -1))\n",
    "\n",
    "\n",
    "print(\"Test Accuracy: \" + str(accuracy_score(mnist_test_labels_3_8, mnist_test_preds)))\n",
    "print(\"Validation Confusion Matrix: \\n\" + str(confusion_matrix(mnist_test_labels_3_8, mnist_test_preds)))"
   ]
  },
  {
   "cell_type": "code",
   "execution_count": 71,
   "metadata": {},
   "outputs": [
    {
     "name": "stdout",
     "output_type": "stream",
     "text": [
      "Experiment 6:\n",
      "No. of ConvRFs: 2\n",
      "ConvRF 1 -> Kernel Size: (10,10); Stride: 2\n",
      "ConvRF 2 -> Kernel Size: (3,3); Stride: 2\n",
      "Technique: Posteriors (fn: rf.predict_proba())\n",
      "ConvRF 1 map output shape: (10, 10)\n",
      "ConvRF 2 map output shape: (4, 4)\n",
      "Test Accuracy: 0.9924395161290323\n",
      "Validation Confusion Matrix: \n",
      "[[1002    8]\n",
      " [   7  967]]\n"
     ]
    }
   ],
   "source": [
    "##########################################################\n",
    "print(\"Experiment 6:\")\n",
    "print(\"No. of ConvRFs: 2\")\n",
    "print(\"ConvRF 1 -> Kernel Size: (10,10); Stride: 2\") \n",
    "print(\"ConvRF 2 -> Kernel Size: (3,3); Stride: 2\") \n",
    "print(\"Technique: Posteriors (fn: rf.predict_proba())\")\n",
    "\n",
    "## Train\n",
    "# ConvRF (layer 1)\n",
    "conv1 = ConvRF(kernel_size=10, stride=2)\n",
    "conv1_map = conv1.convolve_fit(mnist_train_images_3_8, mnist_train_labels_3_8)\n",
    "print(\"ConvRF 1 map output shape:\", conv1_map.shape[1:-1])\n",
    "\n",
    "# ConvRF (layer 2)\n",
    "conv2 = ConvRF(kernel_size=3, stride=2)\n",
    "conv2_map = conv2.convolve_fit(conv1_map, mnist_train_labels_3_8)\n",
    "print(\"ConvRF 2 map output shape:\", conv2_map.shape[1:-1])\n",
    "\n",
    "# Full RF\n",
    "conv2_full_RF = RandomForestClassifier()\n",
    "conv2_full_RF.fit(conv2_map.reshape(len(mnist_train_images_3_8), -1), mnist_train_labels_3_8)\n",
    "\n",
    "## Test (after ConvRF 1, ConvRF 2 and Full RF)\n",
    "conv1_map_test = conv1.convolve_predict(mnist_test_images_3_8)\n",
    "conv2_map_test = conv2.convolve_predict(conv1_map_test)\n",
    "mnist_test_preds = conv2_full_RF.predict(conv2_map_test.reshape(len(mnist_test_images_3_8), -1))\n",
    "\n",
    "\n",
    "print(\"Test Accuracy: \" + str(accuracy_score(mnist_test_labels_3_8, mnist_test_preds)))\n",
    "print(\"Validation Confusion Matrix: \\n\" + str(confusion_matrix(mnist_test_labels_3_8, mnist_test_preds)))"
   ]
  },
  {
   "cell_type": "code",
   "execution_count": 69,
   "metadata": {},
   "outputs": [
    {
     "name": "stdout",
     "output_type": "stream",
     "text": [
      "Experiment 6:\n",
      "No. of ConvRFs: 2\n",
      "ConvRF 1 -> Kernel Size: (10,10); Stride: 2\n",
      "ConvRF 2 -> Kernel Size: (5,5); Stride: 1\n",
      "Technique: Posteriors (fn: rf.predict_proba())\n",
      "ConvRF 1 map output shape: (10, 10)\n",
      "ConvRF 2 map output shape: (6, 6)\n",
      "Test Accuracy: 0.9894153225806451\n",
      "Validation Confusion Matrix: \n",
      "[[1004    6]\n",
      " [  15  959]]\n"
     ]
    }
   ],
   "source": [
    "##########################################################\n",
    "print(\"Experiment 6:\")\n",
    "print(\"No. of ConvRFs: 2\")\n",
    "print(\"ConvRF 1 -> Kernel Size: (10,10); Stride: 2\") \n",
    "print(\"ConvRF 2 -> Kernel Size: (5,5); Stride: 1\") \n",
    "print(\"Technique: Posteriors (fn: rf.predict_proba())\")\n",
    "\n",
    "## Train\n",
    "# ConvRF (layer 1)\n",
    "conv1 = ConvRF(kernel_size=10, stride=2)\n",
    "conv1_map = conv1.convolve_fit(mnist_train_images_3_8, mnist_train_labels_3_8)\n",
    "print(\"ConvRF 1 map output shape:\", conv1_map.shape[1:-1])\n",
    "\n",
    "# ConvRF (layer 2)\n",
    "conv2 = ConvRF(kernel_size=5, stride=1)\n",
    "conv2_map = conv2.convolve_fit(conv1_map, mnist_train_labels_3_8)\n",
    "print(\"ConvRF 2 map output shape:\", conv2_map.shape[1:-1])\n",
    "\n",
    "# Full RF\n",
    "conv2_full_RF = RandomForestClassifier()\n",
    "conv2_full_RF.fit(conv2_map.reshape(len(mnist_train_images_3_8), -1), mnist_train_labels_3_8)\n",
    "\n",
    "## Test (after ConvRF 1, ConvRF 2 and Full RF)\n",
    "conv1_map_test = conv1.convolve_predict(mnist_test_images_3_8)\n",
    "conv2_map_test = conv2.convolve_predict(conv1_map_test)\n",
    "mnist_test_preds = conv2_full_RF.predict(conv2_map_test.reshape(len(mnist_test_images_3_8), -1))\n",
    "\n",
    "\n",
    "print(\"Test Accuracy: \" + str(accuracy_score(mnist_test_labels_3_8, mnist_test_preds)))\n",
    "print(\"Validation Confusion Matrix: \\n\" + str(confusion_matrix(mnist_test_labels_3_8, mnist_test_preds)))"
   ]
  },
  {
   "cell_type": "code",
   "execution_count": 72,
   "metadata": {},
   "outputs": [
    {
     "name": "stdout",
     "output_type": "stream",
     "text": [
      "Experiment 7:\n",
      "No. of ConvRFs: 2\n",
      "ConvRF 1 -> Kernel Size: (10,10); Stride: 2\n",
      "ConvRF 2 -> Kernel Size: (5,5); Stride: 2\n",
      "Technique: Posteriors (fn: rf.predict_proba())\n",
      "ConvRF 1 map output shape: (10, 10)\n",
      "ConvRF 2 map output shape: (3, 3)\n",
      "Test Accuracy: 0.9919354838709677\n",
      "Validation Confusion Matrix: \n",
      "[[1000   10]\n",
      " [   6  968]]\n"
     ]
    }
   ],
   "source": [
    "##########################################################\n",
    "print(\"Experiment 7:\")\n",
    "print(\"No. of ConvRFs: 2\")\n",
    "print(\"ConvRF 1 -> Kernel Size: (10,10); Stride: 2\") \n",
    "print(\"ConvRF 2 -> Kernel Size: (5,5); Stride: 2\") \n",
    "print(\"Technique: Posteriors (fn: rf.predict_proba())\")\n",
    "\n",
    "## Train\n",
    "# ConvRF (layer 1)\n",
    "conv1 = ConvRF(kernel_size=10, stride=2)\n",
    "conv1_map = conv1.convolve_fit(mnist_train_images_3_8, mnist_train_labels_3_8)\n",
    "print(\"ConvRF 1 map output shape:\", conv1_map.shape[1:-1])\n",
    "\n",
    "# ConvRF (layer 2)\n",
    "conv2 = ConvRF(kernel_size=5, stride=2)\n",
    "conv2_map = conv2.convolve_fit(conv1_map, mnist_train_labels_3_8)\n",
    "print(\"ConvRF 2 map output shape:\", conv2_map.shape[1:-1])\n",
    "\n",
    "# Full RF\n",
    "conv2_full_RF = RandomForestClassifier()\n",
    "conv2_full_RF.fit(conv2_map.reshape(len(mnist_train_images_3_8), -1), mnist_train_labels_3_8)\n",
    "\n",
    "## Test (after ConvRF 1, ConvRF 2 and Full RF)\n",
    "conv1_map_test = conv1.convolve_predict(mnist_test_images_3_8)\n",
    "conv2_map_test = conv2.convolve_predict(conv1_map_test)\n",
    "mnist_test_preds = conv2_full_RF.predict(conv2_map_test.reshape(len(mnist_test_images_3_8), -1))\n",
    "\n",
    "\n",
    "print(\"Test Accuracy: \" + str(accuracy_score(mnist_test_labels_3_8, mnist_test_preds)))\n",
    "print(\"Validation Confusion Matrix: \\n\" + str(confusion_matrix(mnist_test_labels_3_8, mnist_test_preds)))"
   ]
  },
  {
   "cell_type": "code",
   "execution_count": 73,
   "metadata": {},
   "outputs": [
    {
     "name": "stdout",
     "output_type": "stream",
     "text": [
      "Experiment 8:\n",
      "No. of ConvRFs: 2\n",
      "ConvRF 1 -> Kernel Size: (10,10); Stride: 2\n",
      "ConvRF 2 -> Kernel Size: (7,7); Stride: 1\n",
      "Technique: Posteriors (fn: rf.predict_proba())\n",
      "ConvRF 1 map output shape: (10, 10)\n",
      "ConvRF 2 map output shape: (4, 4)\n",
      "Test Accuracy: 0.9954637096774194\n",
      "Validation Confusion Matrix: \n",
      "[[1005    5]\n",
      " [   4  970]]\n"
     ]
    }
   ],
   "source": [
    "##########################################################\n",
    "print(\"Experiment 8:\")\n",
    "print(\"No. of ConvRFs: 2\")\n",
    "print(\"ConvRF 1 -> Kernel Size: (10,10); Stride: 2\") \n",
    "print(\"ConvRF 2 -> Kernel Size: (7,7); Stride: 1\") \n",
    "print(\"Technique: Posteriors (fn: rf.predict_proba())\")\n",
    "\n",
    "## Train\n",
    "# ConvRF (layer 1)\n",
    "conv1 = ConvRF(kernel_size=10, stride=2)\n",
    "conv1_map = conv1.convolve_fit(mnist_train_images_3_8, mnist_train_labels_3_8)\n",
    "print(\"ConvRF 1 map output shape:\", conv1_map.shape[1:-1])\n",
    "\n",
    "# ConvRF (layer 2)\n",
    "conv2 = ConvRF(kernel_size=7, stride=1)\n",
    "conv2_map = conv2.convolve_fit(conv1_map, mnist_train_labels_3_8)\n",
    "print(\"ConvRF 2 map output shape:\", conv2_map.shape[1:-1])\n",
    "\n",
    "# Full RF\n",
    "conv2_full_RF = RandomForestClassifier()\n",
    "conv2_full_RF.fit(conv2_map.reshape(len(mnist_train_images_3_8), -1), mnist_train_labels_3_8)\n",
    "\n",
    "## Test (after ConvRF 1, ConvRF 2 and Full RF)\n",
    "conv1_map_test = conv1.convolve_predict(mnist_test_images_3_8)\n",
    "conv2_map_test = conv2.convolve_predict(conv1_map_test)\n",
    "mnist_test_preds = conv2_full_RF.predict(conv2_map_test.reshape(len(mnist_test_images_3_8), -1))\n",
    "\n",
    "\n",
    "print(\"Test Accuracy: \" + str(accuracy_score(mnist_test_labels_3_8, mnist_test_preds)))\n",
    "print(\"Validation Confusion Matrix: \\n\" + str(confusion_matrix(mnist_test_labels_3_8, mnist_test_preds)))"
   ]
  },
  {
   "cell_type": "code",
   "execution_count": 74,
   "metadata": {},
   "outputs": [
    {
     "name": "stdout",
     "output_type": "stream",
     "text": [
      "Experiment 9:\n",
      "No. of ConvRFs: 2\n",
      "ConvRF 1 -> Kernel Size: (10,10); Stride: 2\n",
      "ConvRF 2 -> Kernel Size: (7,7); Stride: 2\n",
      "Technique: Posteriors (fn: rf.predict_proba())\n",
      "ConvRF 1 map output shape: (10, 10)\n",
      "ConvRF 2 map output shape: (2, 2)\n",
      "Test Accuracy: 0.9879032258064516\n",
      "Validation Confusion Matrix: \n",
      "[[1002    8]\n",
      " [  16  958]]\n"
     ]
    }
   ],
   "source": [
    "##########################################################\n",
    "print(\"Experiment 9:\")\n",
    "print(\"No. of ConvRFs: 2\")\n",
    "print(\"ConvRF 1 -> Kernel Size: (10,10); Stride: 2\") \n",
    "print(\"ConvRF 2 -> Kernel Size: (7,7); Stride: 2\") \n",
    "print(\"Technique: Posteriors (fn: rf.predict_proba())\")\n",
    "\n",
    "## Train\n",
    "# ConvRF (layer 1)\n",
    "conv1 = ConvRF(kernel_size=10, stride=2)\n",
    "conv1_map = conv1.convolve_fit(mnist_train_images_3_8, mnist_train_labels_3_8)\n",
    "print(\"ConvRF 1 map output shape:\", conv1_map.shape[1:-1])\n",
    "\n",
    "# ConvRF (layer 2)\n",
    "conv2 = ConvRF(kernel_size=7, stride=2)\n",
    "conv2_map = conv2.convolve_fit(conv1_map, mnist_train_labels_3_8)\n",
    "print(\"ConvRF 2 map output shape:\", conv2_map.shape[1:-1])\n",
    "\n",
    "# Full RF\n",
    "conv2_full_RF = RandomForestClassifier()\n",
    "conv2_full_RF.fit(conv2_map.reshape(len(mnist_train_images_3_8), -1), mnist_train_labels_3_8)\n",
    "\n",
    "## Test (after ConvRF 1, ConvRF 2 and Full RF)\n",
    "conv1_map_test = conv1.convolve_predict(mnist_test_images_3_8)\n",
    "conv2_map_test = conv2.convolve_predict(conv1_map_test)\n",
    "mnist_test_preds = conv2_full_RF.predict(conv2_map_test.reshape(len(mnist_test_images_3_8), -1))\n",
    "\n",
    "\n",
    "print(\"Test Accuracy: \" + str(accuracy_score(mnist_test_labels_3_8, mnist_test_preds)))\n",
    "print(\"Validation Confusion Matrix: \\n\" + str(confusion_matrix(mnist_test_labels_3_8, mnist_test_preds)))"
   ]
  },
  {
   "cell_type": "code",
   "execution_count": 77,
   "metadata": {},
   "outputs": [
    {
     "name": "stdout",
     "output_type": "stream",
     "text": [
      "Experiment 10:\n",
      "No. of ConvRFs: 3\n",
      "ConvRF 1 -> Kernel Size: (10,10); Stride: 2\n",
      "ConvRF 2 -> Kernel Size: (7,7); Stride: 1\n",
      "ConvRF 3 -> Kernel Size: (2,2); Stride: 1\n",
      "Technique: Posteriors (fn: rf.predict_proba())\n",
      "ConvRF 1 map output shape: (10, 10)\n",
      "ConvRF 2 map output shape: (4, 4)\n",
      "ConvRF 3 map output shape: (3, 3)\n",
      "Test Accuracy: 0.9954637096774194\n",
      "Validation Confusion Matrix: \n",
      "[[1005    5]\n",
      " [   4  970]]\n"
     ]
    }
   ],
   "source": [
    "##########################################################\n",
    "print(\"Experiment 10:\")\n",
    "print(\"No. of ConvRFs: 3\")\n",
    "print(\"ConvRF 1 -> Kernel Size: (10,10); Stride: 2\") \n",
    "print(\"ConvRF 2 -> Kernel Size: (7,7); Stride: 1\") \n",
    "print(\"ConvRF 3 -> Kernel Size: (2,2); Stride: 1\") \n",
    "print(\"Technique: Posteriors (fn: rf.predict_proba())\")\n",
    "\n",
    "## Train\n",
    "# ConvRF (layer 1)\n",
    "conv1 = ConvRF(kernel_size=10, stride=2)\n",
    "conv1_map = conv1.convolve_fit(mnist_train_images_3_8, mnist_train_labels_3_8)\n",
    "print(\"ConvRF 1 map output shape:\", conv1_map.shape[1:-1])\n",
    "\n",
    "# ConvRF (layer 2)\n",
    "conv2 = ConvRF(kernel_size=7, stride=1)\n",
    "conv2_map = conv2.convolve_fit(conv1_map, mnist_train_labels_3_8)\n",
    "print(\"ConvRF 2 map output shape:\", conv2_map.shape[1:-1])\n",
    "\n",
    "# ConvRF (layer 3)\n",
    "conv3 = ConvRF(kernel_size=2, stride=1)\n",
    "conv3_map = conv3.convolve_fit(conv2_map, mnist_train_labels_3_8)\n",
    "print(\"ConvRF 3 map output shape:\", conv3_map.shape[1:-1])\n",
    "\n",
    "# Full RF\n",
    "conv3_full_RF = RandomForestClassifier()\n",
    "conv3_full_RF.fit(conv3_map.reshape(len(mnist_train_images_3_8), -1), mnist_train_labels_3_8)\n",
    "\n",
    "## Test (after ConvRF 1, ConvRF 2, ConvRF 3 and Full RF)\n",
    "conv1_map_test = conv1.convolve_predict(mnist_test_images_3_8)\n",
    "conv2_map_test = conv2.convolve_predict(conv1_map_test)\n",
    "conv3_map_test = conv3.convolve_predict(conv2_map_test)\n",
    "mnist_test_preds = conv3_full_RF.predict(conv3_map_test.reshape(len(mnist_test_images_3_8), -1))\n",
    "\n",
    "print(\"Test Accuracy: \" + str(accuracy_score(mnist_test_labels_3_8, mnist_test_preds)))\n",
    "print(\"Validation Confusion Matrix: \\n\" + str(confusion_matrix(mnist_test_labels_3_8, mnist_test_preds)))"
   ]
  },
  {
   "cell_type": "code",
   "execution_count": 78,
   "metadata": {},
   "outputs": [
    {
     "name": "stdout",
     "output_type": "stream",
     "text": [
      "Experiment 11:\n",
      "No. of ConvRFs: 3\n",
      "ConvRF 1 -> Kernel Size: (10,10); Stride: 2\n",
      "ConvRF 2 -> Kernel Size: (7,7); Stride: 1\n",
      "ConvRF 3 -> Kernel Size: (3,3); Stride: 1\n",
      "Technique: Posteriors (fn: rf.predict_proba())\n",
      "ConvRF 1 map output shape: (10, 10)\n",
      "ConvRF 2 map output shape: (4, 4)\n",
      "ConvRF 3 map output shape: (2, 2)\n",
      "Test Accuracy: 0.9934475806451613\n",
      "Validation Confusion Matrix: \n",
      "[[1004    6]\n",
      " [   7  967]]\n"
     ]
    }
   ],
   "source": [
    "##########################################################\n",
    "print(\"Experiment 11:\")\n",
    "print(\"No. of ConvRFs: 3\")\n",
    "print(\"ConvRF 1 -> Kernel Size: (10,10); Stride: 2\") \n",
    "print(\"ConvRF 2 -> Kernel Size: (7,7); Stride: 1\") \n",
    "print(\"ConvRF 3 -> Kernel Size: (3,3); Stride: 1\") \n",
    "print(\"Technique: Posteriors (fn: rf.predict_proba())\")\n",
    "\n",
    "## Train\n",
    "# ConvRF (layer 1)\n",
    "conv1 = ConvRF(kernel_size=10, stride=2)\n",
    "conv1_map = conv1.convolve_fit(mnist_train_images_3_8, mnist_train_labels_3_8)\n",
    "print(\"ConvRF 1 map output shape:\", conv1_map.shape[1:-1])\n",
    "\n",
    "# ConvRF (layer 2)\n",
    "conv2 = ConvRF(kernel_size=7, stride=1)\n",
    "conv2_map = conv2.convolve_fit(conv1_map, mnist_train_labels_3_8)\n",
    "print(\"ConvRF 2 map output shape:\", conv2_map.shape[1:-1])\n",
    "\n",
    "# ConvRF (layer 3)\n",
    "conv3 = ConvRF(kernel_size=3, stride=1)\n",
    "conv3_map = conv3.convolve_fit(conv2_map, mnist_train_labels_3_8)\n",
    "print(\"ConvRF 3 map output shape:\", conv3_map.shape[1:-1])\n",
    "\n",
    "# Full RF\n",
    "conv3_full_RF = RandomForestClassifier()\n",
    "conv3_full_RF.fit(conv3_map.reshape(len(mnist_train_images_3_8), -1), mnist_train_labels_3_8)\n",
    "\n",
    "## Test (after ConvRF 1, ConvRF 2, ConvRF 3 and Full RF)\n",
    "conv1_map_test = conv1.convolve_predict(mnist_test_images_3_8)\n",
    "conv2_map_test = conv2.convolve_predict(conv1_map_test)\n",
    "conv3_map_test = conv3.convolve_predict(conv2_map_test)\n",
    "mnist_test_preds = conv3_full_RF.predict(conv3_map_test.reshape(len(mnist_test_images_3_8), -1))\n",
    "\n",
    "print(\"Test Accuracy: \" + str(accuracy_score(mnist_test_labels_3_8, mnist_test_preds)))\n",
    "print(\"Validation Confusion Matrix: \\n\" + str(confusion_matrix(mnist_test_labels_3_8, mnist_test_preds)))"
   ]
  },
  {
   "cell_type": "code",
   "execution_count": null,
   "metadata": {},
   "outputs": [],
   "source": []
  }
 ],
 "metadata": {
  "kernelspec": {
   "display_name": "Python 3",
   "language": "python",
   "name": "python3"
  },
  "language_info": {
   "codemirror_mode": {
    "name": "ipython",
    "version": 3
   },
   "file_extension": ".py",
   "mimetype": "text/x-python",
   "name": "python",
   "nbconvert_exporter": "python",
   "pygments_lexer": "ipython3",
   "version": "3.6.5"
  }
 },
 "nbformat": 4,
 "nbformat_minor": 2
}
